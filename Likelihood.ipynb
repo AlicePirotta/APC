{
 "cells": [
  {
   "cell_type": "code",
   "execution_count": 1,
   "metadata": {},
   "outputs": [],
   "source": [
    "\n",
    "%load_ext autoreload\n",
    "%autoreload 2\n",
    "%matplotlib inline\n",
    "import warnings\n",
    "warnings.filterwarnings(\"ignore\")\n"
   ]
  },
  {
   "cell_type": "code",
   "execution_count": 2,
   "metadata": {},
   "outputs": [],
   "source": [
    "\n",
    "import numpy as np\n",
    "import matplotlib.pyplot as plt\n",
    "from fgbuster import CMB, Dust, Synchrotron, MixingMatrix\n",
    "from fgbuster.observation_helpers import standardize_instrument, get_observation\n",
    "from scipy.optimize import minimize\n",
    "import matplotlib.pyplot as plt\n",
    "import healpy as hp\n",
    "import numdifftools as nd\n",
    "import math as m"
   ]
  },
  {
   "cell_type": "code",
   "execution_count": 3,
   "metadata": {},
   "outputs": [],
   "source": [
    "instr = np.load('/Users/alicepirotta/Desktop/APC/MCMC/instrument_LB_IMOv1.npy', allow_pickle=True).item()\n",
    "instr_ = {}\n",
    "instr_['frequency'] = np.array([instr[f]['freq'] for f in instr.keys()])\n",
    "instr_['depth_p'] = np.array([instr[f]['P_sens'] for f in instr.keys()])\n",
    "instr_['fwhm'] = np.array([instr[f]['beam'] for f in instr.keys()])\n",
    "instr_['depth_i'] = instr_['depth_p']/np.sqrt(2)\n",
    "instrument = standardize_instrument(instr_)\n"
   ]
  },
  {
   "cell_type": "code",
   "execution_count": 4,
   "metadata": {},
   "outputs": [
    {
     "name": "stderr",
     "output_type": "stream",
     "text": [
      "OMP: Info #276: omp_set_nested routine deprecated, please use omp_set_max_active_levels instead.\n"
     ]
    }
   ],
   "source": [
    "nside = 4\n",
    "freq_maps = get_observation(instrument, 'd0s0', noise=True, nside=nside)\n"
   ]
  },
  {
   "cell_type": "code",
   "execution_count": 5,
   "metadata": {},
   "outputs": [],
   "source": [
    "\n",
    "components= [CMB(), Dust(50.), Synchrotron(50.)]"
   ]
  },
  {
   "cell_type": "code",
   "execution_count": 6,
   "metadata": {},
   "outputs": [],
   "source": [
    "\n",
    "A = MixingMatrix(*components)\n",
    "A_ev = A.evaluator(instrument.frequency)\n",
    "#invN=np.linalg.inv(np.eye(len(instrument.frequency)))\n",
    "invN = np.diag((hp.nside2resol(nside, arcmin=True) / instrument.depth_p)**2)"
   ]
  },
  {
   "attachments": {},
   "cell_type": "markdown",
   "metadata": {},
   "source": [
    "LIKELIHOOD WITHOUT GAIN"
   ]
  },
  {
   "cell_type": "code",
   "execution_count": 7,
   "metadata": {},
   "outputs": [],
   "source": [
    "def spectral_likelihood(x):\n",
    "    invNd = np.einsum('ij,jsp->isp', invN, freq_maps)\n",
    "    A_maxL =A_ev(x) \n",
    "    logL = 0\n",
    "    AtNd= np.einsum('ji,jsp->isp', A_maxL, invNd)\n",
    "    AtNA = np.linalg.inv(A_maxL.T.dot(invN).dot(A_maxL))\n",
    "    logL = logL + np.einsum('isp,ij,jsp->', AtNd, AtNA, AtNd)\n",
    "    #print(x,logL)\n",
    "    if logL != logL:\n",
    "        return 0.0\n",
    "    return -logL"
   ]
  },
  {
   "cell_type": "code",
   "execution_count": 8,
   "metadata": {},
   "outputs": [
    {
     "name": "stdout",
     "output_type": "stream",
     "text": [
      "          message: `xtol` termination condition is satisfied.\n",
      "          success: True\n",
      "           status: 2\n",
      "              fun: -31595812176274.74\n",
      "                x: [ 1.457e+00  2.440e+01 -7.232e-01]\n",
      "              nit: 62\n",
      "             nfev: 248\n",
      "             njev: 62\n",
      "             nhev: 0\n",
      "         cg_niter: 161\n",
      "     cg_stop_cond: 2\n",
      "             grad: [ 3.106e+08  8.057e+05 -8.677e+07]\n",
      "  lagrangian_grad: [ 3.106e+08  8.057e+05 -8.677e+07]\n",
      "           constr: []\n",
      "              jac: []\n",
      "      constr_nfev: []\n",
      "      constr_njev: []\n",
      "      constr_nhev: []\n",
      "                v: []\n",
      "           method: equality_constrained_sqp\n",
      "       optimality: 310596254.0298217\n",
      " constr_violation: 0\n",
      "   execution_time: 0.24312615394592285\n",
      "        tr_radius: 4.4945570909998425e-09\n",
      "   constr_penalty: 1.0\n",
      "            niter: 62\n",
      "[ 1.45674823 24.4016673  -0.72317264]\n"
     ]
    }
   ],
   "source": [
    "x0 =np.array([1.6,30,-7]) \n",
    "x1 = np.random.uniform(low=[x0[0] * (1 - 1 / 40), x0[1] * (1 - 1 / 40), x0[2] * (1 - 1 / 40)], high=[x0[0] * (1 + 1 / 40), x0[1] * (1 + 1 / 40), x0[2] * (1 + 1 / 40)], size=(len(x0)))\n",
    "\n",
    "min_= minimize (spectral_likelihood, x0, method='trust-constr')\n",
    "print(min_)\n",
    "print(min_.x)"
   ]
  },
  {
   "cell_type": "code",
   "execution_count": 9,
   "metadata": {},
   "outputs": [
    {
     "name": "stdout",
     "output_type": "stream",
     "text": [
      "[ 1.45674823 24.4016673  -0.72317264]\n"
     ]
    }
   ],
   "source": [
    "print(min_.x)"
   ]
  },
  {
   "cell_type": "code",
   "execution_count": 10,
   "metadata": {},
   "outputs": [],
   "source": [
    "# x0= np.array([1.54,20,-3])\n",
    "# invNd = np.einsum('ij,jsp->isp', invN, freq_maps)\n",
    "# A_maxL =A_ev(min_.x) \n",
    "# AtNd= np.einsum('ji,jsp->isp', A_maxL, invNd)\n",
    "# AtNA = np.linalg.inv(A_maxL.T.dot(invN).dot(A_maxL))\n",
    "# s = AtNA.dot(AtNd)\n",
    "# ps_CMB =hp.anafast(s[0])\n",
    "# #ps_CMB =hp.sphtfunc.anafast(s[0])\n",
    "# plt.loglog(ps_CMB)\n",
    "# print (ps_CMB.shape)\n",
    "# plt.xlabel(r'$\\ell$')\n",
    "\n"
   ]
  },
  {
   "cell_type": "code",
   "execution_count": 11,
   "metadata": {},
   "outputs": [],
   "source": [
    "# x0= np.array([1.54,20,-3])\n",
    "# invNd = np.einsum('ij,jsp->isp', invN, freq_maps)\n",
    "# A_maxL =A_ev(min_.x) \n",
    "# AtNd= np.einsum('ji,jsp->isp', A_maxL, invNd)\n",
    "# AtNA = np.linalg.inv(A_maxL.T.dot(invN).dot(A_maxL))\n",
    "# s = AtNA.dot(AtNd)\n",
    "\n",
    "# ps_CMB =hp.anafast(s[0])\n",
    "# ps_CMB=ps_CMB.T\n",
    "# ps_CMB=ps_CMB[2:,:]\n",
    "\n",
    "# ell = np.arange(2,192)\n",
    "\n",
    "# values = []\n",
    "# for i in range(len(ps_CMB[0,:])):\n",
    "#     y = (ell*(ell+1)*ps_CMB[:,i])/(2*m.pi)\n",
    "#     values.append(y)\n",
    "\n",
    "\n",
    "# plt.loglog(ell,values[0], label=\"TT\")\n",
    "# plt.loglog(ell,values[1], label=\"EE\")\n",
    "# plt.loglog(ell,values[2], label=\"BB\")\n",
    "# plt.loglog(ell,values[3], label=\"TE\")\n",
    "# plt.loglog(ell,values[4], label=\"EB\")\n",
    "# plt.loglog(ell,values[5], label=\"TB\")\n",
    "\n",
    "\n",
    "# plt.xlabel(r'$\\ell$')\n",
    "# plt.ylabel(r'$\\ell$* ($\\ell$+1)*C$\\ell$/2$\\pi$')\n",
    "# plt.legend()"
   ]
  },
  {
   "cell_type": "code",
   "execution_count": 12,
   "metadata": {},
   "outputs": [
    {
     "name": "stdout",
     "output_type": "stream",
     "text": [
      "-31568660090317.15\n"
     ]
    }
   ],
   "source": [
    "\n",
    "print(spectral_likelihood(x0))"
   ]
  },
  {
   "attachments": {},
   "cell_type": "markdown",
   "metadata": {},
   "source": [
    "hessian matrix"
   ]
  },
  {
   "cell_type": "code",
   "execution_count": 13,
   "metadata": {},
   "outputs": [
    {
     "name": "stdout",
     "output_type": "stream",
     "text": [
      "[[9.24011670e+11 2.51498740e+10 3.25418859e+09]\n",
      " [2.51498740e+10 6.91880777e+08 7.94323737e+07]\n",
      " [3.25418859e+09 7.94323737e+07 4.03067342e+07]]\n"
     ]
    }
   ],
   "source": [
    "H = nd.Hessian(spectral_likelihood)\n",
    "h = H([1.54, 20, -3])\n",
    "print(h)\n",
    "\n",
    "\n"
   ]
  },
  {
   "attachments": {},
   "cell_type": "markdown",
   "metadata": {},
   "source": [
    "eigen vector, eigen values"
   ]
  },
  {
   "cell_type": "code",
   "execution_count": 14,
   "metadata": {},
   "outputs": [],
   "source": [
    "# w, v = np.linalg.eig(h)\n",
    "# print(w,v)\n",
    "# plt.plot(v)"
   ]
  },
  {
   "attachments": {},
   "cell_type": "markdown",
   "metadata": {},
   "source": [
    "LIKELIHOOD WITH GAIN (1 variables, 1 fixed)"
   ]
  },
  {
   "cell_type": "code",
   "execution_count": 15,
   "metadata": {},
   "outputs": [],
   "source": [
    "def spectral_likelihood(y):\n",
    "    Bd, T, Bs, a = y\n",
    "    b = 1\n",
    "    G = np.diag([a,a,a,a,a,a,a,a,a,a,a,b,b,b,b,b,b,b,b,b,b,b])\n",
    "    invNd = np.einsum('ij,jsp->isp', invN, freq_maps)\n",
    "    A_maxL =G.dot(A_ev(np.array([Bd,T,Bs]))) \n",
    "    logL = 0\n",
    "    AtNd= np.einsum('ji,jsp->isp', A_maxL, invNd)\n",
    "    AtNA = np.linalg.inv(A_maxL.T.dot(invN).dot(A_maxL))\n",
    "    logL = logL + np.einsum('isp,ij,jsp->', AtNd, AtNA, AtNd)\n",
    "    #print(i,logL)\n",
    "    if logL != logL:\n",
    "        return 0.0\n",
    "    return -logL"
   ]
  },
  {
   "cell_type": "code",
   "execution_count": 16,
   "metadata": {},
   "outputs": [],
   "source": [
    "# x0= np.array([1.54,20,-3,1])\n",
    "# a, b = 1, 1\n",
    "# G = np.diag([a,a,a,a,a,a,a,a,a,a,a,b,b,b,b,b,b,b,b,b,b,b])\n",
    "# invNd = np.einsum('ij,jsp->isp', invN, freq_maps)\n",
    "# A_maxL =G.dot(A_ev(x0)) \n",
    "# AtNd= np.einsum('ji,jsp->isp', A_maxL, invNd)\n",
    "# AtNA = np.linalg.inv(A_maxL.T.dot(invN).dot(A_maxL))\n",
    "# s = AtNA.dot(AtNd)\n",
    "# Q =hp.sphtfunc.anafast(s[0])\n",
    "# plt.plot(Q)\n"
   ]
  },
  {
   "cell_type": "code",
   "execution_count": 17,
   "metadata": {},
   "outputs": [
    {
     "name": "stdout",
     "output_type": "stream",
     "text": [
      "          message: `xtol` termination condition is satisfied.\n",
      "          success: True\n",
      "           status: 2\n",
      "              fun: -31595872093742.54\n",
      "                x: [ 1.536e+00  2.015e+01 -2.838e+00  9.997e-01]\n",
      "              nit: 332\n",
      "             nfev: 1625\n",
      "             njev: 325\n",
      "             nhev: 0\n",
      "         cg_niter: 1223\n",
      "     cg_stop_cond: 2\n",
      "             grad: [ 2.049e+06  0.000e+00 -3.602e+06 -5.243e+05]\n",
      "  lagrangian_grad: [ 2.049e+06  0.000e+00 -3.602e+06 -5.243e+05]\n",
      "           constr: []\n",
      "              jac: []\n",
      "      constr_nfev: []\n",
      "      constr_njev: []\n",
      "      constr_nhev: []\n",
      "                v: []\n",
      "           method: equality_constrained_sqp\n",
      "       optimality: 3601948.0984733747\n",
      " constr_violation: 0\n",
      "   execution_time: 1.2369301319122314\n",
      "        tr_radius: 5.799969657769938e-19\n",
      "   constr_penalty: 1.0\n",
      "            niter: 332\n",
      "[ 1.53550113 20.14600971 -2.83835738  0.99973593]\n"
     ]
    }
   ],
   "source": [
    "x0 =np.array([1.4, 21, -2.5, 1])  \n",
    "x1 = np.random.uniform(low=[x0[0] * (1 - 1 / 40), x0[1] * (1 - 1 / 40), x0[2] * (1 - 1 / 40),  x0[3] * (1 - 1 / 40)], high=[x0[0] * (1 + 1 / 40), x0[1] * (1 + 1 / 40), x0[2] * (1 + 1 / 40),  x0[3] * (1 + 1 / 40)], size=(len(x0)))\n",
    "\n",
    "min_= minimize (spectral_likelihood,x1,method='trust-constr', tol= 1e-18)\n",
    "print(min_)\n",
    "print(min_.x)"
   ]
  },
  {
   "cell_type": "code",
   "execution_count": 18,
   "metadata": {},
   "outputs": [
    {
     "name": "stdout",
     "output_type": "stream",
     "text": [
      "[ 1.53550113 20.14600971 -2.83835738  0.99973593]\n"
     ]
    }
   ],
   "source": [
    "print(min_.x)"
   ]
  },
  {
   "attachments": {},
   "cell_type": "markdown",
   "metadata": {},
   "source": [
    "LIKELIHOOD WITH GAIN (2 variables, 1 fixed)"
   ]
  },
  {
   "cell_type": "code",
   "execution_count": 19,
   "metadata": {},
   "outputs": [],
   "source": [
    "def spectral_likelihood(y):\n",
    "    Bd, T, Bs, a, c = y\n",
    "    b = 1\n",
    "    G = np.diag([a,a,a,a,a,a,a,b,b,b,b,b,b,b,b,c,c,c,c,c,c,c])\n",
    "    invNd = np.einsum('ij,jsp->isp', invN, freq_maps)\n",
    "    A_maxL =G.dot(A_ev(np.array([Bd,T,Bs]))) \n",
    "    logL = 0\n",
    "    AtNd= np.einsum('ji,jsp->isp', A_maxL, invNd)\n",
    "    AtNA = np.linalg.inv(A_maxL.T.dot(invN).dot(A_maxL))\n",
    "    logL = logL + np.einsum('isp,ij,jsp->', AtNd, AtNA, AtNd)\n",
    "    #print(i,logL)\n",
    "    if logL != logL:\n",
    "        return 0.0\n",
    "    return -logL"
   ]
  },
  {
   "cell_type": "code",
   "execution_count": 20,
   "metadata": {},
   "outputs": [
    {
     "name": "stdout",
     "output_type": "stream",
     "text": [
      "          message: `xtol` termination condition is satisfied.\n",
      "          success: True\n",
      "           status: 2\n",
      "              fun: -31595870461259.707\n",
      "                x: [ 1.512e+00  2.100e+01 -2.497e+00  9.945e-01  9.988e-01]\n",
      "              nit: 57\n",
      "             nfev: 312\n",
      "             njev: 52\n",
      "             nhev: 0\n",
      "         cg_niter: 131\n",
      "     cg_stop_cond: 2\n",
      "             grad: [ 5.203e+05  1.585e+06 -4.934e+06  1.153e+07  1.442e+07]\n",
      "  lagrangian_grad: [ 5.203e+05  1.585e+06 -4.934e+06  1.153e+07  1.442e+07]\n",
      "           constr: []\n",
      "              jac: []\n",
      "      constr_nfev: []\n",
      "      constr_njev: []\n",
      "      constr_nhev: []\n",
      "                v: []\n",
      "           method: equality_constrained_sqp\n",
      "       optimality: 14417920.0\n",
      " constr_violation: 0\n",
      "   execution_time: 0.2036750316619873\n",
      "        tr_radius: 7.124184466999679e-19\n",
      "   constr_penalty: 1.0\n",
      "            niter: 57\n",
      "[ 1.51153378 21.00279006 -2.49729862  0.99450336  0.99883056]\n"
     ]
    }
   ],
   "source": [
    "x0 =np.array([1.4, 21, -2.5, 1, 1])  \n",
    "min_= minimize (spectral_likelihood,x0,method='trust-constr', tol= 1e-18)\n",
    "print(min_)\n",
    "print(min_.x)"
   ]
  },
  {
   "cell_type": "code",
   "execution_count": 21,
   "metadata": {},
   "outputs": [
    {
     "name": "stdout",
     "output_type": "stream",
     "text": [
      "[[ 7.57720088e+11  2.14803641e+10  1.46421438e+10  1.04169054e+09\n",
      "  -1.85703254e+11]\n",
      " [ 2.14803641e+10  1.01105446e+09  3.46430056e+08 -2.97710192e+07\n",
      "  -4.73197455e+09]\n",
      " [ 1.46421438e+10  3.46430056e+08 -9.39496088e+08  4.88859506e+09\n",
      "  -4.88739393e+09]\n",
      " [ 1.04169054e+09 -2.97710192e+07  4.88859506e+09  4.83569520e+09\n",
      "   1.22490672e+10]\n",
      " [-1.85703254e+11 -4.73197455e+09 -4.88739393e+09  1.22490672e+10\n",
      "   1.13341267e+11]]\n"
     ]
    }
   ],
   "source": [
    "H = nd.Hessian(spectral_likelihood)\n",
    "h = H([1.54, 20, -3, 1.1, 1.5])\n",
    "print(h)"
   ]
  },
  {
   "cell_type": "code",
   "execution_count": 22,
   "metadata": {},
   "outputs": [],
   "source": [
    "# w, v = np.linalg.eig(h)\n",
    "# print(w,v)\n",
    "# plt.plot(v.T)"
   ]
  },
  {
   "attachments": {},
   "cell_type": "markdown",
   "metadata": {},
   "source": [
    "LIKELIHOOD WITH GAIN ( 5 variables, 1 fixed)"
   ]
  },
  {
   "cell_type": "code",
   "execution_count": 23,
   "metadata": {},
   "outputs": [],
   "source": [
    "def spectral_likelihood(y):\n",
    "    Bd, T, Bs, a, c, d, e, f = y\n",
    "    b = 1\n",
    "    G = np.diag([a,a,a,a,b,b,b,b,c,c,c,c,d,d,d,d,e,e,e,f,f,f])\n",
    "    invNd = np.einsum('ij,jsp->isp', invN, freq_maps)\n",
    "    A_maxL =G.dot(A_ev(np.array([Bd,T,Bs]))) \n",
    "    logL = 0\n",
    "    AtNd= np.einsum('ji,jsp->isp', A_maxL, invNd)\n",
    "    AtNA = np.linalg.inv(A_maxL.T.dot(invN).dot(A_maxL))\n",
    "    logL = logL + np.einsum('isp,ij,jsp->', AtNd, AtNA, AtNd)\n",
    "    #print(i,logL)\n",
    "    if logL != logL:\n",
    "        return 0.0\n",
    "    return -logL"
   ]
  },
  {
   "cell_type": "code",
   "execution_count": 24,
   "metadata": {},
   "outputs": [
    {
     "name": "stdout",
     "output_type": "stream",
     "text": [
      "          message: `xtol` termination condition is satisfied.\n",
      "          success: True\n",
      "           status: 2\n",
      "              fun: -31595872305698.566\n",
      "                x: [ 1.540e+00  1.999e+01 -2.950e+00  9.979e-01  1.000e+00\n",
      "                     1.000e+00  9.999e-01  9.998e-01]\n",
      "              nit: 917\n",
      "             nfev: 8226\n",
      "             njev: 914\n",
      "             nhev: 0\n",
      "         cg_niter: 6570\n",
      "     cg_stop_cond: 2\n",
      "             grad: [ 7.489e+06  3.017e+05 -5.065e+06  8.389e+06  9.436e+06\n",
      "                     7.340e+06  1.756e+07  9.437e+06]\n",
      "  lagrangian_grad: [ 7.489e+06  3.017e+05 -5.065e+06  8.389e+06  9.436e+06\n",
      "                     7.340e+06  1.756e+07  9.437e+06]\n",
      "           constr: []\n",
      "              jac: []\n",
      "      constr_nfev: []\n",
      "      constr_njev: []\n",
      "      constr_nhev: []\n",
      "                v: []\n",
      "           method: equality_constrained_sqp\n",
      "       optimality: 17563648.0\n",
      " constr_violation: 0\n",
      "   execution_time: 4.792257070541382\n",
      "        tr_radius: 6.458044058344786e-19\n",
      "   constr_penalty: 1.0\n",
      "            niter: 917\n",
      "[ 1.54021663 19.98632225 -2.9498353   0.99794466  1.00008421  1.00005276\n",
      "  0.99991368  0.99982584]\n"
     ]
    }
   ],
   "source": [
    "x0 =np.array([1.4, 21, -2.5, 1.1, 0.4, 1.5, 0.8, 1.2])  \n",
    "min_= minimize (spectral_likelihood,x0,method='trust-constr', tol= 1e-18)\n",
    "print(min_)\n",
    "print(min_.x)\n"
   ]
  },
  {
   "attachments": {},
   "cell_type": "markdown",
   "metadata": {},
   "source": [
    "LIKELIHOOD WITH GAIN (8 variables,1 fixed)"
   ]
  },
  {
   "cell_type": "code",
   "execution_count": 25,
   "metadata": {},
   "outputs": [],
   "source": [
    "def spectral_likelihood(y):\n",
    "    Bd, T, Bs, a, c, d, e, f, g, h, i  = y\n",
    "    b = 1\n",
    "    G = np.diag([a, a, a, b, b, c, c, c, d, d, e, e, f, f, f, g, g, h, h, i, i, i ])\n",
    "    invNd = np.einsum('ij,jsp->isp', invN, freq_maps)\n",
    "    A_maxL =G.dot(A_ev(np.array([Bd,T,Bs]))) \n",
    "    logL = 0\n",
    "    AtNd= np.einsum('ji,jsp->isp', A_maxL, invNd)\n",
    "    AtNA = np.linalg.inv(A_maxL.T.dot(invN).dot(A_maxL))\n",
    "    logL = logL + np.einsum('isp,ij,jsp->', AtNd, AtNA, AtNd)\n",
    "    #print(i,logL)\n",
    "    if logL != logL:\n",
    "        return 0.0\n",
    "    return -logL"
   ]
  },
  {
   "cell_type": "code",
   "execution_count": 26,
   "metadata": {},
   "outputs": [
    {
     "name": "stdout",
     "output_type": "stream",
     "text": [
      "          message: `xtol` termination condition is satisfied.\n",
      "          success: True\n",
      "           status: 2\n",
      "              fun: -31595871992631.16\n",
      "                x: [ 1.533e+00  2.021e+01 -2.765e+00  9.952e-01  1.003e+00\n",
      "                     1.005e+00  1.006e+00  1.006e+00  1.005e+00  1.005e+00\n",
      "                     1.005e+00]\n",
      "              nit: 940\n",
      "             nfev: 11232\n",
      "             njev: 936\n",
      "             nhev: 0\n",
      "         cg_niter: 8996\n",
      "     cg_stop_cond: 2\n",
      "             grad: [ 4.274e+06  7.784e+04 -2.844e+05  6.029e+06  5.226e+06\n",
      "                     6.260e+06  1.225e+07  9.383e+06  8.865e+06  9.388e+06\n",
      "                     4.694e+06]\n",
      "  lagrangian_grad: [ 4.274e+06  7.784e+04 -2.844e+05  6.029e+06  5.226e+06\n",
      "                     6.260e+06  1.225e+07  9.383e+06  8.865e+06  9.388e+06\n",
      "                     4.694e+06]\n",
      "           constr: []\n",
      "              jac: []\n",
      "      constr_nfev: []\n",
      "      constr_njev: []\n",
      "      constr_nhev: []\n",
      "                v: []\n",
      "           method: equality_constrained_sqp\n",
      "       optimality: 12249777.231000878\n",
      " constr_violation: 0\n",
      "   execution_time: 5.655904054641724\n",
      "        tr_radius: 8.866936818648145e-19\n",
      "   constr_penalty: 1.0\n",
      "            niter: 940\n",
      "[ 1.53346115 20.206884   -2.76514746  0.99522444  1.00329567  1.00509529\n",
      "  1.00579528  1.00574582  1.0054593   1.00528419  1.00526536]\n"
     ]
    }
   ],
   "source": [
    "x0 =np.array([1.4, 21, -2.5, 1.1, 0.4, 1.5, 0.8, 1.2, 0.5, 1.5, 0.8])  \n",
    "min_= minimize (spectral_likelihood,x0,method='trust-constr', tol= 1e-18)\n",
    "print(min_)\n",
    "print(min_.x)\n"
   ]
  },
  {
   "attachments": {},
   "cell_type": "markdown",
   "metadata": {},
   "source": [
    "LIKELIHOOD WITH GAIN (11 variables, 1 fixed)"
   ]
  },
  {
   "cell_type": "code",
   "execution_count": 27,
   "metadata": {},
   "outputs": [],
   "source": [
    "def spectral_likelihood(y):\n",
    "    Bd, T, Bs, a, b, c, d, e, g, h, i, l, m, n  = y\n",
    "    f = 1\n",
    "    G = np.diag([a, a, b, b, c, c, d, d, e, e, g, g, h, h, i, i, l, l, m, m, n, n ])\n",
    "    invNd = np.einsum('ij,jsp->isp', invN, freq_maps)\n",
    "    A_maxL =G.dot(A_ev(np.array([Bd,T,Bs]))) \n",
    "    logL = 0\n",
    "    AtNd= np.einsum('ji,jsp->isp', A_maxL, invNd)\n",
    "    AtNA = np.linalg.inv(A_maxL.T.dot(invN).dot(A_maxL))\n",
    "    logL = logL + np.einsum('isp,ij,jsp->', AtNd, AtNA, AtNd)\n",
    "    #print(i,logL)\n",
    "    if logL != logL:\n",
    "        return 0.0\n",
    "    return -logL"
   ]
  },
  {
   "cell_type": "code",
   "execution_count": 28,
   "metadata": {},
   "outputs": [
    {
     "name": "stdout",
     "output_type": "stream",
     "text": [
      "          message: The maximum number of function evaluations is exceeded.\n",
      "          success: False\n",
      "           status: 0\n",
      "              fun: -31595871274218.504\n",
      "                x: [ 1.513e+00  2.091e+01 ...  1.104e+00  1.104e+00]\n",
      "              nit: 1000\n",
      "             nfev: 15000\n",
      "             njev: 1000\n",
      "             nhev: 0\n",
      "         cg_niter: 11667\n",
      "     cg_stop_cond: 1\n",
      "             grad: [ 4.660e+07  1.567e+06 ... -4.085e+07  1.588e+08]\n",
      "  lagrangian_grad: [ 4.660e+07  1.567e+06 ... -4.085e+07  1.588e+08]\n",
      "           constr: []\n",
      "              jac: []\n",
      "      constr_nfev: []\n",
      "      constr_njev: []\n",
      "      constr_nhev: []\n",
      "                v: []\n",
      "           method: equality_constrained_sqp\n",
      "       optimality: 158799198.05373114\n",
      " constr_violation: 0\n",
      "   execution_time: 8.270709037780762\n",
      "        tr_radius: 0.04670651897798104\n",
      "   constr_penalty: 1.0\n",
      "            niter: 1000\n",
      "[ 1.51331266 20.91075992 -2.60239391  1.11518689  1.10061682  1.10543351\n",
      "  1.10349248  1.10456521  1.10403772  1.10435403  1.10343482  1.10323645\n",
      "  1.10383226  1.10437796]\n"
     ]
    }
   ],
   "source": [
    "x0 =np.array([1.4, 21, -2.5, 1.1, 0.4, 1.5, 0.8, 1.2, 0.5, 1.5, 0.8, 1.2,0.6,0.3])  \n",
    "min_= minimize (spectral_likelihood,x0,method='trust-constr', tol= 1e-18)\n",
    "print(min_)\n",
    "print(min_.x)\n"
   ]
  },
  {
   "attachments": {},
   "cell_type": "markdown",
   "metadata": {},
   "source": [
    "LIKELIHOOD WITH GAIN (21 variables, 1 fixed)"
   ]
  },
  {
   "cell_type": "code",
   "execution_count": 58,
   "metadata": {},
   "outputs": [],
   "source": [
    "def spectral_likelihood(y):\n",
    "    Bd, T, Bs, a, b, c, d, e, f, g, h, i, l, m, n, o, p, q, r, t, u, v, w, z = y\n",
    "    s = 1\n",
    "    G = np.diag([a,b,c,d,e,f,g,h,i,l,m,n,o,p,q,r,s,t,u,v,w,z])\n",
    "    invNd = np.einsum('ij,jsp->isp', invN, freq_maps)\n",
    "    A_maxL =G.dot(A_ev(np.array([Bd,T,Bs]))) \n",
    "    logL = 0\n",
    "    AtNd= np.einsum('ji,jsp->isp', A_maxL, invNd)\n",
    "    AtNA = np.linalg.inv(A_maxL.T.dot(invN).dot(A_maxL))\n",
    "    logL = logL + np.einsum('isp,ij,jsp->', AtNd, AtNA, AtNd)\n",
    "    #print(i,logL)\n",
    "    if logL != logL:\n",
    "        return 0.0\n",
    "    return -logL"
   ]
  },
  {
   "cell_type": "code",
   "execution_count": 103,
   "metadata": {},
   "outputs": [
    {
     "name": "stdout",
     "output_type": "stream",
     "text": [
      " message: Converged (|f_n-f_(n-1)| ~= 0)\n",
      " success: True\n",
      "  status: 1\n",
      "     fun: -31595229577667.793\n",
      "       x: [ 1.496e+00  1.591e+01 ...  1.062e+00  1.098e+00]\n",
      "     nit: 204\n",
      "     jac: [ 1.715e+09  7.148e+07 ... -2.227e+09  5.626e+09]\n",
      "    nfev: 33975\n",
      "[ 1.49583392 15.91053331 -2.40126294  1.14164614  0.89622046  1.0443041\n",
      "  1.18274173  1.18440488  1.04662422  1.05942349  0.83149527  0.94204974\n",
      "  1.0655743   0.9746684   0.98753008  1.00921561  0.99282629  0.98758486\n",
      "  0.98953241  0.99834829  1.01302388  1.03272045  1.0618278   1.09763903]\n"
     ]
    }
   ],
   "source": [
    "#np.random.seed(10)\n",
    "x0 =np.array([1.54,20,-3,1,1,1,1,1,1,1,1,1,1,1,1,1,1,1,1,1,1,1,1,1])\n",
    "pos = np.random.uniform(low=x0 * (1 - 1 / 4), high= x0 * (1 + 1 / 4))\n",
    "min_= minimize (spectral_likelihood,pos,method='TNC', options={'maxfun':1000000000},tol= 1e-18 ) \n",
    "print(min_)\n",
    "print(min_.x)\n"
   ]
  },
  {
   "cell_type": "code",
   "execution_count": 31,
   "metadata": {},
   "outputs": [
    {
     "name": "stdout",
     "output_type": "stream",
     "text": [
      "[[ 8.56523166e+11  2.39258317e+10  5.39302169e+09 -7.57951330e+09\n",
      "  -2.71526251e+09 -9.82644742e+08  1.92763169e+09  7.64368175e+08\n",
      "   7.62380784e+09  5.03126109e+09  1.79665619e+10  3.27640740e+09\n",
      "   3.07489141e+10  5.97265188e+10  4.19659069e+10  4.57130684e+10\n",
      "   1.08708094e+11  5.38737921e+10 -1.10906602e+11 -1.74475361e+11\n",
      "  -6.26749452e+11 -1.09149188e+12 -5.94660922e+11  2.46830424e+12]\n",
      " [ 2.39258317e+10  6.74582304e+08  1.36061415e+08 -1.85050875e+08\n",
      "  -6.93574047e+07 -3.25376782e+07  3.81290170e+07  1.51193801e+07\n",
      "   1.75968229e+08  1.16128599e+08  4.34926483e+08  7.93138056e+07\n",
      "   7.69368999e+08  1.58534672e+09  1.28774402e+09  1.14378732e+09\n",
      "   2.88548578e+09  1.65314320e+09 -2.19564826e+09 -4.34873514e+09\n",
      "  -1.70474673e+10 -3.21966001e+10 -2.19925965e+10  7.33164677e+10]\n",
      " [ 5.39302169e+09  1.36061415e+08  1.01873305e+08 -2.20594698e+08\n",
      "  -1.59063155e+07  9.38166664e+07  1.42283657e+08  5.64195704e+07\n",
      "   2.42208713e+08  1.59843843e+08  3.46896593e+08  6.32602354e+07\n",
      "   3.80766852e+08  2.12336137e+08 -5.40202757e+08  5.66070085e+08\n",
      "   3.86472655e+08 -6.93486263e+08 -2.99349708e+09 -1.66312771e+09\n",
      "  -2.78321458e+09 -1.83691105e+09  2.64258767e+09  8.18859380e+09]\n",
      " [-7.57951330e+09 -1.85050875e+08 -2.20594698e+08  7.15249682e+08\n",
      "  -2.90130845e+08 -4.22115721e+08 -3.49795730e+08 -1.38704382e+08\n",
      "  -3.94645350e+08 -2.60443531e+08 -4.08849129e+08 -7.45579609e+07\n",
      "  -3.16554490e+08  1.54665020e+08  1.08510715e+09 -4.70608418e+08\n",
      "   2.81505262e+08  1.39300796e+09  3.97225547e+09  1.90994172e+09\n",
      "   2.89870697e+09  1.62988061e+09 -3.56568355e+09 -1.02451035e+10]\n",
      " [-2.71526251e+09 -6.93574047e+07 -1.59063155e+07 -2.90130845e+08\n",
      "   7.38309635e+08 -2.35406622e+08 -1.98588966e+08 -7.87464662e+07\n",
      "  -2.31469077e+08 -1.52756182e+08 -2.55484194e+08 -4.65902898e+07\n",
      "  -2.28604103e+08 -5.41117488e+07  3.78548778e+08 -3.39856009e+08\n",
      "  -9.84886986e+07  4.85962599e+08  1.65990521e+09  8.46520479e+08\n",
      "   1.34925582e+09  8.71649432e+08 -1.31677278e+09 -4.19776303e+09]\n",
      " [-9.82644742e+08 -3.25376782e+07  9.38166664e+07 -4.22115721e+08\n",
      "  -2.35406622e+08  1.99344634e+09 -3.09887504e+08 -1.22879862e+08\n",
      "  -3.78551427e+08 -2.49822025e+08 -4.53320622e+08 -8.26679080e+07\n",
      "  -4.71024216e+08 -4.16324301e+08  3.47145152e+07 -7.00251419e+08\n",
      "  -7.57750793e+08  4.45648368e+07  1.19301405e+09  7.59624215e+08\n",
      "   1.39126932e+09  1.17941311e+09 -5.26329647e+08 -2.95741987e+09]\n",
      " [ 1.92763169e+09  3.81290170e+07  1.42283657e+08 -3.49795730e+08\n",
      "  -1.98588966e+08 -3.09887504e+08  3.21755634e+09 -1.09658663e+08\n",
      "  -3.54326326e+08 -2.33834624e+08 -4.57176881e+08 -8.33713219e+07\n",
      "  -5.31260014e+08 -6.96009134e+08 -5.15311240e+08 -7.89801255e+08\n",
      "  -1.26680448e+09 -6.61531767e+08 -3.15160080e+08  1.19575962e+08\n",
      "   5.15760879e+08  8.17097026e+08  9.07503018e+08  7.06444201e+08]\n",
      " [ 7.64368175e+08  1.51193801e+07  5.64195704e+07 -1.38704382e+08\n",
      "  -7.87464662e+07 -1.22879862e+08 -1.09658663e+08  1.32966393e+09\n",
      "  -1.40501592e+08 -9.27228336e+07 -1.81285245e+08 -3.30593876e+07\n",
      "  -2.10661642e+08 -2.75989684e+08 -2.04337530e+08 -3.13181522e+08\n",
      "  -5.02328589e+08 -2.62318523e+08 -1.24971110e+08  4.74157213e+07\n",
      "   2.04515758e+08  3.24005257e+08  3.59854101e+08  2.80127854e+08]\n",
      " [ 7.62380784e+09  1.75968229e+08  2.42208713e+08 -3.94645350e+08\n",
      "  -2.31469077e+08 -3.78551427e+08 -3.54326326e+08 -1.40501592e+08\n",
      "   8.14730515e+09 -3.22427304e+08 -6.96936962e+08 -1.27094317e+08\n",
      "  -9.16121145e+08 -1.58407002e+09 -1.83033084e+09 -1.36195751e+09\n",
      "  -2.88316212e+09 -2.34968970e+09 -3.37307825e+09 -1.05714766e+09\n",
      "  -9.49114882e+08  4.03627886e+08  3.80401944e+09  7.60743012e+09]\n",
      " [ 5.03126109e+09  1.16128599e+08  1.59843843e+08 -2.60443531e+08\n",
      "  -1.52756182e+08 -2.49822025e+08 -2.33834624e+08 -9.27228336e+07\n",
      "  -3.22427304e+08  5.49466109e+09 -4.59937167e+08 -8.38746671e+07\n",
      "  -6.04585718e+08 -1.04539261e+09 -1.20790982e+09 -8.98811368e+08\n",
      "  -1.90271614e+09 -1.55065586e+09 -2.22603159e+09 -6.97654762e+08\n",
      "  -6.26359583e+08  2.66370454e+08  2.51042715e+09  5.02045276e+09]\n",
      " [ 1.79665619e+10  4.34926483e+08  3.46896593e+08 -4.08849129e+08\n",
      "  -2.55484194e+08 -4.53320622e+08 -4.57176881e+08 -1.81285245e+08\n",
      "  -6.96936962e+08 -4.59937167e+08  2.10414292e+10 -2.03162713e+08\n",
      "  -1.63827147e+09 -3.39001436e+09 -4.64443557e+09 -2.43554706e+09\n",
      "  -6.17015652e+09 -5.96230038e+09 -1.01745188e+10 -3.75840345e+09\n",
      "  -4.49936487e+09 -1.08283566e+09  9.27097285e+09  2.16922200e+10]\n",
      " [ 3.27640740e+09  7.93138056e+07  6.32602354e+07 -7.45579609e+07\n",
      "  -4.65902898e+07 -8.26679080e+07 -8.33713219e+07 -3.30593876e+07\n",
      "  -1.27094317e+08 -8.38746671e+07 -2.03162713e+08  3.99939085e+09\n",
      "  -2.98757467e+08 -6.18207790e+08 -8.46965754e+08 -4.44149670e+08\n",
      "  -1.12519826e+09 -1.08729347e+09 -1.85543948e+09 -6.85387706e+08\n",
      "  -8.20510520e+08 -1.97467453e+08  1.69066771e+09  3.95582364e+09]\n",
      " [ 3.07489141e+10  7.69368999e+08  3.80766852e+08 -3.16554490e+08\n",
      "  -2.28604103e+08 -4.71024216e+08 -5.31260014e+08 -2.10661642e+08\n",
      "  -9.16121145e+08 -6.04585718e+08 -1.63827147e+09 -2.98757467e+08\n",
      "   4.63855249e+10 -6.10171351e+09 -9.07568847e+09 -3.91698362e+09\n",
      "  -1.11057142e+10 -1.16509281e+10 -2.12568222e+10 -8.28567518e+09\n",
      "  -1.07546138e+10 -4.50135212e+09  1.62966963e+10  4.20498293e+10]\n",
      " [ 5.97265188e+10  1.58534672e+09  2.12336137e+08  1.54665020e+08\n",
      "  -5.41117488e+07 -4.16324301e+08 -6.96009134e+08 -2.75989684e+08\n",
      "  -1.58407002e+09 -1.04539261e+09 -3.39001436e+09 -6.18207790e+08\n",
      "  -6.10171351e+09  1.66124016e+11 -2.53338698e+10 -9.07115136e+09\n",
      "  -2.88640623e+10 -3.25223908e+10 -6.26226801e+10 -2.55283018e+10\n",
      "  -3.57735385e+10 -2.17073552e+10  3.24558825e+10  1.02788826e+11]\n",
      " [ 4.19659069e+10  1.28774402e+09 -5.40202757e+08  1.08510715e+09\n",
      "   3.78548778e+08  3.47145152e+07 -5.15311240e+08 -2.04337530e+08\n",
      "  -1.83033084e+09 -1.20790982e+09 -4.64443557e+09 -8.46965754e+08\n",
      "  -9.07568847e+09 -2.53338698e+10  3.81949485e+11 -1.34924305e+10\n",
      "  -4.61101156e+10 -5.41190226e+10 -1.07668050e+11 -4.53633274e+10\n",
      "  -6.81191936e+10 -5.39510047e+10  1.95760754e+10  1.22831277e+11]\n",
      " [ 4.57130684e+10  1.14378732e+09  5.66070085e+08 -4.70608418e+08\n",
      "  -3.39856009e+08 -7.00251419e+08 -7.89801255e+08 -3.13181522e+08\n",
      "  -1.36195751e+09 -8.98811368e+08 -2.43554706e+09 -4.44149670e+08\n",
      "  -3.91698362e+09 -9.07115136e+09 -1.34924305e+10  6.70596185e+10\n",
      "  -1.65103808e+10 -1.73209263e+10 -3.16015901e+10 -1.23179517e+10\n",
      "  -1.59884152e+10 -6.69196405e+09  2.42275860e+10  6.25136459e+10]\n",
      " [ 1.08708094e+11  2.88548578e+09  3.86472655e+08  2.81505262e+08\n",
      "  -9.84886986e+07 -7.57750793e+08 -1.26680448e+09 -5.02328589e+08\n",
      "  -2.88316212e+09 -1.90271614e+09 -6.17015652e+09 -1.12519826e+09\n",
      "  -1.11057142e+10 -2.88640623e+10 -4.61101156e+10 -1.65103808e+10\n",
      "   2.78696898e+11 -5.91939263e+10 -1.13979391e+11 -4.64640014e+10\n",
      "  -6.51113310e+10 -3.95095055e+10  5.90728744e+10  1.87085698e+11]\n",
      " [ 5.38737921e+10  1.65314320e+09 -6.93486263e+08  1.39300796e+09\n",
      "   4.85962599e+08  4.45648368e+07 -6.61531767e+08 -2.62318523e+08\n",
      "  -2.34968970e+09 -1.55065586e+09 -5.96230038e+09 -1.08729347e+09\n",
      "  -1.16509281e+10 -3.25223908e+10 -5.41190226e+10 -1.73209263e+10\n",
      "  -5.91939263e+10  4.74964924e+11 -1.38219009e+11 -5.82352357e+10\n",
      "  -8.74481109e+10 -6.92596766e+10  2.51308143e+10  1.57684823e+11]\n",
      " [-1.10906602e+11 -2.19564826e+09 -2.99349708e+09  3.97225547e+09\n",
      "   1.65990521e+09  1.19301405e+09 -3.15160080e+08 -1.24971110e+08\n",
      "  -3.37307825e+09 -2.22603159e+09 -1.01745188e+10 -1.85543948e+09\n",
      "  -2.12568222e+10 -6.26226801e+10 -1.07668050e+11 -3.16015901e+10\n",
      "  -1.13979391e+11 -1.38219009e+11  1.36377632e+12 -1.24524772e+11\n",
      "  -2.04983208e+11 -2.12523373e+11 -1.11470402e+11  7.40259002e+10]\n",
      " [-1.74475361e+11 -4.34873514e+09 -1.66312771e+09  1.90994172e+09\n",
      "   8.46520479e+08  7.59624215e+08  1.19575962e+08  4.74157213e+07\n",
      "  -1.05714766e+09 -6.97654762e+08 -3.75840345e+09 -6.85387706e+08\n",
      "  -8.28567518e+09 -2.55283018e+10 -4.53633274e+10 -1.23179517e+10\n",
      "  -4.64640014e+10 -5.82352357e+10 -1.24524772e+11  1.06001125e+12\n",
      "  -1.07613472e+11 -1.44164154e+11 -1.69831691e+11 -1.54630803e+11]\n",
      " [-6.26749452e+11 -1.70474673e+10 -2.78321458e+09  2.89870697e+09\n",
      "   1.34925582e+09  1.39126932e+09  5.15760879e+08  2.04515758e+08\n",
      "  -9.49114882e+08 -6.26359583e+08 -4.49936487e+09 -8.20510520e+08\n",
      "  -1.07546138e+10 -3.57735385e+10 -6.81191936e+10 -1.59884152e+10\n",
      "  -6.51113310e+10 -8.74481109e+10 -2.04983208e+11 -1.07613472e+11\n",
      "   3.17692083e+12 -4.42325287e+11 -7.70188894e+11 -1.01619087e+12]\n",
      " [-1.09149188e+12 -3.21966001e+10 -1.83691105e+09  1.62988061e+09\n",
      "   8.71649432e+08  1.17941311e+09  8.17097026e+08  3.24005257e+08\n",
      "   4.03627886e+08  2.66370454e+08 -1.08283566e+09 -1.97467453e+08\n",
      "  -4.50135212e+09 -2.17073552e+10 -5.39510047e+10 -6.69196405e+09\n",
      "  -3.95095055e+10 -6.92596766e+10 -2.12523373e+11 -1.44164154e+11\n",
      "  -4.42325287e+11  6.69380365e+12 -2.10578820e+12 -3.08500438e+12]\n",
      " [-5.94660922e+11 -2.19925965e+10  2.64258767e+09 -3.56568355e+09\n",
      "  -1.31677278e+09 -5.26329647e+08  9.07503018e+08  3.59854101e+08\n",
      "   3.80401944e+09  2.51042715e+09  9.27097285e+09  1.69066771e+09\n",
      "   1.62966963e+10  3.24558825e+10  1.95760754e+10  2.42275860e+10\n",
      "   5.90728744e+10  2.51308143e+10 -1.11470402e+11 -1.69831691e+11\n",
      "  -7.70188894e+11 -2.10578820e+12  1.09529243e+13 -7.50961677e+12]\n",
      " [ 2.46830424e+12  7.33164677e+10  8.18859380e+09 -1.02451035e+10\n",
      "  -4.19776303e+09 -2.95741987e+09  7.06444201e+08  2.80127854e+08\n",
      "   7.60743012e+09  5.02045276e+09  2.16922200e+10  3.95582364e+09\n",
      "   4.20498293e+10  1.02788826e+11  1.22831277e+11  6.25136459e+10\n",
      "   1.87085698e+11  1.57684823e+11  7.40259002e+10 -1.54630803e+11\n",
      "  -1.01619087e+12 -3.08500438e+12 -7.50961677e+12  1.09058731e+13]]\n"
     ]
    }
   ],
   "source": [
    "\n",
    "Fisher = nd.Hessian(spectral_likelihood)\n",
    "F = Fisher(min_.x)\n",
    "print(F)\n",
    "\n"
   ]
  },
  {
   "cell_type": "code",
   "execution_count": 32,
   "metadata": {},
   "outputs": [],
   "source": [
    "Nbd=64 \n",
    "sqr_Nbd=np.sqrt(Nbd)\n",
    "Ntd=8\n",
    "sqr_Ntd= np.sqrt(Ntd)\n",
    "Nbs=4\n",
    "sqr_Nbs=np.sqrt(Nbs)\n",
    "g=1\n",
    "Npatch= np.matrix([[Nbd,np.sqrt(Nbd*Ntd),np.sqrt(Nbd*Nbs),sqr_Nbd,sqr_Nbd,sqr_Nbd,sqr_Nbd,sqr_Nbd,sqr_Nbd,sqr_Nbd,sqr_Nbd,sqr_Nbd,sqr_Nbd,sqr_Nbd,sqr_Nbd,sqr_Nbd,sqr_Nbd,sqr_Nbd,sqr_Nbd,sqr_Nbd,sqr_Nbd,sqr_Nbd,sqr_Nbd,sqr_Nbd], [np.sqrt(Ntd*Nbd),Ntd,np.sqrt(Ntd*Nbs),sqr_Ntd,sqr_Ntd,sqr_Ntd,sqr_Ntd,sqr_Ntd,sqr_Ntd,sqr_Ntd,sqr_Ntd,sqr_Ntd,sqr_Ntd,sqr_Ntd,sqr_Ntd,sqr_Ntd,sqr_Ntd,sqr_Ntd,sqr_Ntd,sqr_Ntd,sqr_Ntd,sqr_Ntd,sqr_Ntd,sqr_Ntd], \n",
    "                [np.sqrt(Nbs*Nbd),np.sqrt(Nbs*Ntd),Nbs,sqr_Nbs,sqr_Nbs,sqr_Nbs,sqr_Nbs,sqr_Nbs,sqr_Nbs,sqr_Nbs,sqr_Nbs,sqr_Nbs,sqr_Nbs,sqr_Nbs,sqr_Nbs,sqr_Nbs,sqr_Nbs,sqr_Nbs,sqr_Ntd,sqr_Nbs,sqr_Nbs,sqr_Nbs,sqr_Nbs,sqr_Nbs], [sqr_Nbd,sqr_Ntd,sqr_Nbs,g,g,g,g,g,g,g,g,g,g,g,g,g,g,g,g,g,g,g,g,g],\n",
    "                [sqr_Nbd,sqr_Ntd,sqr_Nbs,g,g,g,g,g,g,g,g,g,g,g,g,g,g,g,g,g,g,g,g,g],[sqr_Nbd,sqr_Ntd,sqr_Nbs,g,g,g,g,g,g,g,g,g,g,g,g,g,g,g,g,g,g,g,g,g],[sqr_Nbd,sqr_Ntd,sqr_Nbs,g,g,g,g,g,g,g,g,g,g,g,g,g,g,g,g,g,g,g,g,g],[sqr_Nbd,sqr_Ntd,sqr_Nbs,g,g,g,g,g,g,g,g,g,g,g,g,g,g,g,g,g,g,g,g,g],\n",
    "                [sqr_Nbd,sqr_Ntd,sqr_Nbs,g,g,g,g,g,g,g,g,g,g,g,g,g,g,g,g,g,g,g,g,g],[sqr_Nbd,sqr_Ntd,sqr_Nbs,g,g,g,g,g,g,g,g,g,g,g,g,g,g,g,g,g,g,g,g,g],[sqr_Nbd,sqr_Ntd,sqr_Nbs,g,g,g,g,g,g,g,g,g,g,g,g,g,g,g,g,g,g,g,g,g],[sqr_Nbd,sqr_Ntd,sqr_Nbs,g,g,g,g,g,g,g,g,g,g,g,g,g,g,g,g,g,g,g,g,g],\n",
    "                [sqr_Nbd,sqr_Ntd,sqr_Nbs,g,g,g,g,g,g,g,g,g,g,g,g,g,g,g,g,g,g,g,g,g],[sqr_Nbd,sqr_Ntd,sqr_Nbs,g,g,g,g,g,g,g,g,g,g,g,g,g,g,g,g,g,g,g,g,g],[sqr_Nbd,sqr_Ntd,sqr_Nbs,g,g,g,g,g,g,g,g,g,g,g,g,g,g,g,g,g,g,g,g,g],[sqr_Nbd,sqr_Ntd,sqr_Nbs,g,g,g,g,g,g,g,g,g,g,g,g,g,g,g,g,g,g,g,g,g],\n",
    "                [sqr_Nbd,sqr_Ntd,sqr_Nbs,g,g,g,g,g,g,g,g,g,g,g,g,g,g,g,g,g,g,g,g,g],[sqr_Nbd,sqr_Ntd,sqr_Nbs,g,g,g,g,g,g,g,g,g,g,g,g,g,g,g,g,g,g,g,g,g],[sqr_Nbd,sqr_Ntd,sqr_Nbs,g,g,g,g,g,g,g,g,g,g,g,g,g,g,g,g,g,g,g,g,g],[sqr_Nbd,sqr_Ntd,sqr_Nbs,g,g,g,g,g,g,g,g,g,g,g,g,g,g,g,g,g,g,g,g,g],\n",
    "                [sqr_Nbd,sqr_Ntd,sqr_Nbs,g,g,g,g,g,g,g,g,g,g,g,g,g,g,g,g,g,g,g,g,g],[sqr_Nbd,sqr_Ntd,sqr_Nbs,g,g,g,g,g,g,g,g,g,g,g,g,g,g,g,g,g,g,g,g,g],[sqr_Nbd,sqr_Ntd,sqr_Nbs,g,g,g,g,g,g,g,g,g,g,g,g,g,g,g,g,g,g,g,g,g],[sqr_Nbd,sqr_Ntd,sqr_Nbs,g,g,g,g,g,g,g,g,g,g,g,g,g,g,g,g,g,g,g,g,g] ])"
   ]
  },
  {
   "cell_type": "code",
   "execution_count": 33,
   "metadata": {},
   "outputs": [],
   "source": [
    "# print(Npatch)"
   ]
  },
  {
   "cell_type": "code",
   "execution_count": 34,
   "metadata": {},
   "outputs": [],
   "source": [
    "# F1= F*Npatch\n",
    "\n",
    "# print(F1)\n"
   ]
  },
  {
   "cell_type": "code",
   "execution_count": 35,
   "metadata": {},
   "outputs": [],
   "source": [
    "\n",
    "# sqrt_inv_F1= np.sqrt(np.linalg.inv(F1))\n",
    "# print(sqrt_inv_F1)\n"
   ]
  },
  {
   "cell_type": "code",
   "execution_count": 36,
   "metadata": {},
   "outputs": [],
   "source": [
    "\n",
    "# sqrt_inv_F= np.sqrt(np.linalg.inv(F))\n",
    "# print(sqrt_inv_F)"
   ]
  },
  {
   "cell_type": "code",
   "execution_count": 37,
   "metadata": {},
   "outputs": [],
   "source": [
    "# w, v = np.linalg.eig(h)\n",
    "# print(w,v)\n",
    "# plt.plot(v)"
   ]
  },
  {
   "attachments": {},
   "cell_type": "markdown",
   "metadata": {},
   "source": [
    "LIKELIHOOD WITH GAIN (11 variables, the low frequency band varies)"
   ]
  },
  {
   "cell_type": "code",
   "execution_count": 38,
   "metadata": {},
   "outputs": [],
   "source": [
    "def spectral_likelihood(y):\n",
    "    Bd, T, Bs, a, b, c, d, e, f, g, h, i, l, m, = y\n",
    "    n, o, p, q, r, s, t, u, v, w, z = 1, 1, 1, 1, 1, 1, 1, 1, 1, 1, 1\n",
    "    G = np.diag([a,b,c,d,e,f,g,h,i,l,m,n,o,p,q,r,s,t,u,v,w,z])\n",
    "    invNd = np.einsum('ij,jsp->isp', invN, freq_maps)\n",
    "    A_maxL =G.dot(A_ev(np.array([Bd,T,Bs]))) \n",
    "    logL = 0\n",
    "    AtNd= np.einsum('ji,jsp->isp', A_maxL, invNd)\n",
    "    AtNA = np.linalg.inv(A_maxL.T.dot(invN).dot(A_maxL))\n",
    "    logL = logL + np.einsum('isp,ij,jsp->', AtNd, AtNA, AtNd)\n",
    "    #print(i,logL)\n",
    "    if logL != logL:\n",
    "        return 0.0\n",
    "    return -logL"
   ]
  },
  {
   "cell_type": "code",
   "execution_count": 39,
   "metadata": {},
   "outputs": [
    {
     "name": "stdout",
     "output_type": "stream",
     "text": [
      "          message: `xtol` termination condition is satisfied.\n",
      "          success: True\n",
      "           status: 2\n",
      "              fun: -31595870671419.676\n",
      "                x: [ 1.513e+00  2.100e+01 ...  1.001e+00  1.001e+00]\n",
      "              nit: 249\n",
      "             nfev: 3645\n",
      "             njev: 243\n",
      "             nhev: 0\n",
      "         cg_niter: 1822\n",
      "     cg_stop_cond: 2\n",
      "             grad: [ 3.812e+06  3.396e+06 ...  1.022e+07  5.502e+06]\n",
      "  lagrangian_grad: [ 3.812e+06  3.396e+06 ...  1.022e+07  5.502e+06]\n",
      "           constr: []\n",
      "              jac: []\n",
      "      constr_nfev: []\n",
      "      constr_njev: []\n",
      "      constr_nhev: []\n",
      "                v: []\n",
      "           method: equality_constrained_sqp\n",
      "       optimality: 12058624.0\n",
      " constr_violation: 0\n",
      "   execution_time: 1.6967082023620605\n",
      "        tr_radius: 6.339825214901231e-19\n",
      "   constr_penalty: 1.0\n",
      "            niter: 249\n",
      "[ 1.51270312 20.99669137 -2.50064301  1.05847935  1.010671    0.99910888\n",
      "  0.99839679  0.998596    0.99959547  0.99954597  1.0002788   1.00009344\n",
      "  1.00074158  1.0006025 ]\n"
     ]
    }
   ],
   "source": [
    "x0 =np.array([1.4, 21, -2.5, 1.1, 0.4, 1.5, 0.8, 1.2, 0.6, 0.3, 1.5, 0.5, 1.5, 1.2])  \n",
    "min_= minimize (spectral_likelihood,x0,method='trust-constr', tol= 1e-18)\n",
    "print(min_)\n",
    "print(min_.x)\n"
   ]
  },
  {
   "attachments": {},
   "cell_type": "markdown",
   "metadata": {},
   "source": [
    "LIKELIHOOD WITH GAIN ( 11 variables, every two gain)"
   ]
  },
  {
   "cell_type": "code",
   "execution_count": 40,
   "metadata": {},
   "outputs": [],
   "source": [
    "def spectral_likelihood(y):\n",
    "    Bd, T, Bs, a, c, e, g, i, m, o, q, s, u, w = y\n",
    "    b, d, f, h, l, n, p, r, t, v, z = 1, 1, 1, 1, 1, 1, 1, 1, 1, 1, 1\n",
    "    G = np.diag([a,b,c,d,e,f,g,h,i,l,m,n,o,p,q,r,s,t,u,v,w,z])\n",
    "    invNd = np.einsum('ij,jsp->isp', invN, freq_maps)\n",
    "    A_maxL =G.dot(A_ev(np.array([Bd,T,Bs]))) \n",
    "    logL = 0\n",
    "    AtNd= np.einsum('ji,jsp->isp', A_maxL, invNd)\n",
    "    AtNA = np.linalg.inv(A_maxL.T.dot(invN).dot(A_maxL))\n",
    "    logL = logL + np.einsum('isp,ij,jsp->', AtNd, AtNA, AtNd)\n",
    "    #print(i,logL)\n",
    "    if logL != logL:\n",
    "        return 0.0\n",
    "    return -logL"
   ]
  },
  {
   "cell_type": "code",
   "execution_count": 41,
   "metadata": {},
   "outputs": [
    {
     "name": "stdout",
     "output_type": "stream",
     "text": [
      "          message: `xtol` termination condition is satisfied.\n",
      "          success: True\n",
      "           status: 2\n",
      "              fun: -31595871403374.305\n",
      "                x: [ 1.513e+00  2.100e+01 ...  9.998e-01  1.000e+00]\n",
      "              nit: 628\n",
      "             nfev: 9360\n",
      "             njev: 624\n",
      "             nhev: 0\n",
      "         cg_niter: 5961\n",
      "     cg_stop_cond: 2\n",
      "             grad: [ 5.545e+06  1.011e+06 ...  3.932e+06  1.337e+07]\n",
      "  lagrangian_grad: [ 5.545e+06  1.011e+06 ...  3.932e+06  1.337e+07]\n",
      "           constr: []\n",
      "              jac: []\n",
      "      constr_nfev: []\n",
      "      constr_njev: []\n",
      "      constr_nhev: []\n",
      "                v: []\n",
      "           method: equality_constrained_sqp\n",
      "       optimality: 13365251.10885021\n",
      " constr_violation: 0\n",
      "   execution_time: 4.94277286529541\n",
      "        tr_radius: 7.83544462320563e-19\n",
      "   constr_penalty: 1.0\n",
      "            niter: 628\n",
      "[ 1.51268998 20.99777545 -2.50928041  1.06481433  1.00120831  1.00033016\n",
      "  0.99998332  1.00019535  1.00044437  1.00054662  1.00008276  0.99965814\n",
      "  0.99982325  1.00030623]\n"
     ]
    }
   ],
   "source": [
    "x0 =np.array([1.4, 21, -2.5, 1.1, 0.4, 1.5, 0.8, 1.2, 0.6, 0.3, 1.5, 0.5, 1.5, 1.2])  \n",
    "min_= minimize (spectral_likelihood,x0,method='trust-constr', tol= 1e-18)\n",
    "print(min_)\n",
    "print(min_.x)\n"
   ]
  },
  {
   "attachments": {},
   "cell_type": "markdown",
   "metadata": {},
   "source": [
    "LIKELIHOOD WITH GAIN ( 11 variables, the middle and the high frequency band varies )"
   ]
  },
  {
   "cell_type": "code",
   "execution_count": 42,
   "metadata": {},
   "outputs": [],
   "source": [
    "def spectral_likelihood(y):\n",
    "    Bd, T, Bs, n, o, p, q, r, s, t, u, v, w, z = y\n",
    "    a, b, c, d, e, f, g, h, i, l, m = 1, 1, 1, 1, 1, 1, 1, 1, 1, 1, 1\n",
    "    G = np.diag([a,b,c,d,e,f,g,h,i,l,m,n,o,p,q,r,s,t,u,v,w,z])\n",
    "    invNd = np.einsum('ij,jsp->isp', invN, freq_maps)\n",
    "    A_maxL =G.dot(A_ev(np.array([Bd,T,Bs]))) \n",
    "    logL = 0\n",
    "    AtNd= np.einsum('ji,jsp->isp', A_maxL, invNd)\n",
    "    AtNA = np.linalg.inv(A_maxL.T.dot(invN).dot(A_maxL))\n",
    "    logL = logL + np.einsum('isp,ij,jsp->', AtNd, AtNA, AtNd)\n",
    "    #print(i,logL)\n",
    "    if logL != logL:\n",
    "        return 0.0\n",
    "    return -logL"
   ]
  },
  {
   "cell_type": "code",
   "execution_count": 43,
   "metadata": {},
   "outputs": [
    {
     "name": "stdout",
     "output_type": "stream",
     "text": [
      "          message: The maximum number of function evaluations is exceeded.\n",
      "          success: False\n",
      "           status: 0\n",
      "              fun: -31595869431310.93\n",
      "                x: [ 1.122e+00  2.099e+01 ...  1.260e+00  1.341e+00]\n",
      "              nit: 1000\n",
      "             nfev: 14955\n",
      "             njev: 997\n",
      "             nhev: 0\n",
      "         cg_niter: 9303\n",
      "     cg_stop_cond: 2\n",
      "             grad: [-1.378e+07 -2.247e+05 ...  1.103e+07 -6.840e+06]\n",
      "  lagrangian_grad: [-1.378e+07 -2.247e+05 ...  1.103e+07 -6.840e+06]\n",
      "           constr: []\n",
      "              jac: []\n",
      "      constr_nfev: []\n",
      "      constr_njev: []\n",
      "      constr_nhev: []\n",
      "                v: []\n",
      "           method: equality_constrained_sqp\n",
      "       optimality: 13782606.732853238\n",
      " constr_violation: 0\n",
      "   execution_time: 8.024792909622192\n",
      "        tr_radius: 3.8746888499294035e-06\n",
      "   constr_penalty: 1.0\n",
      "            niter: 1000\n",
      "[ 1.12217495 20.99497715 -2.50041212  1.01683306  0.9951743   1.00168449\n",
      "  1.01681855  1.04232321  1.07571876  1.07571816  1.12611342  1.18517128\n",
      "  1.25979111  1.34138354]\n"
     ]
    }
   ],
   "source": [
    "x0 =np.array([1.4, 21, -2.5, 1.1, 0.4, 1.5, 0.8, 1.2, 0.6, 0.3, 1.5, 0.5, 1.5, 1.2])  \n",
    "min_= minimize (spectral_likelihood,x0,method='trust-constr', tol= 1e-18)\n",
    "print(min_)\n",
    "print(min_.x)\n"
   ]
  },
  {
   "attachments": {},
   "cell_type": "markdown",
   "metadata": {},
   "source": [
    "LIKELIHOOD WITH GAIN ( 5 variables, the high frequency band varies)"
   ]
  },
  {
   "cell_type": "code",
   "execution_count": 56,
   "metadata": {},
   "outputs": [],
   "source": [
    "def spectral_likelihood(y):\n",
    "    Bd, T, Bs, t, u, v, w, z  = y\n",
    "    a,b,c,d,e,f,g,h,i,l,m,n,o,p,q,r,s = 1, 1, 1, 1, 1, 1, 1, 1, 1, 1, 1, 1, 1, 1, 1, 1, 1\n",
    "    G = np.diag([a,b,c,d,e,f,g,h,i,l,m,n,o,p,q,r,s,t,u,v,w,z])\n",
    "    invNd = np.einsum('ij,jsp->isp', invN, freq_maps)\n",
    "    A_maxL =G.dot(A_ev(np.array([Bd,T,Bs]))) \n",
    "    logL = 0\n",
    "    AtNd= np.einsum('ji,jsp->isp', A_maxL, invNd)\n",
    "    AtNA = np.linalg.inv(A_maxL.T.dot(invN).dot(A_maxL))\n",
    "    logL = logL + np.einsum('isp,ij,jsp->', AtNd, AtNA, AtNd)\n",
    "    #print(i,logL)\n",
    "    if logL != logL:\n",
    "        return 0.0\n",
    "    return -logL"
   ]
  },
  {
   "cell_type": "code",
   "execution_count": 57,
   "metadata": {},
   "outputs": [
    {
     "name": "stdout",
     "output_type": "stream",
     "text": [
      "`xtol` termination condition is satisfied.\n",
      "Number of iterations: 323, function evaluations: 2871, CG iterations: 1830, optimality: 9.70e+06, constraint violation: 0.00e+00, execution time:  1.6 s.\n",
      "          message: `xtol` termination condition is satisfied.\n",
      "          success: True\n",
      "           status: 2\n",
      "              fun: -31595872194946.27\n",
      "                x: [ 1.518e+00  2.099e+01 -2.837e+00  1.000e+00  1.000e+00\n",
      "                     1.000e+00  9.997e-01  9.987e-01]\n",
      "              nit: 323\n",
      "             nfev: 2871\n",
      "             njev: 319\n",
      "             nhev: 0\n",
      "         cg_niter: 1830\n",
      "     cg_stop_cond: 2\n",
      "             grad: [ 4.145e+06  1.874e+05 -2.033e+06 -5.243e+05  6.028e+06\n",
      "                     9.698e+06  1.835e+06  5.767e+06]\n",
      "  lagrangian_grad: [ 4.145e+06  1.874e+05 -2.033e+06 -5.243e+05  6.028e+06\n",
      "                     9.698e+06  1.835e+06  5.767e+06]\n",
      "           constr: []\n",
      "              jac: []\n",
      "      constr_nfev: []\n",
      "      constr_njev: []\n",
      "      constr_nhev: []\n",
      "                v: []\n",
      "           method: equality_constrained_sqp\n",
      "       optimality: 9698179.69065264\n",
      " constr_violation: 0\n",
      "   execution_time: 1.6489849090576172\n",
      "        tr_radius: 6.180001421590434e-19\n",
      "   constr_penalty: 1.0\n",
      "            niter: 323\n",
      "[ 1.51794852 20.98721654 -2.83676202  1.00002239  1.0001365   1.00011841\n",
      "  0.99971827  0.99867202]\n"
     ]
    }
   ],
   "source": [
    "x0 =np.array([1.4, 21, -2.5, 1.1, 0.4, 1.5, 0.8, 1.2])  \n",
    "min_= minimize (spectral_likelihood,x0,method='trust-constr', options={'maxiter': 1000000, 'disp': True} , tol= 1e-18)\n",
    "print(min_)\n",
    "print(min_.x)\n"
   ]
  },
  {
   "cell_type": "code",
   "execution_count": 46,
   "metadata": {},
   "outputs": [],
   "source": [
    "# def spectral_likelihood(i):\n",
    "#     Bd, T, Bs, a, b, c, d, e, f, g, h, i, l, m, n, o, p, q, r, s, t, u, v, w, z = i\n",
    "#     h = 1\n",
    "#     G = np.diag([ a, b, c, d, e, f, g, i, h, l, m, n, o, p, q, r, s, t, u, v, w, z])\n",
    "#     invNd = np.einsum('ij,jsp->isp', invN, freq_maps)\n",
    "#     A_maxL =G.dot(A_ev(np.array([Bd,T,Bs]))) \n",
    "#     logL = 0\n",
    "#     AtNd= np.einsum('ji,jsp->isp', A_maxL, invNd)\n",
    "#     AtNA = np.linalg.inv(A_maxL.T.dot(invN).dot(A_maxL))\n",
    "#     logL = logL + np.einsum('isp,ij,jsp->', AtNd, AtNA, AtNd)\n",
    "#     #print(i,logL)\n",
    "#     if logL != logL:\n",
    "#         return 0.0\n",
    "#     return -logL"
   ]
  },
  {
   "cell_type": "code",
   "execution_count": 47,
   "metadata": {},
   "outputs": [],
   "source": [
    "# tol_ = 1e-18\n",
    "# x0 =np.array([1.3, 15, -2.5, 0.5, 1.2, 0.1, 2, 0.2, 0.9, 1.1, 0.3, 0.9, 1.4, 1.2, 0.4, 0.8, 0.9, 1.2, 1.3, 0.7, 0.2, 1.9, 0.9, 1.3, 1.4]) \n",
    "# min_= minimize (spectral_likelihood,x0,method='trust-constr')\n",
    "# print(min_)\n",
    "# print(min_.x)\n"
   ]
  },
  {
   "cell_type": "code",
   "execution_count": 48,
   "metadata": {},
   "outputs": [],
   "source": [
    "# g1 = np.linspace(0.5,1.5,500)\n",
    "# result= []\n",
    "# for i in g1:\n",
    "#         result.append(spectral_likelihood(np.array([1.26466502, 17.99580668 , -2.65181336 , 1.02481412 , 1.13362434 , 1.13395641,\n",
    "#   1.10611243 , 1.10360917 ,i  , 1.06613316 , 1.03197411 , 1.03194025,\n",
    "#   1.00891511,  0.98736361 , 0.98027652,  1.00900499 , 0.98735861  ,0.98027463,\n",
    "#   0.9850154  , 1.00000578,  1.02959818 , 1.06909778 , 1.12300709 , 1.18561135])))\n",
    "# print(result)\n",
    "\n",
    "# plt.plot(g1,result,'o')\n",
    "# plt.title(r'Likelihood varying g1')\n",
    "# plt.xlabel(r'slope index, g1')\n",
    "# plt.ylabel('Likelihood value')"
   ]
  },
  {
   "cell_type": "code",
   "execution_count": 49,
   "metadata": {},
   "outputs": [],
   "source": [
    "# Bd = np.linspace(1.4,1.6,20)\n",
    "# g3 = np.linspace(0.8,1.2,20)\n",
    "# result = np.zeros((20,20))\n",
    "# for i,val_i in enumerate(Bd):\n",
    "#     for j,val_j in enumerate(g3):\n",
    "#         result[i,j] = spectral_likelihood(np.array([val_i,20,-3,1,1,val_j,1,1,1,1,1,1,1,1,1,1,1,1,1,1,1,1,1,1,1]))      \n",
    "   \n",
    "# fig = plt.figure()\n",
    "# ax = fig.add_subplot(111)\n",
    "# ax.contourf(Bd, g3, result.T,100)\n",
    "# ax.contour(Bd, g3, result.T,levels=[ np.max(result)-2.3])\n",
    "\n",
    "# ax.set_xlabel(r'$\\beta_d$')\n",
    "# ax.set_ylabel(r'g3')\n",
    "# ax.ticklabel_format(style='sci', axis='both', scilimits=(0,0))\n",
    "\n",
    "# plt.show()"
   ]
  },
  {
   "cell_type": "code",
   "execution_count": 50,
   "metadata": {},
   "outputs": [],
   "source": [
    "# T = np.linspace(15,25,20)\n",
    "# g3 = np.linspace(0.5,1.5,20)\n",
    "# result = np.zeros((20,20))\n",
    "# for i,val_i in enumerate(T):\n",
    "#     for j,val_j in enumerate(g3):\n",
    "#         result[i,j] = spectral_likelihood(np.array([1.54,val_i,-3,1,1,val_j,1,1,1,1,1,1,1,1,1,1,1,1,1,1,1,1,1,1,1]))      \n",
    "   \n",
    "# fig = plt.figure()\n",
    "# ax = fig.add_subplot(111)\n",
    "# ax.contourf(T, g3, result.T,100)\n",
    "# ax.contour(T, g3, result.T,levels=[ np.max(result)-2.3])\n",
    "\n",
    "# ax.set_xlabel(r'T')\n",
    "# ax.set_ylabel(r'g3')\n",
    "# ax.ticklabel_format(style='sci', axis='both', scilimits=(0,0))\n",
    "\n",
    "# plt.show()"
   ]
  },
  {
   "cell_type": "code",
   "execution_count": 51,
   "metadata": {},
   "outputs": [],
   "source": [
    "# Bs = np.linspace(-3.2,-2.8,20)\n",
    "# g3 = np.linspace(0.8,1.2,20)\n",
    "# result = np.zeros((20,20))\n",
    "# for i,val_i in enumerate(Bs):\n",
    "#     for j,val_j in enumerate(g3):\n",
    "#         result[i,j] = spectral_likelihood(np.array([1.54,20,val_i,1,1,val_j,1,1,1,1,1,1,1,1,1,1,1,1,1,1,1,1,1,1,1]))      \n",
    "   \n",
    "# fig = plt.figure()\n",
    "# ax = fig.add_subplot(111)\n",
    "# ax.contourf(Bs, g3, result.T,100)\n",
    "# ax.contour(Bs, g3, result.T,levels=[ np.max(result)-2.3])\n",
    "\n",
    "# ax.set_xlabel(r'$\\beta_s$')\n",
    "# ax.set_ylabel(r'g3')\n",
    "# ax.ticklabel_format(style='sci', axis='both', scilimits=(0,0))\n",
    "# plt.show()"
   ]
  },
  {
   "cell_type": "code",
   "execution_count": 52,
   "metadata": {},
   "outputs": [],
   "source": [
    "# Bd = np.linspace(1.0,2.5,20)\n",
    "# Bs = np.linspace(-4,-2,20)\n",
    "# result = np.zeros((20,20))\n",
    "# for i,val_i in enumerate(Bd):\n",
    "#     for j,val_j in enumerate(Bs):\n",
    "#         result[i,j] = spectral_likelihood(np.array([val_i,20,val_j]))      \n",
    "   \n",
    "# fig = plt.figure()\n",
    "# ax = fig.add_subplot(111)\n",
    "# ax.contourf(Bd, Bs, result.T,100)\n",
    "# ax.contour(Bd, Bs, result.T,levels=[ np.max(result)-2.3])\n",
    "\n",
    "# ax.set_xlabel(r'$\\beta_d$')\n",
    "# ax.set_ylabel(r'$\\beta_s$')\n",
    "# ax.ticklabel_format(style='sci', axis='both', scilimits=(0,0))\n",
    "\n",
    "# plt.show()\n"
   ]
  },
  {
   "cell_type": "code",
   "execution_count": 53,
   "metadata": {},
   "outputs": [],
   "source": [
    "# Bd = np.linspace(2.6,3,20)\n",
    "# Bs = np.linspace(-0.5,0.5,20)\n",
    "# result = np.zeros((20,20))\n",
    "# for i,val_i in enumerate(Bd):\n",
    "#     for j,val_j in enumerate(Bs):\n",
    "#         result[i,j] = spectral_likelihood(np.array([val_i,20,val_j]))      \n",
    "   \n",
    "# fig = plt.figure()\n",
    "# ax = fig.add_subplot(111)\n",
    "# ax.contourf(Bd, Bs, result.T,100)\n",
    "# ax.contour(Bd, Bs, result.T,levels=[ np.max(result)-2.3])\n",
    "\n",
    "# ax.set_xlabel(r'$\\beta_d$')\n",
    "# ax.set_ylabel(r'$\\beta_s$')\n",
    "# ax.ticklabel_format(style='sci', axis='both', scilimits=(0,0))\n",
    "\n",
    "# plt.show()"
   ]
  },
  {
   "cell_type": "code",
   "execution_count": 54,
   "metadata": {},
   "outputs": [],
   "source": [
    "# Bd = np.linspace(1.52,1.56,20)\n",
    "# T = np.linspace(19.5,20.5,20)\n",
    "# result = np.zeros((20,20))\n",
    "# for i,val_i in enumerate(Bd):\n",
    "#     for j,val_j in enumerate(T):\n",
    "#         result[i,j] = spectral_likelihood(np.array([val_i,val_j,-3,1,1,1,1,1,1,1,1,1,1,1,1,1,1,1,1,1,1,1,1,1,1]))      \n",
    "   \n",
    "# fig = plt.figure()\n",
    "# ax = fig.add_subplot(111)\n",
    "# ax.contourf(Bd, T, result.T,100)\n",
    "# ax.contour(Bd, T, result.T,levels=[ np.max(result)-2.3])\n",
    "\n",
    "# ax.set_xlabel(r'$\\beta_d$')\n",
    "# ax.set_ylabel(r'T')\n",
    "# ax.ticklabel_format(style='sci', axis='both', scilimits=(0,0))\n",
    "\n",
    "# plt.show()"
   ]
  },
  {
   "cell_type": "code",
   "execution_count": 55,
   "metadata": {},
   "outputs": [],
   "source": [
    "# T = np.linspace(19.9,20.1,20)\n",
    "# Bs = np.linspace(-3.1,-2.9,20)\n",
    "# result = np.zeros((20,20))\n",
    "# for i,val_i in enumerate(T):\n",
    "#     for j,val_j in enumerate(Bs):\n",
    "#         result[i,j] = spectral_likelihood(np.array([1.54,val_i,val_j,1,1,1,1,1,1,1,1,1,1,1,1,1,1,1,1,1,1,1,1,1,1]))      \n",
    "   \n",
    "# fig = plt.figure()\n",
    "# ax = fig.add_subplot(111)\n",
    "# ax.contourf(T, Bs, result.T,100)\n",
    "# ax.contour(T, Bs, result.T,levels=[ np.max(result)-2.3])\n",
    "\n",
    "# ax.set_xlabel(r'T')\n",
    "# ax.set_ylabel(r'Betas')\n",
    "# ax.ticklabel_format(style='sci', axis='both', scilimits=(0,0))\n",
    "\n",
    "# plt.show()"
   ]
  }
 ],
 "metadata": {
  "kernelspec": {
   "display_name": "CMB",
   "language": "python",
   "name": "python3"
  },
  "language_info": {
   "codemirror_mode": {
    "name": "ipython",
    "version": 3
   },
   "file_extension": ".py",
   "mimetype": "text/x-python",
   "name": "python",
   "nbconvert_exporter": "python",
   "pygments_lexer": "ipython3",
   "version": "3.9.13"
  }
 },
 "nbformat": 4,
 "nbformat_minor": 2
}
