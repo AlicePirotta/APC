{
 "cells": [
  {
   "attachments": {},
   "cell_type": "markdown",
   "metadata": {},
   "source": [
    "\n",
    "%load_ext autoreload\n",
    "%autoreload 2\n",
    "%matplotlib inline\n",
    "import warnings\n",
    "warnings.filterwarnings(\"ignore\")"
   ]
  },
  {
   "cell_type": "code",
   "execution_count": 75,
   "metadata": {},
   "outputs": [],
   "source": [
    "import numpy as np\n",
    "import matplotlib.pyplot as plt\n",
    "from fgbuster import CMB, Dust, Synchrotron, MixingMatrix\n",
    "from fgbuster.observation_helpers import standardize_instrument, get_observation\n",
    "from fgbuster.cosmology import _get_Cl_cmb, _get_Cl_noise\n",
    "from scipy.optimize import minimize\n",
    "import matplotlib.pyplot as plt\n",
    "import healpy as hp\n",
    "import numdifftools as nd\n",
    "import math as m\n",
    "from fgbuster.algebra import  W_dBdB, W_dB, W, _mmm, _utmv, _mmv\n"
   ]
  },
  {
   "cell_type": "code",
   "execution_count": 76,
   "metadata": {},
   "outputs": [],
   "source": [
    "instr = np.load('/Users/alicepirotta/Desktop/APC/MCMC/instrument_LB_IMOv1.npy', allow_pickle=True).item()\n",
    "instr_ = {}\n",
    "instr_['frequency'] = np.array([instr[f]['freq'] for f in instr.keys()])\n",
    "instr_['depth_p'] = np.array([instr[f]['P_sens'] for f in instr.keys()])\n",
    "instr_['fwhm'] = np.array([instr[f]['beam'] for f in instr.keys()])\n",
    "instr_['depth_i'] = instr_['depth_p']/np.sqrt(2)\n",
    "instrument = standardize_instrument(instr_)"
   ]
  },
  {
   "cell_type": "code",
   "execution_count": 77,
   "metadata": {},
   "outputs": [],
   "source": [
    "nside = 64\n",
    "freq_maps_N = get_observation(instrument, 'd0s0', noise=True, nside=nside)[:,1:,:]\n",
    "freq_maps = get_observation(instrument, 'd0s0', noise=False, nside=nside)[:,1:,:]\n",
    "n_freq=22"
   ]
  },
  {
   "cell_type": "code",
   "execution_count": 78,
   "metadata": {},
   "outputs": [],
   "source": [
    "components= [CMB(), Dust(50.), Synchrotron(50.)]"
   ]
  },
  {
   "cell_type": "code",
   "execution_count": 79,
   "metadata": {},
   "outputs": [],
   "source": [
    "A = MixingMatrix(*components)\n",
    "A_ev = A.evaluator(instrument.frequency)\n",
    "A_dB_ev = A.diff_evaluator(instrument.frequency)\n",
    "N = np.eye(len(instrument.frequency)) \n",
    "invN = np.diag((hp.nside2resol(nside, arcmin=True) / instrument.depth_p)**2)"
   ]
  },
  {
   "cell_type": "code",
   "execution_count": 80,
   "metadata": {},
   "outputs": [],
   "source": [
    "\n",
    "x1 = np.array([1.3,19,-2.5, 0.8,1.3])"
   ]
  },
  {
   "cell_type": "code",
   "execution_count": 81,
   "metadata": {},
   "outputs": [],
   "source": [
    "# Cl_all_g = []\n",
    "# seeds = 10\n",
    "# for i in range (seeds):\n",
    "#     np.random.seed(i)\n",
    "    \n",
    "\n",
    "#     def spectral_likelihood(y):\n",
    "#         Bd, T, Bs, a, c = y\n",
    "#         b = 1\n",
    "#         G = np.diag([a,a,a,a,a,a,a,b,b,b,b,b,b,b,b,c,c,c,c,c,c,c])\n",
    "#         invNd = np.einsum('ij,jsp->isp', invN, freq_maps_N)\n",
    "#         A_maxL =G.dot(A_ev(np.array([Bd,T,Bs]))) \n",
    "#         logL = 0\n",
    "#         AtNd= np.einsum('ji,jsp->isp', A_maxL, invNd)\n",
    "#         AtNA = np.linalg.inv(A_maxL.T.dot(invN).dot(A_maxL))\n",
    "#         logL = logL + np.einsum('isp,ij,jsp->', AtNd, AtNA, AtNd)\n",
    "#         if logL != logL:\n",
    "#             return 0.0\n",
    "#         return -logL\n",
    "\n",
    "#     min_= minimize (spectral_likelihood, x1, method='Nelder-Mead')\n",
    "  \n",
    " \n",
    "#     a = min_.x[3]\n",
    "#     b= 1\n",
    "#     c = min_.x[4]\n",
    "#     G = np.diag([a,a,a,a,a,a,a,b,b,b,b,b,b,b,b,c,c,c,c,c,c,c])  \n",
    "#     invNd = np.einsum('ij,jsp->isp', invN, freq_maps_N)\n",
    "#     A_maxL =G.dot(A_ev(min_.x)) \n",
    "\n",
    "#     AtNd= np.einsum('ji,jsp->isp', A_maxL, invNd)\n",
    "#     AtNA = np.linalg.inv(A_maxL.T.dot(invN).dot(A_maxL))\n",
    "#     print(AtNA.shape)\n",
    "#     print(AtNd.shape)\n",
    "\n",
    "\n",
    "#     s = np.einsum('cg,gsp->csp', AtNA,AtNd)\n",
    "#     s = s[0]\n",
    "#     zeros=np.zeros((1, 49152))\n",
    "#     unione = np.vstack((zeros, s))\n",
    "    \n",
    "    \n",
    "#     Cl =hp.anafast(unione)[2,2:]\n",
    "#     Cl_all_g.append(Cl)\n",
    " \n",
    "\n",
    "# Cl_all_g=np.array(Cl_all_g)\n",
    "# Cl_mean_g=np.mean(Cl_all_g, axis=0) \n",
    "# Cl_std_g = np.std(Cl_all_g, axis=0)\n",
    "\n",
    "\n",
    "\n",
    "# ell = np.arange(2,192)\n",
    "# Dl_mean_g = (ell*(ell+1)*Cl_mean_g)/(2*m.pi)\n",
    "# Dl_std_g = (ell*(ell+1)*Cl_std_g)/(2*m.pi)\n",
    "\n",
    "\n",
    "\n",
    "\n",
    "# Cl_BB_r1 = _get_Cl_cmb(Alens=0.0, r=1.)[2][2:192]\n",
    "# Cl_BB_r001 = _get_Cl_cmb(Alens=0.0, r=0.001)[2][2:192]\n",
    "# Dl_BB = (ell*(ell+1)*Cl_BB_r001)/(2*m.pi)\n",
    "\n",
    "# Cl_lens = _get_Cl_cmb(Alens=1.0, r=0.)[2][2:192]\n",
    "# Dl_lens = (ell*(ell+1)*Cl_lens)/(2*m.pi)\n",
    "\n",
    "# Data_g = Cl_mean_g + Cl_lens\n",
    "# fsky = 1\n",
    "# F_g = np.sum((2*ell+1) * fsky / 2*Cl_BB_r1** 2 / Data_g ** 2)\n",
    "# sigma_r_fisher_g = np.sqrt(1.0 / F_g)\n",
    "# print(F_g)\n",
    "# print(sigma_r_fisher_g)\n",
    "\n",
    "\n",
    "\n",
    "\n",
    "\n",
    "# plt.loglog(ell, Dl_mean_g, label = \"Dl_BB_g\")\n",
    "# plt.loglog(ell, Dl_lens, label = \"Dl_lensing_g\")\n",
    "# plt.loglog(ell, Dl_BB, label = \"Dl_BB_r0.001_g\")\n",
    "# plt.fill_between(ell,Dl_mean_g+Dl_std_g, Dl_mean_g-Dl_std_g, alpha=0.2, label=\"Dl_BB_std_g\")\n",
    "\n",
    "\n",
    "\n",
    "# plt.xlabel(r'$\\ell$')\n",
    "# plt.ylabel(r'$\\ell$* ($\\ell$+1)*C$\\ell$/2$\\pi$')\n",
    "# plt.legend()\n"
   ]
  },
  {
   "cell_type": "code",
   "execution_count": 82,
   "metadata": {},
   "outputs": [
    {
     "name": "stdout",
     "output_type": "stream",
     "text": [
      "(22, 2, 22, 2)\n"
     ]
    }
   ],
   "source": [
    "dati = np.einsum('ijp,klp-> ijkl',freq_maps,freq_maps)\n",
    "print(dati.shape)\n"
   ]
  },
  {
   "cell_type": "code",
   "execution_count": 83,
   "metadata": {},
   "outputs": [
    {
     "name": "stdout",
     "output_type": "stream",
     "text": [
      "(2, 49152)\n",
      "(190,)\n",
      "838025028.8295424\n",
      "3.454391092918724e-05\n"
     ]
    },
    {
     "data": {
      "text/plain": [
       "<matplotlib.legend.Legend at 0x1763233a0>"
      ]
     },
     "execution_count": 83,
     "metadata": {},
     "output_type": "execute_result"
    },
    {
     "data": {
      "image/png": "[encoded data removed]",
      "text/plain": [
       "<Figure size 640x480 with 1 Axes>"
      ]
     },
     "metadata": {},
     "output_type": "display_data"
    }
   ],
   "source": [
    "\n",
    "def aver_likelihood(y):\n",
    "    Bd, T, Bs, a, c = y\n",
    "    b= 1\n",
    "    G = np.diag([a, a, a, a, a, a, a, a, b, b, b, b, b, b, c, c, c, c, c, c, c, c ])\n",
    "    A_maxL =G.dot(A_ev(np.array([Bd,T,Bs]))) \n",
    "    logL = 0\n",
    "    AtN = A_maxL.T.dot(invN)\n",
    "    NA= invN.dot(A_maxL)\n",
    "    AtNA = np.linalg.inv(A_maxL.T.dot(invN).dot(A_maxL))\n",
    "    P = NA.dot(AtNA).dot(AtN)\n",
    "    logL = logL -np.trace(np.einsum('fg, gikj->fk', P, dati)+np.einsum('fg, ij->gi', P, N))\n",
    "\n",
    "    if logL != logL:\n",
    "        return 0.0\n",
    "    return logL\n",
    "\n",
    "min_= minimize (aver_likelihood, x1, method='Nelder-Mead')\n",
    "   \n",
    "    \n",
    "      \n",
    "A_maxL =A_ev(min_.x) \n",
    "AtN = A_maxL.T.dot(N)\n",
    "AtNA = np.linalg.inv(A_maxL.T.dot(N).dot(A_maxL))\n",
    "\n",
    "s = np.einsum('cg,gs,sij->cij',AtNA,AtN,freq_maps)\n",
    "s = s[0]\n",
    "print(s.shape)\n",
    " \n",
    "zeros=np.zeros((1, 49152))\n",
    "unione = np.vstack((zeros, s))\n",
    "        \n",
    "   \n",
    "    \n",
    "Cl =hp.anafast(unione)[2,2:] \n",
    "print(Cl.shape)  \n",
    " \n",
    "\n",
    "\n",
    "ell = np.arange(2,192)\n",
    "Dl_mean = (ell*(ell+1)*Cl)/(2*m.pi)\n",
    "\n",
    "\n",
    "\n",
    "Cl_BB_r1 = _get_Cl_cmb(Alens=0.0, r=1.)[2][2:192]\n",
    "Cl_BB_r_001 = _get_Cl_cmb(Alens=0.0, r=0.001)[2][2:192]\n",
    "Dl_BB = (ell*(ell+1)*Cl_BB_r_001)/(2*m.pi)\n",
    "\n",
    "Cl_lens = _get_Cl_cmb(Alens=1.0, r=0.)[2][2:192]\n",
    "Dl_lens = (ell*(ell+1)*Cl_lens)/(2*m.pi)\n",
    "\n",
    "\n",
    "Data = Cl + Cl_lens\n",
    "fsky = 1\n",
    "F = np.sum((2*ell+1) * fsky / 2*Cl_BB_r1** 2 / Data ** 2)\n",
    "sigma_r_fisher = np.sqrt(1.0 / F)\n",
    "print(F)\n",
    "print(sigma_r_fisher)\n",
    "\n",
    "\n",
    "\n",
    "plt.loglog(ell, Dl_mean, label = \"Dl_BB\")\n",
    "plt.loglog(ell, Dl_lens, label = \"Dl_lensing\")\n",
    "plt.loglog(ell, Dl_BB, label = \"Dl_BB_r0.001\")\n",
    "\n",
    "\n",
    "\n",
    "\n",
    "plt.xlabel(r'$\\ell$')\n",
    "plt.ylabel(r'$\\ell$* ($\\ell$+1)*C$\\ell$/2$\\pi$')\n",
    "plt.legend()\n",
    "\n",
    "\n",
    "\n",
    "    \n"
   ]
  },
  {
   "cell_type": "code",
   "execution_count": 84,
   "metadata": {},
   "outputs": [
    {
     "ename": "AttributeError",
     "evalue": "'numpy.ndarray' object has no attribute 'Sigma'",
     "output_type": "error",
     "traceback": [
      "\u001b[0;31m---------------------------------------------------------------------------\u001b[0m",
      "\u001b[0;31mAttributeError\u001b[0m                            Traceback (most recent call last)",
      "Cell \u001b[0;32mIn[84], line 12\u001b[0m\n\u001b[1;32m      9\u001b[0m W_dB_maxL \u001b[39m=\u001b[39m W_dB(A_maxL, A_dB_maxL, A\u001b[39m.\u001b[39mcomp_of_dB, invN\u001b[39m=\u001b[39minvN)[:, \u001b[39m0\u001b[39m]\n\u001b[1;32m     10\u001b[0m W_dBdB_maxL \u001b[39m=\u001b[39m W_dBdB(A_maxL, A_dB_maxL, A_dBdB_maxL,\n\u001b[1;32m     11\u001b[0m                          A\u001b[39m.\u001b[39mcomp_of_dB, invN\u001b[39m=\u001b[39minvN)[:, :, \u001b[39m0\u001b[39m]\n\u001b[0;32m---> 12\u001b[0m V_maxL \u001b[39m=\u001b[39m np\u001b[39m.\u001b[39meinsum(\u001b[39m'\u001b[39m\u001b[39mij,ij...->...\u001b[39m\u001b[39m'\u001b[39m, s\u001b[39m.\u001b[39;49mSigma, W_dBdB_maxL)\n\u001b[1;32m     15\u001b[0m \u001b[39m#res.Sigma is the sigma_Fisher?\u001b[39;00m\n\u001b[1;32m     16\u001b[0m \n\u001b[1;32m     17\u001b[0m \u001b[39m# Check dimentions\u001b[39;00m\n\u001b[1;32m     18\u001b[0m \u001b[39massert\u001b[39;00m ((n_freq,) \u001b[39m==\u001b[39m W_maxL\u001b[39m.\u001b[39mshape \u001b[39m==\u001b[39m W_dB_maxL\u001b[39m.\u001b[39mshape[\u001b[39m1\u001b[39m:]\n\u001b[1;32m     19\u001b[0m                        \u001b[39m==\u001b[39m W_dBdB_maxL\u001b[39m.\u001b[39mshape[\u001b[39m2\u001b[39m:] \u001b[39m==\u001b[39m V_maxL\u001b[39m.\u001b[39mshape)\n",
      "\u001b[0;31mAttributeError\u001b[0m: 'numpy.ndarray' object has no attribute 'Sigma'"
     ]
    }
   ],
   "source": [
    "lmax=192\n",
    "lmin=2\n",
    "A_dB_maxL = A_dB_ev(s)\n",
    "A_dBdB_maxL = A.diff_diff_evaluator(instrument.frequency)(s)\n",
    "Cl_fgs = np.zeros((n_freq, n_freq, lmax+1), dtype=freq_maps.dtype)\n",
    "Cl_noise = _get_Cl_noise(instrument, A_maxL, lmax)[0, 0, lmin:]\n",
    "\n",
    "W_maxL = W(A_maxL, invN=invN)[0, :]\n",
    "W_dB_maxL = W_dB(A_maxL, A_dB_maxL, A.comp_of_dB, invN=invN)[:, 0]\n",
    "W_dBdB_maxL = W_dBdB(A_maxL, A_dB_maxL, A_dBdB_maxL,\n",
    "                         A.comp_of_dB, invN=invN)[:, :, 0]\n",
    "V_maxL = np.einsum('ij,ij...->...', s.Sigma, W_dBdB_maxL)\n",
    "\n",
    "\n",
    "#I put here on the top the things that I need to define. I change all the res with s. What is Sigma?\n",
    "\n",
    "# Check dimentions\n",
    "assert ((n_freq,) == W_maxL.shape == W_dB_maxL.shape[1:]\n",
    "                       == W_dBdB_maxL.shape[2:] == V_maxL.shape)\n",
    "assert (len(A.params) == W_dB_maxL.shape[0] \n",
    "                            == W_dBdB_maxL.shape[0] == W_dBdB_maxL.shape[1])\n",
    "\n",
    "# elementary quantities defined in Stompor, Errard, Poletti (2016)\n",
    "Cl_xF = {}\n",
    "Cl_xF['yy'] = _utmv(W_maxL, Cl_fgs.T, W_maxL)  # (ell,)\n",
    "Cl_xF['YY'] = _mmm(W_dB_maxL, Cl_fgs.T, W_dB_maxL.T)  # (ell, param, param)\n",
    "Cl_xF['yz'] = _utmv(W_maxL, Cl_fgs.T, V_maxL )  # (ell,)\n",
    "Cl_xF['Yy'] = _mmv(W_dB_maxL, Cl_fgs.T, W_maxL)  # (ell, param)\n",
    "Cl_xF['Yz'] = _mmv(W_dB_maxL, Cl_fgs.T, V_maxL)  # (ell, param)\n",
    "\n",
    "# bias and statistical foregrounds residuals\n",
    "s.noise = Cl_noise\n",
    "s.bias = Cl_xF['yy'] + 2 * Cl_xF['yz']  # S16, Eq 23\n",
    "s.stat = np.einsum('ij, lij -> l', s.Sigma, Cl_xF['YY'])  # E11, Eq. 12\n",
    "s.var = s.stat**2 + 2 * np.einsum('li, ij, lj -> l', # S16, Eq. 28\n",
    "                                          Cl_xF['Yy'], s.Sigma, Cl_xF['Yy'])"
   ]
  }
 ],
 "metadata": {
  "kernelspec": {
   "display_name": "gain_env",
   "language": "python",
   "name": "python3"
  },
  "language_info": {
   "codemirror_mode": {
    "name": "ipython",
    "version": 3
   },
   "file_extension": ".py",
   "mimetype": "text/x-python",
   "name": "python",
   "nbconvert_exporter": "python",
   "pygments_lexer": "ipython3",
   "version": "3.9.13"
  },
  "orig_nbformat": 4
 },
 "nbformat": 4,
 "nbformat_minor": 2
}
