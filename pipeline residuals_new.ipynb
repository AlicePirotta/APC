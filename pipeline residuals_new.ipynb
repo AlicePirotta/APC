{
 "cells": [
  {
   "attachments": {},
   "cell_type": "markdown",
   "metadata": {},
   "source": [
    "\n",
    "%load_ext autoreload\n",
    "%autoreload 2\n",
    "%matplotlib inline\n",
    "import warnings\n",
    "warnings.filterwarnings(\"ignore\")"
   ]
  },
  {
   "cell_type": "code",
   "execution_count": 1700,
   "metadata": {},
   "outputs": [],
   "source": [
    "import autograd.numpy as np \n",
    "import matplotlib.pyplot as plt\n",
    "from fgbuster import CMB, Dust, Synchrotron, MixingMatrix\n",
    "from fgbuster.observation_helpers import standardize_instrument, get_observation\n",
    "from fgbuster.cosmology import _get_Cl_cmb, _get_Cl_noise\n",
    "from scipy.optimize import minimize\n",
    "import matplotlib.pyplot as plt\n",
    "import healpy as hp\n",
    "import numdifftools.core as nd\n",
    "import math as m\n",
    "from fgbuster.algebra import  W_dBdB, W_dB, W, _mmm, _utmv, _mmv, comp_sep\n",
    "\n"
   ]
  },
  {
   "attachments": {},
   "cell_type": "markdown",
   "metadata": {},
   "source": [
    "## 1.general parameters"
   ]
  },
  {
   "cell_type": "code",
   "execution_count": 1701,
   "metadata": {},
   "outputs": [],
   "source": [
    "nside = 64\n",
    "model = 'd0s0'"
   ]
  },
  {
   "attachments": {},
   "cell_type": "markdown",
   "metadata": {},
   "source": [
    "Load the instrument"
   ]
  },
  {
   "cell_type": "code",
   "execution_count": 1702,
   "metadata": {},
   "outputs": [],
   "source": [
    "instr = np.load('/Users/alicepirotta/Desktop/APC/MCMC/instrument_LB_IMOv1.npy', allow_pickle=True).item()\n",
    "instr_ = {}\n",
    "instr_['frequency'] = np.array([instr[f]['freq'] for f in instr.keys()])\n",
    "instr_['depth_p'] = np.array([instr[f]['P_sens'] for f in instr.keys()])\n",
    "instr_['fwhm'] = np.array([instr[f]['beam'] for f in instr.keys()])\n",
    "instr_['depth_i'] = instr_['depth_p']/np.sqrt(2)\n",
    "instrument = standardize_instrument(instr_)\n",
    "\n",
    "n_freqs=len(instrument.frequency)\n",
    "n_stokes=3"
   ]
  },
  {
   "attachments": {},
   "cell_type": "markdown",
   "metadata": {},
   "source": [
    "Get the frequency maps "
   ]
  },
  {
   "cell_type": "code",
   "execution_count": 1703,
   "metadata": {},
   "outputs": [],
   "source": [
    "d_fgs_N = get_observation(instrument, model, noise=True, nside=nside)\n",
    "d_fgs = get_observation(instrument, model, noise=False, nside=nside)\n",
    "\n",
    "#take only the Q and U, not I\n",
    "freq_maps_N= d_fgs_N[:,1:,:]\n",
    "freq_maps= d_fgs[:,1:,:]\n"
   ]
  },
  {
   "attachments": {},
   "cell_type": "markdown",
   "metadata": {},
   "source": [
    "Chose the components to fit for"
   ]
  },
  {
   "cell_type": "code",
   "execution_count": 1704,
   "metadata": {},
   "outputs": [],
   "source": [
    "components= [CMB(), Dust(150.), Synchrotron(150.)]"
   ]
  },
  {
   "cell_type": "code",
   "execution_count": 1705,
   "metadata": {},
   "outputs": [],
   "source": [
    "M = MixingMatrix(*components) \n",
    "M_ev = M.evaluator(instrument.frequency)\n"
   ]
  },
  {
   "attachments": {},
   "cell_type": "markdown",
   "metadata": {},
   "source": [
    "Define the noise covariance matrix"
   ]
  },
  {
   "cell_type": "code",
   "execution_count": 1706,
   "metadata": {},
   "outputs": [],
   "source": [
    "N = np.diag((instrument.depth_p / hp.nside2resol(nside, arcmin=True))**2)\n",
    "invN = np.linalg.inv(N)\n"
   ]
  },
  {
   "attachments": {},
   "cell_type": "markdown",
   "metadata": {},
   "source": [
    "## 2.component separation"
   ]
  },
  {
   "attachments": {},
   "cell_type": "markdown",
   "metadata": {},
   "source": [
    "true and initial values for the parameters"
   ]
  },
  {
   "cell_type": "code",
   "execution_count": 1707,
   "metadata": {},
   "outputs": [],
   "source": [
    "gains_true = np.ones(21)\n",
    "x_true = np.concatenate((M.defaults, gains_true))\n",
    "\n",
    "x_init = np.random.uniform(low=x_true * (1 - 1 / 40), high= x_true * (1 + 1 / 40))"
   ]
  },
  {
   "attachments": {},
   "cell_type": "markdown",
   "metadata": {},
   "source": [
    "#### average spectral likelihood"
   ]
  },
  {
   "cell_type": "code",
   "execution_count": 1708,
   "metadata": {},
   "outputs": [
    {
     "name": "stdout",
     "output_type": "stream",
     "text": [
      "(22, 3)\n"
     ]
    }
   ],
   "source": [
    "dati = np.einsum('ijp,klp-> ijkl',freq_maps,freq_maps)\n",
    "print(M_ev(np.array([1.54,20,-3])).shape)\n"
   ]
  },
  {
   "cell_type": "code",
   "execution_count": 1709,
   "metadata": {},
   "outputs": [],
   "source": [
    "def aver_likelihood(y):\n",
    "    Bd, T, Bs, a, b, c, d, e, f, g, h, i, l, m, n, o, p, q, s, t, u, v, w, z = y\n",
    "    r= 1\n",
    "    G = np.diag([a, b, c, d, e, f, g, h, i, l, m, n, o, p, q, r, s, t, u, v, w, z ])\n",
    "    A_maxL =G.dot(M_ev(np.array([Bd,T,Bs]))) \n",
    "    logL = 0\n",
    "    AtN = A_maxL.T.dot(invN)\n",
    "    NA= invN.dot(A_maxL)\n",
    "    AtNA = np.linalg.inv(A_maxL.T.dot(invN).dot(A_maxL))\n",
    "    P = NA.dot(AtNA).dot(AtN)\n",
    "    logL = logL -np.trace(np.einsum('fg, gikj->fk', P, dati)+np.einsum('fg, ij->gi', P, N))\n",
    "\n",
    "    if logL != logL:\n",
    "        return 0.0\n",
    "    return logL"
   ]
  },
  {
   "cell_type": "code",
   "execution_count": 1710,
   "metadata": {},
   "outputs": [
    {
     "data": {
      "text/plain": [
       "-31300490262.32101"
      ]
     },
     "execution_count": 1710,
     "metadata": {},
     "output_type": "execute_result"
    }
   ],
   "source": [
    "aver_likelihood(x_true)"
   ]
  },
  {
   "attachments": {},
   "cell_type": "markdown",
   "metadata": {},
   "source": [
    "#### step1: minimization of the average spectral likelihood"
   ]
  },
  {
   "cell_type": "code",
   "execution_count": 1711,
   "metadata": {},
   "outputs": [
    {
     "name": "stdout",
     "output_type": "stream",
     "text": [
      " message: Converged (|f_n-f_(n-1)| ~= 0)\n",
      " success: True\n",
      "  status: 1\n",
      "     fun: -31300490262.32105\n",
      "       x: [ 1.540e+00  2.000e+01 ...  1.000e+00  1.000e+00]\n",
      "     nit: 4\n",
      "     jac: [ 3.815e+02  3.815e+02 ...  7.629e+02  3.815e+02]\n",
      "    nfev: 1325\n",
      "[ 1.54       20.00000008 -2.99999996  1.00000019  0.99999998  1.00000014\n",
      "  0.99999997  0.99999998  1.00000006  0.99999995  1.          0.99999992\n",
      "  1.00000001  0.99999998  1.          0.99999995  0.99999995  1.00000003\n",
      "  0.99999998  1.00000004  1.00000005  0.99999998  1.00000007  0.99999998]\n"
     ]
    }
   ],
   "source": [
    "bnds = ((1.4, 1.6), (10, 30), (-3.5,-2.5), (0.5,1.5), (0.5,1.5), (0.5,1.5), (0.5,1.5), (0.5,1.5), (0.5,1.5), (0.5,1.5), (0.5,1.5), (0.5,1.5), (0.5,1.5), (0.5,1.5), (0.5,1.5), (0.5,1.5), (0.5,1.5), (0.5,1.5), (0.5,1.5), (0.5,1.5), (0.5,1.5), (0.5,1.5), (0.5,1.5), (0.5,1.5))\n",
    "options={'maxfun':50000}\n",
    "result= minimize(aver_likelihood, x_true, method='TNC', tol = 1e-18, options=options, bounds=bnds )\n",
    "print(result)\n",
    "print(result.x)"
   ]
  },
  {
   "attachments": {},
   "cell_type": "markdown",
   "metadata": {},
   "source": [
    "Calculate the errors of the parameters"
   ]
  },
  {
   "cell_type": "code",
   "execution_count": 1712,
   "metadata": {},
   "outputs": [
    {
     "name": "stdout",
     "output_type": "stream",
     "text": [
      "[[-3.33000390e-02  4.16480756e-01 -3.18597802e-02 -4.37273390e-02\n",
      "  -3.66546979e-02 -3.08970697e-02 -2.69634230e-02 -2.69634208e-02\n",
      "  -2.26787995e-02 -2.26787943e-02 -1.85942046e-02 -1.85942002e-02\n",
      "  -1.50208759e-02 -9.75874544e-03 -4.93592247e-03 -1.50208742e-02\n",
      "  -9.75874486e-03 -4.93592279e-03  4.52794099e-03  4.52794149e-03\n",
      "   9.56741226e-03  1.40462468e-02  1.84456144e-02  2.22260114e-02]\n",
      " [ 4.16480746e-01 -1.81494203e+01  3.43750719e-01  4.23067950e-01\n",
      "   3.47803931e-01  2.87230663e-01  2.46459740e-01  2.46459717e-01\n",
      "   2.02885558e-01  2.02885511e-01  1.62396038e-01  1.62395998e-01\n",
      "   1.28016948e-01  7.96256600e-02  3.82946206e-02  1.28016933e-01\n",
      "   7.96256554e-02  3.82946231e-02 -3.03350951e-02 -3.03350984e-02\n",
      "  -5.65742996e-02 -7.02862722e-02 -7.01714115e-02 -5.23776212e-02]\n",
      " [-3.18597803e-02  3.43750730e-01 -2.86808234e-02 -4.03230537e-02\n",
      "  -3.39226855e-02 -2.87106086e-02 -2.51447485e-02 -2.51447465e-02\n",
      "  -2.12430736e-02 -2.12430687e-02 -1.74940069e-02 -1.74940027e-02\n",
      "  -1.41860832e-02 -9.26689661e-03 -4.71033446e-03 -1.41860815e-02\n",
      "  -9.26689607e-03 -4.71033477e-03  4.36477955e-03  4.36478003e-03\n",
      "   9.27813249e-03  1.37041407e-02  1.81235631e-02  2.20050731e-02]\n",
      " [-4.37273391e-02  4.23067965e-01 -4.03230538e-02 -5.65594277e-02\n",
      "  -4.75688169e-02 -4.02445280e-02 -3.52325816e-02 -3.52325788e-02\n",
      "  -2.97515937e-02 -2.97515868e-02 -2.44914328e-02 -2.44914270e-02\n",
      "  -1.98559453e-02 -1.29696427e-02 -6.59383724e-03 -1.98559429e-02\n",
      "  -1.29696419e-02 -6.59383766e-03  6.11836782e-03  6.11836850e-03\n",
      "   1.30237523e-02  1.92716176e-02  2.55532116e-02  3.11294548e-02]\n",
      " [-3.66546980e-02  3.47803944e-01 -3.39226855e-02 -4.75688169e-02\n",
      "  -4.00059218e-02 -3.38446361e-02 -2.96282953e-02 -2.96282930e-02\n",
      "  -2.50177047e-02 -2.50176989e-02 -2.05936063e-02 -2.05936014e-02\n",
      "  -1.66955261e-02 -1.09054022e-02 -5.54466311e-03 -1.66955241e-02\n",
      "  -1.09054016e-02 -5.54466347e-03  5.14614936e-03  5.14614993e-03\n",
      "   1.09569032e-02  1.62182535e-02  2.15139781e-02  2.62231397e-02]\n",
      " [-3.08970698e-02  2.87230674e-01 -2.87106087e-02 -4.02445280e-02\n",
      "  -3.38446361e-02 -2.86301792e-02 -2.50619105e-02 -2.50619085e-02\n",
      "  -2.11602496e-02 -2.11602447e-02 -1.74171811e-02 -1.74171770e-02\n",
      "  -1.41198385e-02 -9.22287282e-03 -4.68938487e-03 -1.41198368e-02\n",
      "  -9.22287228e-03 -4.68938517e-03  4.35333906e-03  4.35333954e-03\n",
      "   9.27105371e-03  1.37270619e-02  1.82172671e-02  2.22170665e-02]\n",
      " [-2.69634230e-02  2.46459749e-01 -2.51447485e-02 -3.52325816e-02\n",
      "  -2.96282953e-02 -2.50619105e-02 -2.19367901e-02 -2.19368921e-02\n",
      "  -1.85202903e-02 -1.85202860e-02 -1.52431949e-02 -1.52431913e-02\n",
      "  -1.23569041e-02 -8.07113683e-03 -4.10384862e-03 -1.23569026e-02\n",
      "  -8.07113636e-03 -4.10384888e-03  3.81037347e-03  3.81037389e-03\n",
      "   8.11616080e-03  1.20199174e-02  1.59571549e-02  1.94692216e-02]\n",
      " [-2.69634209e-02  2.46459726e-01 -2.51447465e-02 -3.52325788e-02\n",
      "  -2.96282930e-02 -2.50619085e-02 -2.19368921e-02 -2.19366264e-02\n",
      "  -1.85202889e-02 -1.85202846e-02 -1.52431938e-02 -1.52431901e-02\n",
      "  -1.23569031e-02 -8.07113621e-03 -4.10384830e-03 -1.23569016e-02\n",
      "  -8.07113573e-03 -4.10384857e-03  3.81037318e-03  3.81037360e-03\n",
      "   8.11616017e-03  1.20199165e-02  1.59571537e-02  1.94692201e-02]\n",
      " [-2.26787996e-02  2.02885566e-01 -2.12430736e-02 -2.97515937e-02\n",
      "  -2.50177047e-02 -2.11602496e-02 -1.85202903e-02 -1.85202889e-02\n",
      "  -1.56342349e-02 -1.56342933e-02 -1.28667972e-02 -1.28667941e-02\n",
      "  -1.04299240e-02 -6.81226063e-03 -3.46382435e-03 -1.04299228e-02\n",
      "  -6.81226023e-03 -3.46382458e-03  3.21674921e-03  3.21674957e-03\n",
      "   6.85321810e-03  1.01524703e-02  1.34836961e-02  1.64602464e-02]\n",
      " [-2.26787943e-02  2.02885519e-01 -2.12430687e-02 -2.97515868e-02\n",
      "  -2.50176989e-02 -2.11602447e-02 -1.85202860e-02 -1.85202846e-02\n",
      "  -1.56342933e-02 -1.56341958e-02 -1.28667942e-02 -1.28667912e-02\n",
      "  -1.04299216e-02 -6.81225905e-03 -3.46382355e-03 -1.04299203e-02\n",
      "  -6.81225865e-03 -3.46382377e-03  3.21674846e-03  3.21674882e-03\n",
      "   6.85321651e-03  1.01524680e-02  1.34836929e-02  1.64602425e-02]\n",
      " [-1.85942047e-02  1.62396045e-01 -1.74940069e-02 -2.44914329e-02\n",
      "  -2.05936063e-02 -1.74171811e-02 -1.52431949e-02 -1.52431938e-02\n",
      "  -1.28667972e-02 -1.28667942e-02 -1.05884179e-02 -1.05884466e-02\n",
      "  -8.58272919e-03 -5.60568892e-03 -2.85042835e-03 -8.58272817e-03\n",
      "  -5.60568859e-03 -2.85042853e-03  2.64775176e-03  2.64775205e-03\n",
      "   5.64239047e-03  8.36146501e-03  1.11102185e-02  1.35708431e-02]\n",
      " [-1.85942002e-02  1.62396004e-01 -1.74940027e-02 -2.44914270e-02\n",
      "  -2.05936014e-02 -1.74171770e-02 -1.52431913e-02 -1.52431901e-02\n",
      "  -1.28667941e-02 -1.28667912e-02 -1.05884466e-02 -1.05882727e-02\n",
      "  -8.58272714e-03 -5.60568758e-03 -2.85042767e-03 -8.58272612e-03\n",
      "  -5.60568725e-03 -2.85042785e-03  2.64775113e-03  2.64775142e-03\n",
      "   5.64238912e-03  8.36146302e-03  1.11102158e-02  1.35708399e-02]\n",
      " [-1.50208760e-02  1.28016954e-01 -1.41860832e-02 -1.98559453e-02\n",
      "  -1.66955261e-02 -1.41198385e-02 -1.23569041e-02 -1.23569031e-02\n",
      "  -1.04299240e-02 -1.04299216e-02 -8.58272919e-03 -8.58272714e-03\n",
      "  -6.95680912e-03 -4.54382599e-03 -2.31062870e-03 -6.95682466e-03\n",
      "  -4.54382572e-03 -2.31062885e-03  2.14694378e-03  2.14694402e-03\n",
      "   4.57638512e-03  6.78405278e-03  9.01853496e-03  1.10224476e-02]\n",
      " [-9.75874547e-03  7.96256635e-02 -9.26689663e-03 -1.29696427e-02\n",
      "  -1.09054023e-02 -9.22287282e-03 -8.07113684e-03 -8.07113621e-03\n",
      "  -6.81226063e-03 -6.81225905e-03 -5.60568892e-03 -5.60568758e-03\n",
      "  -4.54382599e-03 -2.96803968e-03 -1.50954854e-03 -4.54382545e-03\n",
      "  -2.96804454e-03 -1.50954863e-03  1.40341157e-03  1.40341173e-03\n",
      "   2.99296844e-03  4.43950032e-03  5.90669994e-03  7.22660870e-03]\n",
      " [-4.93592249e-03  3.82946224e-02 -4.71033447e-03 -6.59383725e-03\n",
      "  -5.54466312e-03 -4.68938487e-03 -4.10384862e-03 -4.10384831e-03\n",
      "  -3.46382436e-03 -3.46382355e-03 -2.85042835e-03 -2.85042767e-03\n",
      "  -2.31062870e-03 -1.50954854e-03 -7.67924692e-04 -2.31062842e-03\n",
      "  -1.50954845e-03 -7.67927043e-04  7.14439972e-04  7.14440051e-04\n",
      "   1.52452712e-03  2.26292707e-03  3.01363190e-03  3.69126761e-03]\n",
      " [-1.50208742e-02  1.28016938e-01 -1.41860815e-02 -1.98559429e-02\n",
      "  -1.66955241e-02 -1.41198368e-02 -1.23569026e-02 -1.23569016e-02\n",
      "  -1.04299228e-02 -1.04299203e-02 -8.58272817e-03 -8.58272612e-03\n",
      "  -6.95682466e-03 -4.54382545e-03 -2.31062842e-03 -6.95681283e-03\n",
      "  -4.54382518e-03 -2.31062857e-03  2.14694352e-03  2.14694376e-03\n",
      "   4.57638457e-03  6.78405197e-03  9.01853389e-03  1.10224463e-02]\n",
      " [-9.75874490e-03  7.96256589e-02 -9.26689608e-03 -1.29696419e-02\n",
      "  -1.09054016e-02 -9.22287228e-03 -8.07113636e-03 -8.07113574e-03\n",
      "  -6.81226023e-03 -6.81225865e-03 -5.60568859e-03 -5.60568726e-03\n",
      "  -4.54382573e-03 -2.96804454e-03 -1.50954845e-03 -4.54382518e-03\n",
      "  -2.96804160e-03 -1.50954855e-03  1.40341149e-03  1.40341164e-03\n",
      "   2.99296827e-03  4.43950006e-03  5.90669959e-03  7.22660828e-03]\n",
      " [-4.93592281e-03  3.82946249e-02 -4.71033478e-03 -6.59383767e-03\n",
      "  -5.54466348e-03 -4.68938517e-03 -4.10384889e-03 -4.10384857e-03\n",
      "  -3.46382458e-03 -3.46382378e-03 -2.85042853e-03 -2.85042785e-03\n",
      "  -2.31062885e-03 -1.50954864e-03 -7.67927043e-04 -2.31062857e-03\n",
      "  -1.50954855e-03 -7.67925300e-04  7.14440018e-04  7.14440097e-04\n",
      "   1.52452721e-03  2.26292721e-03  3.01363210e-03  3.69126784e-03]\n",
      " [ 4.52794101e-03 -3.03350968e-02  4.36477956e-03  6.11836783e-03\n",
      "   5.14614937e-03  4.35333907e-03  3.81037348e-03  3.81037318e-03\n",
      "   3.21674922e-03  3.21674847e-03  2.64775176e-03  2.64775113e-03\n",
      "   2.14694378e-03  1.40341157e-03  7.14439973e-04  2.14694352e-03\n",
      "   1.40341149e-03  7.14440019e-04 -6.66046845e-04 -6.66047323e-04\n",
      "  -1.42355151e-03 -2.11703625e-03 -2.82638555e-03 -3.47224343e-03]\n",
      " [ 4.52794151e-03 -3.03351001e-02  4.36478004e-03  6.11836851e-03\n",
      "   5.14614994e-03  4.35333955e-03  3.81037390e-03  3.81037361e-03\n",
      "   3.21674957e-03  3.21674883e-03  2.64775206e-03  2.64775143e-03\n",
      "   2.14694402e-03  1.40341173e-03  7.14440052e-04  2.14694376e-03\n",
      "   1.40341165e-03  7.14440098e-04 -6.66047323e-04 -6.66046497e-04\n",
      "  -1.42355167e-03 -2.11703648e-03 -2.82638586e-03 -3.47224382e-03]\n",
      " [ 9.56741231e-03 -5.65743033e-02  9.27813252e-03  1.30237523e-02\n",
      "   1.09569032e-02  9.27105373e-03  8.11616081e-03  8.11616019e-03\n",
      "   6.85321812e-03  6.85321653e-03  5.64239048e-03  5.64238914e-03\n",
      "   4.57638512e-03  2.99296845e-03  1.52452712e-03  4.57638458e-03\n",
      "   2.99296827e-03  1.52452722e-03 -1.42355151e-03 -1.42355167e-03\n",
      "  -3.04627413e-03 -4.53662914e-03 -6.06778677e-03 -7.47042144e-03]\n",
      " [ 1.40462469e-02 -7.02862776e-02  1.37041407e-02  1.92716177e-02\n",
      "   1.62182536e-02  1.37270620e-02  1.20199175e-02  1.20199165e-02\n",
      "   1.01524704e-02  1.01524680e-02  8.36146504e-03  8.36146304e-03\n",
      "   6.78405279e-03  4.43950033e-03  2.26292707e-03  6.78405199e-03\n",
      "   4.43950007e-03  2.26292722e-03 -2.11703625e-03 -2.11703648e-03\n",
      "  -4.53662914e-03 -6.76696532e-03 -9.06965609e-03 -1.11932916e-02]\n",
      " [ 1.84456145e-02 -7.01714189e-02  1.81235632e-02  2.55532117e-02\n",
      "   2.15139782e-02  1.82172672e-02  1.59571550e-02  1.59571538e-02\n",
      "   1.34836961e-02  1.34836930e-02  1.11102185e-02  1.11102159e-02\n",
      "   9.01853499e-03  5.90669996e-03  3.01363191e-03  9.01853391e-03\n",
      "   5.90669961e-03  3.01363211e-03 -2.82638555e-03 -2.82638587e-03\n",
      "  -6.06778678e-03 -9.06965610e-03 -1.21882324e-02 -1.50884608e-02]\n",
      " [ 2.22260116e-02 -5.23776305e-02  2.20050732e-02  3.11294549e-02\n",
      "   2.62231398e-02  2.22170666e-02  1.94692216e-02  1.94692202e-02\n",
      "   1.64602464e-02  1.64602426e-02  1.35708432e-02  1.35708400e-02\n",
      "   1.10224476e-02  7.22660873e-03  3.69126762e-03  1.10224463e-02\n",
      "   7.22660831e-03  3.69126786e-03 -3.47224344e-03 -3.47224383e-03\n",
      "  -7.47042146e-03 -1.11932917e-02 -1.50884608e-02 -1.87450510e-02]]\n"
     ]
    }
   ],
   "source": [
    "H = nd.Hessian(aver_likelihood)\n",
    "h = H(result.x)\n",
    "\n",
    "sigma_params_square = np.linalg.inv(h)\n",
    "print(sigma_params_square)\n",
    "\n",
    "#Hessian should be only 3,3"
   ]
  },
  {
   "attachments": {},
   "cell_type": "markdown",
   "metadata": {},
   "source": [
    "definition of A=G*M"
   ]
  },
  {
   "cell_type": "code",
   "execution_count": 1713,
   "metadata": {},
   "outputs": [],
   "source": [
    "def G_tot(gain_params):\n",
    "    a, b, c, d, e, f, g, h, i, l, m, n, o, p, q, s, t, u, v, w, z = gain_params\n",
    "    r= 1\n",
    "    G = np.diag([a, b, c, d, e, f, g, h, i, l, m, n, o, p, q, r, s, t, u, v, w, z ])\n",
    "    return G"
   ]
  },
  {
   "cell_type": "code",
   "execution_count": 1714,
   "metadata": {},
   "outputs": [],
   "source": [
    "#modified\n",
    "def A_ev_new(y):\n",
    "    Bd, T, Bs, a, b, c, d, e, f, g, i, l, m, n, o, p, q, r, s, t, u, v, w, z = y\n",
    "    h = 1\n",
    "    G = np.diag([a, b, c, d, e, f, g, h, i, l, m, n, o, p, q, r, s, t, u, v, w, z ])\n",
    "    A_maxL =G.dot(M_ev(np.array([Bd,T,Bs])))\n",
    "    print(A_maxL.shape)\n",
    "    return A_maxL"
   ]
  },
  {
   "cell_type": "code",
   "execution_count": 1715,
   "metadata": {},
   "outputs": [
    {
     "name": "stdout",
     "output_type": "stream",
     "text": [
      "(22, 3)\n",
      "(22, 3)\n"
     ]
    }
   ],
   "source": [
    "#evaluate the matrix A at maximum of the average likelihood\n",
    "\n",
    "A_maxL=A_ev_new(result.x) #(n_freq,n_component) #modified\n",
    "print(A_maxL.shape)\n"
   ]
  },
  {
   "attachments": {},
   "cell_type": "markdown",
   "metadata": {},
   "source": [
    "#### step2: take the component maps (residual, dust, synch)\n",
    "the first one should be CMB, but I have no CMB, so it is residual"
   ]
  },
  {
   "cell_type": "code",
   "execution_count": 1716,
   "metadata": {},
   "outputs": [],
   "source": [
    "AtN=A_maxL.T.dot(invN)\n",
    "AtNA=np.linalg.inv(A_maxL.T.dot(invN).dot(A_maxL))\n",
    "comp_maps=np.einsum ('cg,gs,sij->cij', AtNA,AtN, freq_maps)\n",
    "\n",
    "\n",
    "W_maxL = np.einsum ('cg,gs->cs', AtNA,AtN)\n",
    "\n",
    "\n",
    "residual_maps_QU = comp_maps[0]\n",
    "zeros=np.zeros((1, 49152))\n",
    "residual_maps_IQU = np.vstack((zeros, residual_maps_QU))\n"
   ]
  },
  {
   "attachments": {},
   "cell_type": "markdown",
   "metadata": {},
   "source": [
    "## 3. total residual power spectrum"
   ]
  },
  {
   "cell_type": "code",
   "execution_count": 1717,
   "metadata": {},
   "outputs": [
    {
     "data": {
      "text/plain": [
       "<matplotlib.legend.Legend at 0x191b33310>"
      ]
     },
     "execution_count": 1717,
     "metadata": {},
     "output_type": "execute_result"
    },
    {
     "data": {
      "image/png": "[encoded data removed]",
      "text/plain": [
       "<Figure size 640x480 with 1 Axes>"
      ]
     },
     "metadata": {},
     "output_type": "display_data"
    }
   ],
   "source": [
    "#multipole range \n",
    "lmin= 2\n",
    "lmax= 192\n",
    "ell = np.arange(lmin,lmax)\n",
    "\n",
    "\n",
    "#power spectrum of the total residual \n",
    "Cl_BB_residual =hp.anafast(residual_maps_IQU)[2,lmin:] #with [2] I select the B mode #closed to bias\n",
    "Dl_BB_residual = (ell*(ell+1)*Cl_BB_residual)/(2*m.pi)\n",
    "\n",
    "\n",
    "#Cl theory \n",
    "Cl_BB_r1 = _get_Cl_cmb(Alens=0.0, r=1.)[2][lmin:lmax]\n",
    "Cl_BB_r_001 = _get_Cl_cmb(Alens=0.0, r=0.001)[2] [lmin:lmax]\n",
    "\n",
    "#Dl theory\n",
    "Dl_BB_r001 = (ell*(ell+1)*Cl_BB_r_001)/(2*m.pi)\n",
    "\n",
    "\n",
    "#lensing\n",
    "Cl_lens = _get_Cl_cmb(Alens=1.0, r=0.)[2][lmin:lmax]\n",
    "Dl_lens = (ell*(ell+1)*Cl_lens)/(2*m.pi)\n",
    "\n",
    "#plot power spectra\n",
    "plt.loglog(ell, Dl_BB_residual, label = \"Dl_BB_residual\")\n",
    "plt.loglog(ell, Dl_lens, label = \"Dl_lensing\")\n",
    "plt.loglog(ell, Dl_BB_r001, label = \"Dl_BB_r0.001\")\n",
    "plt.xlabel(r'$\\ell$')\n",
    "plt.ylabel(r'$\\ell$* ($\\ell$+1)*C$\\ell$/2$\\pi$')\n",
    "plt.legend()\n",
    "\n"
   ]
  },
  {
   "attachments": {},
   "cell_type": "markdown",
   "metadata": {},
   "source": [
    "## 4.Calculate sigma Fisher"
   ]
  },
  {
   "cell_type": "code",
   "execution_count": 1718,
   "metadata": {},
   "outputs": [],
   "source": [
    "Data = Cl_BB_residual + Cl_lens #it is needed by the cosmological likelihood\n",
    "fsky = 1\n",
    "F = np.sum((2*ell+1) * fsky / 2*Cl_BB_r1** 2 / Data ** 2) #it is a scalar because I am using comsological likelihood\n",
    "sigma_r_fisher = np.sqrt(1.0 / F)"
   ]
  },
  {
   "cell_type": "code",
   "execution_count": 1719,
   "metadata": {},
   "outputs": [
    {
     "name": "stdout",
     "output_type": "stream",
     "text": [
      "(24, 3, 22)\n"
     ]
    }
   ],
   "source": [
    "i_cmb = M.components.index('CMB')\n",
    "\n",
    "#residual (n_component,n_freq)\n",
    "W_maxL = np.einsum ('cg,gs->cs', AtNA,AtN)[i_cmb,:]\n",
    "\n",
    "\n",
    "\n",
    "#this function takes the gain parameters 21 from the minimization and add the one that is fixed at 1\n",
    "def G_values_tot(gain_params):\n",
    "    a, b, c, d, e, f, g, h, i, l, m, n, o, p, q, s, t, u, v, w, z = gain_params\n",
    "    r= 1\n",
    "    G = [a, b, c, d, e, f, g, h, i, l, m, n, o, p, q, r, s, t, u, v, w, z]\n",
    "    return G\n",
    "\n",
    "gain_params_tot= G_values_tot(result.x[3:])\n",
    "# gain_params_tot= G_values_tot(np.ones(21))  #modified\n",
    "\n",
    "\n",
    "#it gives you the derivative of the gain respect to each gains\n",
    "def G_diff(gain_params_tot_):\n",
    "    G_dB = []\n",
    "    for i,_ in enumerate(result.x[3:]):\n",
    "        zeros= np.zeros((len(gain_params_tot_),len(gain_params_tot_)))\n",
    "        zeros[i] = 1\n",
    "        G_dB.append(zeros)\n",
    "    return np.array(G_dB)\n",
    "\n",
    "\n",
    "\n",
    "def zeros(M_dB_):\n",
    "    M_dB=[]\n",
    "    zero_column=np.zeros(22)\n",
    "    for i,_ in enumerate(result.x[:3]):\n",
    "        if i == 2: \n",
    "            M_dB_tot=np.vstack((zero_column,zero_column,M_dB_[i,:,0], zero_column, zero_column, zero_column, \n",
    "                                zero_column, zero_column, zero_column, zero_column, zero_column, zero_column, \n",
    "                                zero_column, zero_column, zero_column, zero_column, zero_column, zero_column, \n",
    "                                zero_column, zero_column, zero_column, zero_column, zero_column, zero_column))   \n",
    "        else:\n",
    "            M_dB_tot=np.vstack((zero_column,M_dB_[i,:,0], zero_column, zero_column, zero_column, zero_column, \n",
    "                                zero_column, zero_column, zero_column, zero_column, zero_column, zero_column, \n",
    "                                zero_column, zero_column, zero_column, zero_column, zero_column, zero_column, \n",
    "                                zero_column, zero_column, zero_column, zero_column, zero_column, zero_column))\n",
    "        M_dB.append(M_dB_tot)\n",
    "    return np.array(M_dB)\n",
    "\n",
    "\n",
    "\n",
    "\n",
    "def A_diff_new(params_values):\n",
    "    spectral_params_values = params_values[:3]\n",
    "    # gain_params_values = params_values[3:]\n",
    "    \n",
    "\n",
    "    #first term\n",
    "    G_dB=G_diff(gain_params_tot)  #(gain_param,freq,freq)=(21,22,22)\n",
    "    zeros_matrix=np.zeros((3,22,22))\n",
    "    G_dB_tot= np.concatenate((zeros_matrix,G_dB), axis=0) #(param, freq, freq)=(24,22,22)\n",
    "  \n",
    "\n",
    "    M_ev_val = M_ev(spectral_params_values) #(freq,component)=(22,3)\n",
    "    # derivatives of G wrt. spectral parameters is zero\n",
    "    G_dB_M = np.einsum('gif, fc-> gci',  G_dB_tot, M_ev_val) #(param, component, freq)= (24, 3, 22)\n",
    "   \n",
    "    \n",
    "\n",
    "    #second term\n",
    "    M_dB_ev = M.diff_evaluator(instrument.frequency)\n",
    "    M_dB_val = np.array(M_dB_ev(spectral_params_values))#(spec_param,freq,component)=(3,22,1)\n",
    "    M_dB_tot=zeros(M_dB_val)#(component, param, freq)=(3,24,22)\n",
    "    M_dB_tot=np.array(M_dB_tot)\n",
    "   \n",
    "\n",
    "    G = np.diag(np.array(gain_params_tot)) #(freq,freq)=(22,22)\n",
    "    # G = np.eye(22,22) #modified\n",
    "    G_M_dB_val = np.einsum('abc, cd-> bad', M_dB_tot,G) #(param, component, freq)= (24,3,22)\n",
    "  \n",
    " \n",
    "    A_dB_new= G_dB_M+G_M_dB_val#(params,freq,component)=(24,22,3)\n",
    "    print(A_dB_new.shape)\n",
    "    return A_dB_new\n",
    "\n",
    "\n",
    "A_dB_maxL= A_diff_new(result.x)"
   ]
  },
  {
   "attachments": {},
   "cell_type": "markdown",
   "metadata": {},
   "source": [
    "## estimation of the statistical and systematics residuals"
   ]
  },
  {
   "cell_type": "code",
   "execution_count": 1720,
   "metadata": {},
   "outputs": [
    {
     "name": "stdout",
     "output_type": "stream",
     "text": [
      "[[[[ 1.57188730e-01  1.54788568e-01  1.44838478e-01 ...  2.78250087e+00\n",
      "     1.09590439e+01  4.32107020e+01]\n",
      "   [ 0.00000000e+00  0.00000000e+00  0.00000000e+00 ...  0.00000000e+00\n",
      "     0.00000000e+00  0.00000000e+00]\n",
      "   [ 0.00000000e+00  0.00000000e+00  0.00000000e+00 ...  0.00000000e+00\n",
      "     0.00000000e+00  0.00000000e+00]]\n",
      "\n",
      "  [[ 0.00000000e+00  0.00000000e+00  0.00000000e+00 ...  0.00000000e+00\n",
      "     0.00000000e+00  0.00000000e+00]\n",
      "   [ 8.44271872e-04  9.12680832e-04  9.24944922e-04 ...  4.06889477e-02\n",
      "     1.81084581e-01  8.06401486e-01]\n",
      "   [ 0.00000000e+00  0.00000000e+00  0.00000000e+00 ...  0.00000000e+00\n",
      "     0.00000000e+00  0.00000000e+00]]\n",
      "\n",
      "  [[ 0.00000000e+00  0.00000000e+00  0.00000000e+00 ...  0.00000000e+00\n",
      "     0.00000000e+00  0.00000000e+00]\n",
      "   [ 0.00000000e+00  0.00000000e+00  0.00000000e+00 ...  0.00000000e+00\n",
      "     0.00000000e+00  0.00000000e+00]\n",
      "   [ 0.00000000e+00  0.00000000e+00  0.00000000e+00 ...  0.00000000e+00\n",
      "     0.00000000e+00  0.00000000e+00]]\n",
      "\n",
      "  ...\n",
      "\n",
      "  [[ 0.00000000e+00  0.00000000e+00  0.00000000e+00 ...  0.00000000e+00\n",
      "     0.00000000e+00  0.00000000e+00]\n",
      "   [ 0.00000000e+00  0.00000000e+00  0.00000000e+00 ...  0.00000000e+00\n",
      "     0.00000000e+00  0.00000000e+00]\n",
      "   [ 0.00000000e+00  0.00000000e+00  0.00000000e+00 ...  0.00000000e+00\n",
      "     0.00000000e+00  0.00000000e+00]]\n",
      "\n",
      "  [[ 0.00000000e+00  0.00000000e+00  0.00000000e+00 ...  0.00000000e+00\n",
      "     0.00000000e+00  0.00000000e+00]\n",
      "   [ 0.00000000e+00  0.00000000e+00  0.00000000e+00 ...  0.00000000e+00\n",
      "     0.00000000e+00  0.00000000e+00]\n",
      "   [ 0.00000000e+00  0.00000000e+00  0.00000000e+00 ...  0.00000000e+00\n",
      "     0.00000000e+00  0.00000000e+00]]\n",
      "\n",
      "  [[ 0.00000000e+00  0.00000000e+00  0.00000000e+00 ...  0.00000000e+00\n",
      "     0.00000000e+00  0.00000000e+00]\n",
      "   [ 0.00000000e+00  0.00000000e+00  0.00000000e+00 ...  0.00000000e+00\n",
      "     0.00000000e+00  0.00000000e+00]\n",
      "   [ 0.00000000e+00  0.00000000e+00  0.00000000e+00 ...  0.00000000e+00\n",
      "     0.00000000e+00  0.00000000e+00]]]\n",
      "\n",
      "\n",
      " [[[ 0.00000000e+00  0.00000000e+00  0.00000000e+00 ...  0.00000000e+00\n",
      "     0.00000000e+00  0.00000000e+00]\n",
      "   [ 0.00000000e+00  0.00000000e+00  0.00000000e+00 ...  0.00000000e+00\n",
      "     0.00000000e+00  0.00000000e+00]\n",
      "   [ 0.00000000e+00  0.00000000e+00  0.00000000e+00 ...  0.00000000e+00\n",
      "     0.00000000e+00  0.00000000e+00]]\n",
      "\n",
      "  [[ 8.44271872e-04  9.12680832e-04  9.24944922e-04 ...  4.06889477e-02\n",
      "     1.81084581e-01  8.06401486e-01]\n",
      "   [ 7.06499432e-05  9.15121792e-05  1.10733303e-04 ... -6.38936766e-03\n",
      "    -2.11367694e-02 -7.37918728e-02]\n",
      "   [ 0.00000000e+00  0.00000000e+00  0.00000000e+00 ...  0.00000000e+00\n",
      "     0.00000000e+00  0.00000000e+00]]\n",
      "\n",
      "  [[ 0.00000000e+00  0.00000000e+00  0.00000000e+00 ...  0.00000000e+00\n",
      "     0.00000000e+00  0.00000000e+00]\n",
      "   [ 0.00000000e+00  0.00000000e+00  0.00000000e+00 ...  0.00000000e+00\n",
      "     0.00000000e+00  0.00000000e+00]\n",
      "   [ 0.00000000e+00  0.00000000e+00  0.00000000e+00 ...  0.00000000e+00\n",
      "     0.00000000e+00  0.00000000e+00]]\n",
      "\n",
      "  ...\n",
      "\n",
      "  [[ 0.00000000e+00  0.00000000e+00  0.00000000e+00 ...  0.00000000e+00\n",
      "     0.00000000e+00  0.00000000e+00]\n",
      "   [ 0.00000000e+00  0.00000000e+00  0.00000000e+00 ...  0.00000000e+00\n",
      "     0.00000000e+00  0.00000000e+00]\n",
      "   [ 0.00000000e+00  0.00000000e+00  0.00000000e+00 ...  0.00000000e+00\n",
      "     0.00000000e+00  0.00000000e+00]]\n",
      "\n",
      "  [[ 0.00000000e+00  0.00000000e+00  0.00000000e+00 ...  0.00000000e+00\n",
      "     0.00000000e+00  0.00000000e+00]\n",
      "   [ 0.00000000e+00  0.00000000e+00  0.00000000e+00 ...  0.00000000e+00\n",
      "     0.00000000e+00  0.00000000e+00]\n",
      "   [ 0.00000000e+00  0.00000000e+00  0.00000000e+00 ...  0.00000000e+00\n",
      "     0.00000000e+00  0.00000000e+00]]\n",
      "\n",
      "  [[ 0.00000000e+00  0.00000000e+00  0.00000000e+00 ...  0.00000000e+00\n",
      "     0.00000000e+00  0.00000000e+00]\n",
      "   [ 0.00000000e+00  0.00000000e+00  0.00000000e+00 ...  0.00000000e+00\n",
      "     0.00000000e+00  0.00000000e+00]\n",
      "   [ 0.00000000e+00  0.00000000e+00  0.00000000e+00 ...  0.00000000e+00\n",
      "     0.00000000e+00  0.00000000e+00]]]\n",
      "\n",
      "\n",
      " [[[ 0.00000000e+00  0.00000000e+00  0.00000000e+00 ...  0.00000000e+00\n",
      "     0.00000000e+00  0.00000000e+00]\n",
      "   [ 0.00000000e+00  0.00000000e+00  0.00000000e+00 ...  0.00000000e+00\n",
      "     0.00000000e+00  0.00000000e+00]\n",
      "   [ 0.00000000e+00  0.00000000e+00  0.00000000e+00 ...  0.00000000e+00\n",
      "     0.00000000e+00  0.00000000e+00]]\n",
      "\n",
      "  [[ 0.00000000e+00  0.00000000e+00  0.00000000e+00 ...  0.00000000e+00\n",
      "     0.00000000e+00  0.00000000e+00]\n",
      "   [ 0.00000000e+00  0.00000000e+00  0.00000000e+00 ...  0.00000000e+00\n",
      "     0.00000000e+00  0.00000000e+00]\n",
      "   [ 0.00000000e+00  0.00000000e+00  0.00000000e+00 ...  0.00000000e+00\n",
      "     0.00000000e+00  0.00000000e+00]]\n",
      "\n",
      "  [[ 0.00000000e+00  0.00000000e+00  0.00000000e+00 ...  0.00000000e+00\n",
      "     0.00000000e+00  0.00000000e+00]\n",
      "   [ 0.00000000e+00  0.00000000e+00  0.00000000e+00 ...  0.00000000e+00\n",
      "     0.00000000e+00  0.00000000e+00]\n",
      "   [ 0.00000000e+00  0.00000000e+00  0.00000000e+00 ...  0.00000000e+00\n",
      "     0.00000000e+00  0.00000000e+00]]\n",
      "\n",
      "  ...\n",
      "\n",
      "  [[ 0.00000000e+00  0.00000000e+00  0.00000000e+00 ...  0.00000000e+00\n",
      "     0.00000000e+00  0.00000000e+00]\n",
      "   [ 0.00000000e+00  0.00000000e+00  0.00000000e+00 ...  0.00000000e+00\n",
      "     0.00000000e+00  0.00000000e+00]\n",
      "   [ 0.00000000e+00  0.00000000e+00  0.00000000e+00 ...  0.00000000e+00\n",
      "     0.00000000e+00  0.00000000e+00]]\n",
      "\n",
      "  [[ 0.00000000e+00  0.00000000e+00  0.00000000e+00 ...  0.00000000e+00\n",
      "     0.00000000e+00  0.00000000e+00]\n",
      "   [ 0.00000000e+00  0.00000000e+00  0.00000000e+00 ...  0.00000000e+00\n",
      "     0.00000000e+00  0.00000000e+00]\n",
      "   [ 0.00000000e+00  0.00000000e+00  0.00000000e+00 ...  0.00000000e+00\n",
      "     0.00000000e+00  0.00000000e+00]]\n",
      "\n",
      "  [[ 0.00000000e+00  0.00000000e+00  0.00000000e+00 ...  0.00000000e+00\n",
      "     0.00000000e+00  0.00000000e+00]\n",
      "   [ 0.00000000e+00  0.00000000e+00  0.00000000e+00 ...  0.00000000e+00\n",
      "     0.00000000e+00  0.00000000e+00]\n",
      "   [ 0.00000000e+00  0.00000000e+00  0.00000000e+00 ...  0.00000000e+00\n",
      "     0.00000000e+00  0.00000000e+00]]]\n",
      "\n",
      "\n",
      " ...\n",
      "\n",
      "\n",
      " [[[ 0.00000000e+00  0.00000000e+00  0.00000000e+00 ...  0.00000000e+00\n",
      "     0.00000000e+00  0.00000000e+00]\n",
      "   [ 0.00000000e+00  0.00000000e+00  0.00000000e+00 ...  0.00000000e+00\n",
      "     0.00000000e+00  0.00000000e+00]\n",
      "   [ 0.00000000e+00  0.00000000e+00  0.00000000e+00 ...  0.00000000e+00\n",
      "     0.00000000e+00  0.00000000e+00]]\n",
      "\n",
      "  [[ 0.00000000e+00  0.00000000e+00  0.00000000e+00 ...  0.00000000e+00\n",
      "     0.00000000e+00  0.00000000e+00]\n",
      "   [ 0.00000000e+00  0.00000000e+00  0.00000000e+00 ...  0.00000000e+00\n",
      "     0.00000000e+00  0.00000000e+00]\n",
      "   [ 0.00000000e+00  0.00000000e+00  0.00000000e+00 ...  0.00000000e+00\n",
      "     0.00000000e+00  0.00000000e+00]]\n",
      "\n",
      "  [[ 0.00000000e+00  0.00000000e+00  0.00000000e+00 ...  0.00000000e+00\n",
      "     0.00000000e+00  0.00000000e+00]\n",
      "   [ 0.00000000e+00  0.00000000e+00  0.00000000e+00 ...  0.00000000e+00\n",
      "     0.00000000e+00  0.00000000e+00]\n",
      "   [ 0.00000000e+00  0.00000000e+00  0.00000000e+00 ...  0.00000000e+00\n",
      "     0.00000000e+00  0.00000000e+00]]\n",
      "\n",
      "  ...\n",
      "\n",
      "  [[ 0.00000000e+00  0.00000000e+00  0.00000000e+00 ...  0.00000000e+00\n",
      "     0.00000000e+00  0.00000000e+00]\n",
      "   [ 0.00000000e+00  0.00000000e+00  0.00000000e+00 ...  0.00000000e+00\n",
      "     0.00000000e+00  0.00000000e+00]\n",
      "   [ 0.00000000e+00  0.00000000e+00  0.00000000e+00 ...  0.00000000e+00\n",
      "     0.00000000e+00  0.00000000e+00]]\n",
      "\n",
      "  [[ 0.00000000e+00  0.00000000e+00  0.00000000e+00 ...  0.00000000e+00\n",
      "     0.00000000e+00  0.00000000e+00]\n",
      "   [ 0.00000000e+00  0.00000000e+00  0.00000000e+00 ...  0.00000000e+00\n",
      "     0.00000000e+00  0.00000000e+00]\n",
      "   [ 0.00000000e+00  0.00000000e+00  0.00000000e+00 ...  0.00000000e+00\n",
      "     0.00000000e+00  0.00000000e+00]]\n",
      "\n",
      "  [[ 0.00000000e+00  0.00000000e+00  0.00000000e+00 ...  0.00000000e+00\n",
      "     0.00000000e+00  0.00000000e+00]\n",
      "   [ 0.00000000e+00  0.00000000e+00  0.00000000e+00 ...  0.00000000e+00\n",
      "     0.00000000e+00  0.00000000e+00]\n",
      "   [ 0.00000000e+00  0.00000000e+00  0.00000000e+00 ...  0.00000000e+00\n",
      "     0.00000000e+00  0.00000000e+00]]]\n",
      "\n",
      "\n",
      " [[[ 0.00000000e+00  0.00000000e+00  0.00000000e+00 ...  0.00000000e+00\n",
      "     0.00000000e+00  0.00000000e+00]\n",
      "   [ 0.00000000e+00  0.00000000e+00  0.00000000e+00 ...  0.00000000e+00\n",
      "     0.00000000e+00  0.00000000e+00]\n",
      "   [ 0.00000000e+00  0.00000000e+00  0.00000000e+00 ...  0.00000000e+00\n",
      "     0.00000000e+00  0.00000000e+00]]\n",
      "\n",
      "  [[ 0.00000000e+00  0.00000000e+00  0.00000000e+00 ...  0.00000000e+00\n",
      "     0.00000000e+00  0.00000000e+00]\n",
      "   [ 0.00000000e+00  0.00000000e+00  0.00000000e+00 ...  0.00000000e+00\n",
      "     0.00000000e+00  0.00000000e+00]\n",
      "   [ 0.00000000e+00  0.00000000e+00  0.00000000e+00 ...  0.00000000e+00\n",
      "     0.00000000e+00  0.00000000e+00]]\n",
      "\n",
      "  [[ 0.00000000e+00  0.00000000e+00  0.00000000e+00 ...  0.00000000e+00\n",
      "     0.00000000e+00  0.00000000e+00]\n",
      "   [ 0.00000000e+00  0.00000000e+00  0.00000000e+00 ...  0.00000000e+00\n",
      "     0.00000000e+00  0.00000000e+00]\n",
      "   [ 0.00000000e+00  0.00000000e+00  0.00000000e+00 ...  0.00000000e+00\n",
      "     0.00000000e+00  0.00000000e+00]]\n",
      "\n",
      "  ...\n",
      "\n",
      "  [[ 0.00000000e+00  0.00000000e+00  0.00000000e+00 ...  0.00000000e+00\n",
      "     0.00000000e+00  0.00000000e+00]\n",
      "   [ 0.00000000e+00  0.00000000e+00  0.00000000e+00 ...  0.00000000e+00\n",
      "     0.00000000e+00  0.00000000e+00]\n",
      "   [ 0.00000000e+00  0.00000000e+00  0.00000000e+00 ...  0.00000000e+00\n",
      "     0.00000000e+00  0.00000000e+00]]\n",
      "\n",
      "  [[ 0.00000000e+00  0.00000000e+00  0.00000000e+00 ...  0.00000000e+00\n",
      "     0.00000000e+00  0.00000000e+00]\n",
      "   [ 0.00000000e+00  0.00000000e+00  0.00000000e+00 ...  0.00000000e+00\n",
      "     0.00000000e+00  0.00000000e+00]\n",
      "   [ 0.00000000e+00  0.00000000e+00  0.00000000e+00 ...  0.00000000e+00\n",
      "     0.00000000e+00  0.00000000e+00]]\n",
      "\n",
      "  [[ 0.00000000e+00  0.00000000e+00  0.00000000e+00 ...  0.00000000e+00\n",
      "     0.00000000e+00  0.00000000e+00]\n",
      "   [ 0.00000000e+00  0.00000000e+00  0.00000000e+00 ...  0.00000000e+00\n",
      "     0.00000000e+00  0.00000000e+00]\n",
      "   [ 0.00000000e+00  0.00000000e+00  0.00000000e+00 ...  0.00000000e+00\n",
      "     0.00000000e+00  0.00000000e+00]]]\n",
      "\n",
      "\n",
      " [[[ 0.00000000e+00  0.00000000e+00  0.00000000e+00 ...  0.00000000e+00\n",
      "     0.00000000e+00  0.00000000e+00]\n",
      "   [ 0.00000000e+00  0.00000000e+00  0.00000000e+00 ...  0.00000000e+00\n",
      "     0.00000000e+00  0.00000000e+00]\n",
      "   [ 0.00000000e+00  0.00000000e+00  0.00000000e+00 ...  0.00000000e+00\n",
      "     0.00000000e+00  0.00000000e+00]]\n",
      "\n",
      "  [[ 0.00000000e+00  0.00000000e+00  0.00000000e+00 ...  0.00000000e+00\n",
      "     0.00000000e+00  0.00000000e+00]\n",
      "   [ 0.00000000e+00  0.00000000e+00  0.00000000e+00 ...  0.00000000e+00\n",
      "     0.00000000e+00  0.00000000e+00]\n",
      "   [ 0.00000000e+00  0.00000000e+00  0.00000000e+00 ...  0.00000000e+00\n",
      "     0.00000000e+00  0.00000000e+00]]\n",
      "\n",
      "  [[ 0.00000000e+00  0.00000000e+00  0.00000000e+00 ...  0.00000000e+00\n",
      "     0.00000000e+00  0.00000000e+00]\n",
      "   [ 0.00000000e+00  0.00000000e+00  0.00000000e+00 ...  0.00000000e+00\n",
      "     0.00000000e+00  0.00000000e+00]\n",
      "   [ 0.00000000e+00  0.00000000e+00  0.00000000e+00 ...  0.00000000e+00\n",
      "     0.00000000e+00  0.00000000e+00]]\n",
      "\n",
      "  ...\n",
      "\n",
      "  [[ 0.00000000e+00  0.00000000e+00  0.00000000e+00 ...  0.00000000e+00\n",
      "     0.00000000e+00  0.00000000e+00]\n",
      "   [ 0.00000000e+00  0.00000000e+00  0.00000000e+00 ...  0.00000000e+00\n",
      "     0.00000000e+00  0.00000000e+00]\n",
      "   [ 0.00000000e+00  0.00000000e+00  0.00000000e+00 ...  0.00000000e+00\n",
      "     0.00000000e+00  0.00000000e+00]]\n",
      "\n",
      "  [[ 0.00000000e+00  0.00000000e+00  0.00000000e+00 ...  0.00000000e+00\n",
      "     0.00000000e+00  0.00000000e+00]\n",
      "   [ 0.00000000e+00  0.00000000e+00  0.00000000e+00 ...  0.00000000e+00\n",
      "     0.00000000e+00  0.00000000e+00]\n",
      "   [ 0.00000000e+00  0.00000000e+00  0.00000000e+00 ...  0.00000000e+00\n",
      "     0.00000000e+00  0.00000000e+00]]\n",
      "\n",
      "  [[ 0.00000000e+00  0.00000000e+00  0.00000000e+00 ...  0.00000000e+00\n",
      "     0.00000000e+00  0.00000000e+00]\n",
      "   [ 0.00000000e+00  0.00000000e+00  0.00000000e+00 ...  0.00000000e+00\n",
      "     0.00000000e+00  0.00000000e+00]\n",
      "   [ 0.00000000e+00  0.00000000e+00  0.00000000e+00 ...  0.00000000e+00\n",
      "     0.00000000e+00  0.00000000e+00]]]]\n",
      "(24, 24, 3, 22)\n"
     ]
    },
    {
     "name": "stderr",
     "output_type": "stream",
     "text": [
      "/Users/alicepirotta/miniforge3/envs/gain_env/lib/python3.9/site-packages/autograd/numpy/numpy_wrapper.py:77: VisibleDeprecationWarning: Creating an ndarray from ragged nested sequences (which is a list-or-tuple of lists-or-tuples-or ndarrays with different lengths or shapes) is deprecated. If you meant to do this, you must specify 'dtype=object' when creating the ndarray.\n",
      "  return _np.array(args, *array_args, **array_kwargs)\n"
     ]
    }
   ],
   "source": [
    "#PROBLEM: Since the shape of M_dB_dB is (3,3) and if I consider M_dB_dB[0,0] it becomes (22,1) \n",
    "#my scope is in this function is try to pass all the first and second entrance i and j, so in\n",
    "# this way the dimension becomes (22,1) and add the zero_column that is (22,1) for 23 times to \n",
    "#have a matrix (22,24) in the \"centre\", and then the normal (3,3) outside so... (3,3,22,24) ... \n",
    "#then I will add a (21,2,22,24) of all zeros to have (24,24,22,3)\n",
    "\n",
    "\n",
    "# def zeros_new(M_dB_dB_):\n",
    "#     M_dB_dB=[]\n",
    "#     zero_column=np.zeros((22,1))\n",
    "#     for j,_ in enumerate (result.x[:3]):\n",
    "#         for i,_ in enumerate(result.x[:3]):\n",
    "#             if j ==0 or j==1: \n",
    "#                 if i == 0: \n",
    "#                     M_dB_tot=np.vstack((M_dB_dB_[j,i],zero_column,zero_column, zero_column, zero_column, zero_column, \n",
    "#                     zero_column, zero_column, zero_column, zero_column, zero_column, zero_column, zero_column, \n",
    "#                     zero_column, zero_column, zero_column, zero_column, zero_column, zero_column, zero_column, \n",
    "#                     zero_column, zero_column, zero_column, zero_column))   \n",
    "#                 if i ==1:\n",
    "#                     M_dB_tot=np.vstack((zero_column,M_dB_dB_[j,i], zero_column, zero_column, zero_column, zero_column, \n",
    "#                     zero_column, zero_column, zero_column, zero_column, zero_column, zero_column, zero_column, \n",
    "#                     zero_column, zero_column, zero_column, zero_column, zero_column, zero_column, zero_column, \n",
    "#                     zero_column, zero_column, zero_column, zero_column))\n",
    "#                 else: \n",
    "#                     M_dB_tot=np.zeros((22,24))\n",
    "#             else: \n",
    "#                 if i == 2:\n",
    "#                      M_dB_tot=np.vstack((zero_column,zero_column, M_dB_dB_[j,i], zero_column, zero_column, zero_column, \n",
    "#                     zero_column, zero_column, zero_column, zero_column, zero_column, zero_column, zero_column, \n",
    "#                     zero_column, zero_column, zero_column, zero_column, zero_column, zero_column, zero_column, \n",
    "#                     zero_column, zero_column, zero_column, zero_column)) \n",
    "#                 else:\n",
    "#                     M_dB_tot=np.zeros((22,24))\n",
    "#             M_dB_dB.append(M_dB_tot)\n",
    "#         return np.array(M_dB_dB)\n",
    "\n",
    "\n",
    "\n",
    "def A_diff_diff_new(params_values):\n",
    "    spectral_params_values = params_values[:3]\n",
    "    # gain_params_values = params_values[3:]\n",
    "    \n",
    "    #first term\n",
    "    G_dB=G_diff(gain_params_tot)  #(gain_param,freq,freq)=(21,22,22)\n",
    "    zeros_matrix=np.zeros((3,22,22))\n",
    "    G_dB_tot= np.concatenate((zeros_matrix,G_dB), axis=0) #(param, freq, freq)=(24,22,22)\n",
    "    \n",
    "    M_dB_ev = M.diff_evaluator(instrument.frequency)\n",
    "    M_dB_val = np.array(M_dB_ev(spectral_params_values))#(spec_param,freq,component)=(3,22,1)\n",
    "    M_dB_tot=zeros(M_dB_val)#(component, param, freq)=(3,24,22)\n",
    "    M_dB_tot=np.array(M_dB_tot)\n",
    "\n",
    "    G_dB_M_dB = np.einsum('abc,dec->aedb', G_dB_tot,M_dB_tot) #(24,24,3,22)\n",
    "    \n",
    "    \n",
    "\n",
    "    # #second term\n",
    "    M_dB_dB_ev = M.diff_diff_evaluator(instrument.frequency)\n",
    "    M_dB_dB_val= np.array(M_dB_dB_ev(spectral_params_values))#(3,3)\n",
    "\n",
    "   \n",
    " \n",
    "\n",
    "    M_dB_dB_all = np.zeros((24,24,3,22))\n",
    "    M_dB_dB_all[0,0,0]= M_dB_dB_val[0,0][:,0]\n",
    "    M_dB_dB_all[0,1,1]= M_dB_dB_val[0,1][:,0]\n",
    "    M_dB_dB_all[1,1,0]= M_dB_dB_val[1,0][:,0]\n",
    "    M_dB_dB_all[1,1,1]= M_dB_dB_val[1,1][:,0]\n",
    "    M_dB_dB_all[2,2,2]= M_dB_dB_val[2,1][:,0]\n",
    "    print(M_dB_dB_all)\n",
    "\n",
    "    \n",
    "\n",
    "    # M_dB_dB_zeros=zeros_new(M_dB_dB_val)\n",
    "    # print(M_dB_dB_zeros)\n",
    "    # zeros_matrix_new=np.zeros((21,3,22,3))\n",
    "    # M_dB_dB_tot=np.concatenate((M_dB_dB_zeros,zeros_matrix_new), axis=0)\n",
    "    # M_dB_dB_tot=np.array(M_dB_dB_tot\n",
    "    # M_dB_dB_prova= np.zeros((24,24,22,3))\n",
    "    # G = np.diag(np.array(gain_params_tot)) #(freq,freq)=(22,22)\n",
    "    # M_dB_dB_G= np.einsum('abcd,ce->abed', M_dB_dB_prova,G)\n",
    "   \n",
    "    A_dB_dB_new=  G_dB_M_dB +  G_dB_M_dB +M_dB_dB_all\n",
    "    print(A_dB_dB_new.shape)\n",
    "\n",
    "  \n",
    "    return A_dB_dB_new\n",
    "\n",
    "A_dBdB_maxL= A_diff_diff_new(result.x)\n"
   ]
  },
  {
   "cell_type": "code",
   "execution_count": 1721,
   "metadata": {},
   "outputs": [
    {
     "name": "stdout",
     "output_type": "stream",
     "text": [
      "(24, 3, 22)\n"
     ]
    }
   ],
   "source": [
    "#W_dB_maxL\n",
    "\n",
    "a = -np.linalg.inv(np.einsum('cf, fx, xs-> cs',A_maxL.T, invN, A_maxL)) #(3,3)\n",
    "b = np.einsum('fcg, fx, xs-> cgs',A_dB_maxL.T, invN, A_maxL)+ np.einsum('cf, fx, gsx-> cgs',A_maxL.T, invN, A_dB_maxL)\n",
    "#(3,24,3)\n",
    "c = np.linalg.inv(np.einsum('cf, fx, xs-> cs',A_maxL.T, invN, A_maxL))#(3,3)\n",
    "d = np.einsum('fcg, fx-> cgx',A_dB_maxL.T, invN)#(3,24,22)\n",
    "e = np.einsum( 'cf, fx-> cx', A_maxL.T, invN)#(3,22)\n",
    "f = np.einsum ( 'ab, bcd-> acd', a,b)\n",
    "g = np.einsum ( 'ab, bc-> ac', c,e)\n",
    "\n",
    "\n",
    "W_dB_maxL = np.einsum('abc, cd-> bad', f,g) + np.einsum('cx, xgf-> gcf', c, d)  #(params_tot,component,freq)=(24,3,22)\n",
    "print(W_dB_maxL.shape)\n",
    "W_dB_maxL = W_dB_maxL [:, i_cmb]\n",
    "\n"
   ]
  },
  {
   "cell_type": "code",
   "execution_count": 1722,
   "metadata": {},
   "outputs": [
    {
     "name": "stdout",
     "output_type": "stream",
     "text": [
      "(24, 24, 3, 22)\n"
     ]
    }
   ],
   "source": [
    "#W_dB_dB_maxL\n",
    "\n",
    "h = np.einsum ( 'bacd,be,ef->cdaf', A_dBdB_maxL.T, invN, A_maxL )\n",
    "i = np.einsum ( 'bac,bd,efd->ceaf', A_dB_maxL.T, invN, A_dB_maxL )\n",
    "l = np.einsum ( 'ab,bc,defc->deaf', A_maxL.T,invN, A_dBdB_maxL)\n",
    "\n",
    "p = h+i+i+l\n",
    "o = np.einsum (  'ab,bc,cd->ad', a,c,e)\n",
    "\n",
    "\n",
    "H = np.einsum('ab,bcd,de,efg,gh,hi->cfai', a,b,c,b,c,e)\n",
    "#print(H.shape)\n",
    "B =  np.einsum ( 'ab,cdea->cdeb',o,p)\n",
    "#print(B.shape)\n",
    "C = np.einsum('ab,bcd,de,fg,ghi,if->chae', a,b,e,a,b,c)\n",
    "#print(C.shape)\n",
    "D = np.einsum('ab,bcd,de,efg->cfag', a,b,c,d)\n",
    "#print(D.shape)\n",
    "E = np.einsum ('ab,cbde,cf->deaf', c,A_dBdB_maxL.T,invN)\n",
    "#print (E.shape)\n",
    "\n",
    "\n",
    "W_dB_dB_maxL = - H + B + C + D + D + E\n",
    "print(W_dB_dB_maxL.shape)\n",
    "W_dB_dB_maxL =  W_dB_dB_maxL[:, :, i_cmb]"
   ]
  },
  {
   "cell_type": "code",
   "execution_count": 1723,
   "metadata": {},
   "outputs": [],
   "source": [
    "# I put d_fgs =  get_observation(instrument, model, noise=True, nside=nside) with Q,U and I\n",
    "\n",
    "if n_stokes == 3:  \n",
    "    d_spectra = d_fgs\n",
    "else:  # Only P is provided, add T for map2alm\n",
    "    d_spectra = np.zeros((n_freqs, 3, d_fgs.shape[2]), dtype=d_fgs.dtype)\n",
    "    d_spectra[:, 1:] = d_fgs\n",
    "\n",
    "# Compute cross-spectra\n",
    "almBs = [hp.map2alm(freq_map, lmax=lmax, iter=10)[2] for freq_map in d_spectra]\n",
    "Cl_fgs = np.zeros((n_freqs, n_freqs, lmax+1), dtype=d_fgs.dtype)\n",
    "for f1 in range(n_freqs):\n",
    "    for f2 in range(n_freqs):\n",
    "        if f1 > f2:\n",
    "            Cl_fgs[f1, f2] = Cl_fgs[f2, f1]\n",
    "        else:\n",
    "            Cl_fgs[f1, f2] = hp.alm2cl(almBs[f1], almBs[f2], lmax=lmax)\n",
    "\n",
    "Cl_fgs = Cl_fgs[..., lmin:] / fsky"
   ]
  },
  {
   "cell_type": "code",
   "execution_count": 1724,
   "metadata": {},
   "outputs": [
    {
     "name": "stdout",
     "output_type": "stream",
     "text": [
      "[4.79686189e-01 3.20367328e+01 3.44667047e-01 1.81507503e+00\n",
      " 2.05077355e-01 4.34302949e-01 9.36442072e-02 7.13709408e-02\n",
      " 6.41441547e-02 1.65583649e-02 1.16916790e-02 1.22262666e-02\n",
      " 1.34592778e-02 3.90820516e-03 5.78638163e-03 2.70585734e-03\n",
      " 6.97038077e-03 1.44047636e-03 3.42089901e-03 1.24988823e-03\n",
      " 1.42206037e-03 1.48904317e-03 8.57594000e-04 1.76148322e-03\n",
      " 7.90331546e-04 1.07274439e-03 4.40079522e-04 6.90522425e-04\n",
      " 3.96058806e-04 5.42798131e-04 3.62218627e-04 3.35401694e-04\n",
      " 2.15849084e-04 1.61720259e-04 1.94556272e-04 1.10158980e-04\n",
      " 8.79785273e-05 1.86202082e-04 8.83473599e-05 1.78889589e-04\n",
      " 5.49016878e-05 8.35685934e-05 7.20438412e-05 4.60145083e-05\n",
      " 4.04316680e-05 4.00778961e-05 5.16185361e-05 2.51001399e-05\n",
      " 3.81810547e-05 2.01076932e-05 3.31343199e-05 3.16725152e-05\n",
      " 3.67882552e-05 1.47407622e-05 1.98640610e-05 8.95816556e-06\n",
      " 1.07975758e-05 5.96958777e-06 1.09661414e-05 5.04209327e-06\n",
      " 9.35385659e-06 6.58850345e-06 7.77199697e-06 4.81076128e-06\n",
      " 4.77882454e-06 6.34613154e-06 3.43512740e-06 4.15993978e-06\n",
      " 3.48130452e-06 2.46696212e-06 2.97874380e-06 2.48469116e-06\n",
      " 2.19802539e-06 2.28710737e-06 1.33767371e-06 1.91520776e-06\n",
      " 1.12668643e-06 1.50621825e-06 9.11848856e-07 1.70444462e-06\n",
      " 1.14411204e-06 1.74724772e-06 9.46904801e-07 1.06068545e-06\n",
      " 1.08697871e-06 1.06990372e-06 8.78906827e-07 6.72036242e-07\n",
      " 4.91995191e-07 7.92817196e-07 3.84932232e-07 5.86939562e-07\n",
      " 3.31620336e-07 4.20099040e-07 3.48631015e-07 4.51800293e-07\n",
      " 3.11514533e-07 3.84962218e-07 2.99821834e-07 3.53185053e-07\n",
      " 2.13796157e-07 3.12314928e-07 1.86218372e-07 3.63670277e-07\n",
      " 2.11979801e-07 3.39414896e-07 2.31417969e-07 2.71310713e-07\n",
      " 2.09940173e-07 1.72148921e-07 2.38709593e-07 1.23206060e-07\n",
      " 1.57808279e-07 1.13617650e-07 2.03474107e-07 1.18086832e-07\n",
      " 1.75195762e-07 1.15118412e-07 1.27023043e-07 1.06450698e-07\n",
      " 8.11269023e-08 8.02036851e-08 1.03505479e-07 5.76805241e-08\n",
      " 9.88840024e-08 7.31231631e-08 9.66337520e-08 8.99797593e-08\n",
      " 8.16349099e-08 1.05175855e-07 6.99938124e-08 8.67115779e-08\n",
      " 6.10920006e-08 5.94620341e-08 5.54322817e-08 5.31217758e-08\n",
      " 4.20545986e-08 7.94988678e-08 5.25231799e-08 5.50095360e-08\n",
      " 3.37046931e-08 2.98350166e-08 3.72670251e-08 3.37745807e-08\n",
      " 3.84637637e-08 3.73996678e-08 3.59170457e-08 4.01731786e-08\n",
      " 4.76965152e-08 4.44787956e-08 5.24100763e-08 4.03365206e-08\n",
      " 4.37973919e-08 3.05204767e-08 3.18553879e-08 3.24597194e-08\n",
      " 3.91853182e-08 3.19126417e-08 3.66429863e-08 2.68129376e-08\n",
      " 3.27907242e-08 2.29800334e-08 4.09381047e-08 2.20449592e-08\n",
      " 3.05862817e-08 2.70737801e-08 1.72878372e-08 1.74833134e-08\n",
      " 1.88315076e-08 1.48293742e-08 1.87852173e-08 1.76601594e-08\n",
      " 1.40487444e-08 1.93998514e-08 1.49498807e-08 1.46598364e-08\n",
      " 1.47563023e-08 1.45436971e-08 1.65048655e-08 1.80153081e-08\n",
      " 1.24453542e-08 1.72586827e-08 1.68727252e-08 1.55078514e-08\n",
      " 1.68580253e-08 1.32464959e-08 1.76429573e-08 9.47418364e-09\n",
      " 1.15038581e-08 1.54563760e-08 2.11804388e-08]\n"
     ]
    }
   ],
   "source": [
    "\n",
    "V_maxL = np.einsum('ij,ij...->...', sigma_params_square, W_dB_dB_maxL)\n",
    "\n",
    "\n",
    "# elementary quantities defined in Stompor, Errard, Poletti (2016)\n",
    "Cl_xF = {}\n",
    "Cl_xF['yy'] = _utmv(W_maxL, Cl_fgs.T, W_maxL)  # (ell,)= (191)\n",
    "Cl_xF['YY'] = _mmm(W_dB_maxL, Cl_fgs.T, W_dB_maxL.T)  # (ell, param, param)=(191,24,24)\n",
    "Cl_xF['yz'] = _utmv(W_maxL, Cl_fgs.T, V_maxL )  # (ell,)\n",
    "Cl_xF['Yy'] = _mmv(W_dB_maxL, Cl_fgs.T, W_maxL)  # (ell, param)\n",
    "Cl_xF['Yz'] = _mmv(W_dB_maxL, Cl_fgs.T, V_maxL)  # (ell, param)\n",
    "\n",
    "\n",
    "Cl_noise = _get_Cl_noise(instrument, A_maxL, lmax)[ i_cmb,  i_cmb, lmin:]\n",
    "\n",
    "# bias and statistical foregrounds residuals\n",
    "noise = Cl_noise\n",
    "bias = Cl_xF['yy'] + 2 * Cl_xF['yz'] #should be 0 \n",
    "stat = np.einsum('ij, lij -> l', sigma_params_square, Cl_xF['YY'])  \n",
    "var = stat**2 + 2 * np.einsum('li, ij, lj -> l', Cl_xF['Yy'], sigma_params_square, Cl_xF['Yy'])\n",
    "# noise_stat= noise + stat\n",
    "\n",
    "\n",
    "#control that Cl_BB_residual = noise + stat\n",
    "print(var)"
   ]
  },
  {
   "cell_type": "code",
   "execution_count": 1725,
   "metadata": {},
   "outputs": [
    {
     "data": {
      "text/plain": [
       "<matplotlib.legend.Legend at 0x191d61df0>"
      ]
     },
     "execution_count": 1725,
     "metadata": {},
     "output_type": "execute_result"
    },
    {
     "data": {
      "image/png": "[encoded data removed]",
      "text/plain": [
       "<Figure size 640x480 with 1 Axes>"
      ]
     },
     "metadata": {},
     "output_type": "display_data"
    }
   ],
   "source": [
    "lmin= 2\n",
    "lmax= 192\n",
    "ell = np.arange(lmin,lmax)\n",
    "\n",
    "plt.loglog(ell, Cl_BB_r_001, label = \"Cl_BB_r0.001\") \n",
    "plt.loglog(ell, Cl_BB_residual, label = \"Cl_BB_residual\")\n",
    "\n",
    "\n",
    "\n",
    "lmin= 1\n",
    "lmax= 192\n",
    "ell = np.arange(lmin,lmax)\n",
    "\n",
    "plt.loglog(ell, noise , label = \"noise \")\n",
    "# plt.loglog(ell, bias , label = \"bias\")\n",
    "# plt.loglog(ell, stat , label = \"stat\")\n",
    "# plt.loglog(ell,var, label = \"var\")\n",
    "# plt.loglog(ell,noise_stat, label = \"noise+stat\")\n",
    "\n",
    "plt.xlabel(r'$\\ell$')\n",
    "plt.ylabel(r'Cl')\n",
    "plt.legend()"
   ]
  },
  {
   "cell_type": "code",
   "execution_count": 1726,
   "metadata": {},
   "outputs": [
    {
     "data": {
      "text/plain": [
       "<matplotlib.legend.Legend at 0x191edab20>"
      ]
     },
     "execution_count": 1726,
     "metadata": {},
     "output_type": "execute_result"
    },
    {
     "data": {
      "image/png": "[encoded data removed]",
      "text/plain": [
       "<Figure size 640x480 with 1 Axes>"
      ]
     },
     "metadata": {},
     "output_type": "display_data"
    }
   ],
   "source": [
    "lmin= 2\n",
    "lmax= 192\n",
    "ell = np.arange(lmin,lmax)\n",
    "\n",
    "plt.loglog(ell, Cl_BB_r_001, label = \"Cl_BB_r0.001\") \n",
    "plt.loglog(ell, Cl_BB_residual, label = \"Cl_BB_residual\")\n",
    "\n",
    "\n",
    "\n",
    "lmin= 1\n",
    "lmax= 192\n",
    "ell = np.arange(lmin,lmax)\n",
    "\n",
    "#plt.loglog(ell, noise , label = \"noise \")\n",
    "plt.loglog(ell, bias , label = \"bias\")\n",
    "# plt.loglog(ell, stat , label = \"stat\")\n",
    "# plt.loglog(ell,var, label = \"var\")\n",
    "# plt.loglog(ell,noise_stat, label = \"noise+stat\")\n",
    "\n",
    "plt.xlabel(r'$\\ell$')\n",
    "plt.ylabel(r'Cl')\n",
    "plt.legend()"
   ]
  },
  {
   "cell_type": "code",
   "execution_count": 1727,
   "metadata": {},
   "outputs": [
    {
     "data": {
      "text/plain": [
       "<matplotlib.legend.Legend at 0x191fa9df0>"
      ]
     },
     "execution_count": 1727,
     "metadata": {},
     "output_type": "execute_result"
    },
    {
     "data": {
      "image/png": "[encoded data removed]",
      "text/plain": [
       "<Figure size 640x480 with 1 Axes>"
      ]
     },
     "metadata": {},
     "output_type": "display_data"
    }
   ],
   "source": [
    "lmin= 2\n",
    "lmax= 192\n",
    "ell = np.arange(lmin,lmax)\n",
    "\n",
    "plt.loglog(ell, Cl_BB_r_001, label = \"Cl_BB_r0.001\") \n",
    "plt.loglog(ell, Cl_BB_residual, label = \"Cl_BB_residual\")\n",
    "\n",
    "\n",
    "\n",
    "lmin= 0\n",
    "lmax= 191\n",
    "ell = np.arange(lmin,lmax)\n",
    "\n",
    "#plt.loglog(ell, noise , label = \"noise \")\n",
    "# plt.loglog(ell, bias , label = \"bias\")\n",
    "plt.loglog(ell, stat , label = \"stat\")\n",
    "# plt.loglog(ell,var, label = \"var\")\n",
    "# plt.loglog(ell,noise_stat, label = \"noise+stat\")\n",
    "\n",
    "plt.xlabel(r'$\\ell$')\n",
    "plt.ylabel(r'Cl')\n",
    "plt.legend()"
   ]
  },
  {
   "cell_type": "code",
   "execution_count": 1728,
   "metadata": {},
   "outputs": [
    {
     "data": {
      "text/plain": [
       "<matplotlib.legend.Legend at 0x192199cd0>"
      ]
     },
     "execution_count": 1728,
     "metadata": {},
     "output_type": "execute_result"
    },
    {
     "data": {
      "image/png": "[encoded data removed]",
      "text/plain": [
       "<Figure size 640x480 with 1 Axes>"
      ]
     },
     "metadata": {},
     "output_type": "display_data"
    }
   ],
   "source": [
    "lmin= 2\n",
    "lmax= 192\n",
    "ell = np.arange(lmin,lmax)\n",
    "\n",
    "plt.loglog(ell, Cl_BB_r_001, label = \"Cl_BB_r0.001\") \n",
    "plt.loglog(ell, Cl_BB_residual, label = \"Cl_BB_residual\")\n",
    "\n",
    "\n",
    "\n",
    "lmin= 1\n",
    "lmax= 192\n",
    "ell = np.arange(lmin,lmax)\n",
    "\n",
    "#plt.loglog(ell, noise , label = \"noise \")\n",
    "# plt.loglog(ell, bias , label = \"bias\")\n",
    "# plt.loglog(ell, stat , label = \"stat\")\n",
    "plt.loglog(ell,var, label = \"var\")\n",
    "# plt.loglog(ell,noise_stat, label = \"noise+stat\")\n",
    "\n",
    "plt.xlabel(r'$\\ell$')\n",
    "plt.ylabel(r'Cl')\n",
    "plt.legend()"
   ]
  },
  {
   "cell_type": "code",
   "execution_count": 1729,
   "metadata": {},
   "outputs": [
    {
     "data": {
      "text/plain": [
       "<matplotlib.legend.Legend at 0x192290ca0>"
      ]
     },
     "execution_count": 1729,
     "metadata": {},
     "output_type": "execute_result"
    },
    {
     "data": {
      "image/png": "[encoded data removed]",
      "text/plain": [
       "<Figure size 640x480 with 1 Axes>"
      ]
     },
     "metadata": {},
     "output_type": "display_data"
    }
   ],
   "source": [
    "lmin= 2\n",
    "lmax= 192\n",
    "ell = np.arange(lmin,lmax)\n",
    "\n",
    "plt.loglog(ell, Cl_BB_r_001, label = \"Cl_BB_r0.001\") \n",
    "plt.loglog(ell, Cl_BB_residual, label = \"Cl_BB_residual\")\n",
    "\n",
    "\n",
    "\n",
    "lmin= 2\n",
    "lmax= 193\n",
    "ell = np.arange(lmin,lmax)\n",
    "\n",
    "plt.loglog(ell, noise , label = \"noise \")\n",
    "plt.loglog(ell, bias , label = \"bias\")\n",
    "plt.loglog(ell, stat , label = \"stat\")\n",
    "plt.loglog(ell,var, label = \"var\")\n",
    "#plt.loglog(ell,noise_stat, label = \"noise+stat\")\n",
    "\n",
    "plt.xlabel(r'$\\ell$')\n",
    "plt.ylabel(r'Cl')\n",
    "plt.legend()"
   ]
  }
 ],
 "metadata": {
  "kernelspec": {
   "display_name": "gain_env",
   "language": "python",
   "name": "python3"
  },
  "language_info": {
   "codemirror_mode": {
    "name": "ipython",
    "version": 3
   },
   "file_extension": ".py",
   "mimetype": "text/x-python",
   "name": "python",
   "nbconvert_exporter": "python",
   "pygments_lexer": "ipython3",
   "version": "3.9.13"
  },
  "orig_nbformat": 4
 },
 "nbformat": 4,
 "nbformat_minor": 2
}
