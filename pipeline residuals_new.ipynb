{
 "cells": [
  {
   "attachments": {},
   "cell_type": "markdown",
   "metadata": {},
   "source": [
    "\n",
    "%load_ext autoreload\n",
    "%autoreload 2\n",
    "%matplotlib inline\n",
    "import warnings\n",
    "warnings.filterwarnings(\"ignore\")"
   ]
  },
  {
   "cell_type": "code",
   "execution_count": 258,
   "metadata": {},
   "outputs": [],
   "source": [
    "import autograd.numpy as np \n",
    "from autograd import jacobian, hessian\n",
    "import matplotlib.pyplot as plt\n",
    "from fgbuster import CMB, Dust, Synchrotron, MixingMatrix\n",
    "from fgbuster.observation_helpers import standardize_instrument, get_observation\n",
    "from fgbuster.cosmology import _get_Cl_cmb, _get_Cl_noise\n",
    "from scipy.optimize import minimize\n",
    "import matplotlib.pyplot as plt\n",
    "import healpy as hp\n",
    "import numdifftools.core as nd\n",
    "import math as m\n",
    "from fgbuster.algebra import  W_dBdB, W_dB, W, _mmm, _utmv, _mmv, comp_sep\n",
    "\n"
   ]
  },
  {
   "attachments": {},
   "cell_type": "markdown",
   "metadata": {},
   "source": [
    "## 1.general parameters"
   ]
  },
  {
   "cell_type": "code",
   "execution_count": 259,
   "metadata": {},
   "outputs": [],
   "source": [
    "nside = 64\n",
    "model = 'd0s0'"
   ]
  },
  {
   "attachments": {},
   "cell_type": "markdown",
   "metadata": {},
   "source": [
    "Load the instrument"
   ]
  },
  {
   "cell_type": "code",
   "execution_count": 260,
   "metadata": {},
   "outputs": [],
   "source": [
    "instr = np.load('/Users/alicepirotta/Desktop/APC/MCMC/instrument_LB_IMOv1.npy', allow_pickle=True).item()\n",
    "instr_ = {}\n",
    "instr_['frequency'] = np.array([instr[f]['freq'] for f in instr.keys()])\n",
    "instr_['depth_p'] = np.array([instr[f]['P_sens'] for f in instr.keys()])\n",
    "instr_['fwhm'] = np.array([instr[f]['beam'] for f in instr.keys()])\n",
    "instr_['depth_i'] = instr_['depth_p']/np.sqrt(2)\n",
    "instrument = standardize_instrument(instr_)\n",
    "\n",
    "n_freqs=len(instrument.frequency)\n",
    "n_stokes=3"
   ]
  },
  {
   "attachments": {},
   "cell_type": "markdown",
   "metadata": {},
   "source": [
    "Get the frequency maps "
   ]
  },
  {
   "cell_type": "code",
   "execution_count": 261,
   "metadata": {},
   "outputs": [],
   "source": [
    "d_fgs_N = get_observation(instrument, model, noise=True, nside=nside)\n",
    "d_fgs = get_observation(instrument, model, noise=False, nside=nside)\n",
    "\n",
    "#take only the Q and U, not I\n",
    "freq_maps_N= d_fgs_N[:,1:,:]\n",
    "freq_maps= d_fgs[:,1:,:]\n"
   ]
  },
  {
   "attachments": {},
   "cell_type": "markdown",
   "metadata": {},
   "source": [
    "Chose the components to fit for"
   ]
  },
  {
   "cell_type": "code",
   "execution_count": 262,
   "metadata": {},
   "outputs": [],
   "source": [
    "components= [CMB(), Dust(50.), Synchrotron(50.)]"
   ]
  },
  {
   "cell_type": "code",
   "execution_count": 263,
   "metadata": {},
   "outputs": [],
   "source": [
    "M = MixingMatrix(*components) \n",
    "M_ev = M.evaluator(instrument.frequency)\n"
   ]
  },
  {
   "attachments": {},
   "cell_type": "markdown",
   "metadata": {},
   "source": [
    "Define the noise covariance matrix"
   ]
  },
  {
   "cell_type": "code",
   "execution_count": 264,
   "metadata": {},
   "outputs": [],
   "source": [
    "N = np.diag((instrument.depth_p / hp.nside2resol(nside, arcmin=True))**2)\n",
    "invN = np.linalg.inv(N)\n"
   ]
  },
  {
   "attachments": {},
   "cell_type": "markdown",
   "metadata": {},
   "source": [
    "## 2.component separation"
   ]
  },
  {
   "attachments": {},
   "cell_type": "markdown",
   "metadata": {},
   "source": [
    "true and initial values for the parameters"
   ]
  },
  {
   "cell_type": "code",
   "execution_count": 265,
   "metadata": {},
   "outputs": [],
   "source": [
    "gains_true = np.ones(21)\n",
    "x_true = np.concatenate((M.defaults, gains_true))\n",
    "\n",
    "x_init = np.random.uniform(low=x_true * (1 - 1 / 40), high= x_true * (1 + 1 / 40))"
   ]
  },
  {
   "attachments": {},
   "cell_type": "markdown",
   "metadata": {},
   "source": [
    "#### average spectral likelihood"
   ]
  },
  {
   "cell_type": "code",
   "execution_count": 266,
   "metadata": {},
   "outputs": [
    {
     "name": "stdout",
     "output_type": "stream",
     "text": [
      "(22, 3)\n"
     ]
    }
   ],
   "source": [
    "dati = np.einsum('ijp,klp-> ijkl',freq_maps,freq_maps)\n",
    "print(M_ev(np.array([1.54,20,-3])).shape)\n"
   ]
  },
  {
   "cell_type": "code",
   "execution_count": 267,
   "metadata": {},
   "outputs": [],
   "source": [
    "def aver_likelihood(y):\n",
    "    Bd, T, Bs, a, b, c, d, e, f, g, h, i, l, m, n, o, p, q, s, t, u, v, w, z = y\n",
    "    r= 1\n",
    "    G = np.diag([a, b, c, d, e, f, g, h, i, l, m, n, o, p, q, r, s, t, u, v, w, z ])\n",
    "    A_maxL =G.dot(M_ev(np.array([Bd,T,Bs]))) \n",
    "    logL = 0\n",
    "    AtN = A_maxL.T.dot(invN)\n",
    "    NA= invN.dot(A_maxL)\n",
    "    AtNA = np.linalg.inv(A_maxL.T.dot(invN).dot(A_maxL))\n",
    "    P = NA.dot(AtNA).dot(AtN)\n",
    "    logL = logL -np.trace(np.einsum('fg, gikj->fk', P, dati)+np.einsum('fg, ij->gi', P, N))\n",
    "\n",
    "    if logL != logL:\n",
    "        return 0.0\n",
    "    return logL"
   ]
  },
  {
   "cell_type": "code",
   "execution_count": 268,
   "metadata": {},
   "outputs": [
    {
     "data": {
      "text/plain": [
       "-31300490262.321014"
      ]
     },
     "execution_count": 268,
     "metadata": {},
     "output_type": "execute_result"
    }
   ],
   "source": [
    "aver_likelihood(x_true)"
   ]
  },
  {
   "attachments": {},
   "cell_type": "markdown",
   "metadata": {},
   "source": [
    "#### step1: minimization of the average spectral likelihood"
   ]
  },
  {
   "cell_type": "code",
   "execution_count": 269,
   "metadata": {},
   "outputs": [
    {
     "name": "stdout",
     "output_type": "stream",
     "text": [
      " message: Converged (|f_n-f_(n-1)| ~= 0)\n",
      " success: True\n",
      "  status: 1\n",
      "     fun: -31300490262.321053\n",
      "       x: [ 1.540e+00  2.000e+01 ...  1.000e+00  1.000e+00]\n",
      "     nit: 3\n",
      "     jac: [ 0.000e+00  0.000e+00 ...  1.526e+03  7.629e+02]\n",
      "    nfev: 700\n",
      "[ 1.54       19.99999999 -3.          0.99999998  0.99999998  1.\n",
      "  0.99999998  0.99999998  1.00000001  0.99999999  0.99999998  1.\n",
      "  1.          1.          0.99999998  1.00000001  0.99999999  0.99999999\n",
      "  0.99999999  0.99999998  0.99999998  0.99999998  1.00000001  0.99999995]\n"
     ]
    }
   ],
   "source": [
    "bnds = ((1.4, 1.6), (10, 30), (-3.5,-2.5), (0.5,1.5), (0.5,1.5), (0.5,1.5), (0.5,1.5), (0.5,1.5), (0.5,1.5), (0.5,1.5), (0.5,1.5), (0.5,1.5), (0.5,1.5), (0.5,1.5), (0.5,1.5), (0.5,1.5), (0.5,1.5), (0.5,1.5), (0.5,1.5), (0.5,1.5), (0.5,1.5), (0.5,1.5), (0.5,1.5), (0.5,1.5))\n",
    "options={'maxfun':50000}\n",
    "result= minimize(aver_likelihood, x_true, method='TNC', tol = 1e-18, options=options, bounds=bnds )\n",
    "print(result)\n",
    "print(result.x)"
   ]
  },
  {
   "attachments": {},
   "cell_type": "markdown",
   "metadata": {},
   "source": [
    "Calculate the errors of the parameters"
   ]
  },
  {
   "cell_type": "code",
   "execution_count": 270,
   "metadata": {},
   "outputs": [],
   "source": [
    "H = nd.Hessian(aver_likelihood)\n",
    "h = H(result.x)\n",
    "\n",
    "sigma_params_square = np.linalg.inv(h)"
   ]
  },
  {
   "attachments": {},
   "cell_type": "markdown",
   "metadata": {},
   "source": [
    "definition of A=G*M"
   ]
  },
  {
   "cell_type": "code",
   "execution_count": 271,
   "metadata": {},
   "outputs": [],
   "source": [
    "def G_tot(gain_params):\n",
    "    a, b, c, d, e, f, g, h, i, l, m, n, o, p, q, s, t, u, v, w, z = gain_params\n",
    "    r= 1\n",
    "    G = np.diag([a, b, c, d, e, f, g, h, i, l, m, n, o, p, q, r, s, t, u, v, w, z ])\n",
    "    return G"
   ]
  },
  {
   "cell_type": "code",
   "execution_count": 272,
   "metadata": {},
   "outputs": [],
   "source": [
    "def A_ev_new(y):\n",
    "    Bd, T, Bs, a, b, c, d, e, f, g, h, i, l, m, n, o, p, q, s, t, u, v, w, z = y\n",
    "    r= 1\n",
    "    G = np.diag([a, b, c, d, e, f, g, h, i, l, m, n, o, p, q, r, s, t, u, v, w, z ])\n",
    "    A_maxL =G.dot(M_ev(np.array([Bd,T,Bs])))\n",
    "    print(A_maxL.shape)\n",
    "    return A_maxL"
   ]
  },
  {
   "cell_type": "code",
   "execution_count": 273,
   "metadata": {},
   "outputs": [
    {
     "name": "stdout",
     "output_type": "stream",
     "text": [
      "(22, 3)\n"
     ]
    }
   ],
   "source": [
    "#evaluate the matrix A at maximum of the average likelihood\n",
    "\n",
    "A_maxL=A_ev_new(result.x) #(n_freq,n_component)\n"
   ]
  },
  {
   "attachments": {},
   "cell_type": "markdown",
   "metadata": {},
   "source": [
    "#### step2: take the component maps (residual, dust, synch)\n",
    "the first one should be CMB, but I have no CMB, so it is residual"
   ]
  },
  {
   "cell_type": "code",
   "execution_count": 274,
   "metadata": {},
   "outputs": [],
   "source": [
    "AtN=A_maxL.T.dot(invN)\n",
    "AtNA=np.linalg.inv(A_maxL.T.dot(invN).dot(A_maxL))\n",
    "comp_maps=np.einsum ('cg,gs,sij->cij', AtNA,AtN, freq_maps)\n",
    "\n",
    "\n",
    "W_maxL = np.einsum ('cg,gs->cs', AtNA,AtN)\n",
    "\n",
    "\n",
    "residual_maps_QU = comp_maps[0]\n",
    "zeros=np.zeros((1, 49152))\n",
    "residual_maps_IQU = np.vstack((zeros, residual_maps_QU))\n"
   ]
  },
  {
   "attachments": {},
   "cell_type": "markdown",
   "metadata": {},
   "source": [
    "## 3. total residual power spectrum"
   ]
  },
  {
   "cell_type": "code",
   "execution_count": 275,
   "metadata": {},
   "outputs": [
    {
     "data": {
      "text/plain": [
       "<matplotlib.legend.Legend at 0x180b6df10>"
      ]
     },
     "execution_count": 275,
     "metadata": {},
     "output_type": "execute_result"
    },
    {
     "data": {
      "image/png": "[encoded data removed]",
      "text/plain": [
       "<Figure size 640x480 with 1 Axes>"
      ]
     },
     "metadata": {},
     "output_type": "display_data"
    }
   ],
   "source": [
    "#multipole range \n",
    "lmin= 2\n",
    "lmax= 192\n",
    "ell = np.arange(lmin,lmax)\n",
    "\n",
    "\n",
    "#power spectrum of the total residual \n",
    "Cl_BB_residual =hp.anafast(residual_maps_IQU)[2,lmin:] #with [2] I select the B mode\n",
    "Dl_BB_residual = (ell*(ell+1)*Cl_BB_residual)/(2*m.pi)\n",
    "\n",
    "\n",
    "#Cl theory \n",
    "Cl_BB_r1 = _get_Cl_cmb(Alens=0.0, r=1.)[2][lmin:lmax]\n",
    "Cl_BB_r_001 = _get_Cl_cmb(Alens=0.0, r=0.001)[2] [lmin:lmax]\n",
    "\n",
    "#Dl theory\n",
    "Dl_BB_r001 = (ell*(ell+1)*Cl_BB_r_001)/(2*m.pi)\n",
    "\n",
    "\n",
    "#lensing\n",
    "Cl_lens = _get_Cl_cmb(Alens=1.0, r=0.)[2][lmin:lmax]\n",
    "Dl_lens = (ell*(ell+1)*Cl_lens)/(2*m.pi)\n",
    "\n",
    "#plot power spectra\n",
    "plt.loglog(ell, Dl_BB_residual, label = \"Dl_BB_residual\")\n",
    "plt.loglog(ell, Dl_lens, label = \"Dl_lensing\")\n",
    "plt.loglog(ell, Dl_BB_r001, label = \"Dl_BB_r0.001\")\n",
    "plt.xlabel(r'$\\ell$')\n",
    "plt.ylabel(r'$\\ell$* ($\\ell$+1)*C$\\ell$/2$\\pi$')\n",
    "plt.legend()\n",
    "\n"
   ]
  },
  {
   "attachments": {},
   "cell_type": "markdown",
   "metadata": {},
   "source": [
    "## 4.Calculate sigma Fisher"
   ]
  },
  {
   "cell_type": "code",
   "execution_count": 276,
   "metadata": {},
   "outputs": [],
   "source": [
    "Data = Cl_BB_residual + Cl_lens #it is needed by the cosmological likelihood\n",
    "fsky = 1\n",
    "F = np.sum((2*ell+1) * fsky / 2*Cl_BB_r1** 2 / Data ** 2) #it is a scalar because I am using comsological likelihood\n",
    "sigma_r_fisher = np.sqrt(1.0 / F)"
   ]
  },
  {
   "cell_type": "code",
   "execution_count": 277,
   "metadata": {},
   "outputs": [
    {
     "name": "stdout",
     "output_type": "stream",
     "text": [
      "(24, 3, 22)\n"
     ]
    }
   ],
   "source": [
    "i_cmb = M.components.index('CMB')\n",
    "\n",
    "#residual (n_component,n_freq)\n",
    "W_maxL = np.einsum ('cg,gs->cs', AtNA,AtN)[i_cmb,:]\n",
    "\n",
    "\n",
    "\n",
    "#this function takes the gain parameters 21 from the minimization and add the one that is fixed at 1\n",
    "def G_values_tot(gain_params):\n",
    "    a, b, c, d, e, f, g, h, i, l, m, n, o, p, q, s, t, u, v, w, z = gain_params\n",
    "    r= 1\n",
    "    G = [a, b, c, d, e, f, g, h, i, l, m, n, o, p, q, r, s, t, u, v, w, z]\n",
    "    return G\n",
    "\n",
    "gain_params_tot= G_values_tot(result.x[3:])\n",
    "\n",
    "\n",
    "#it gives you the derivative of the gain respect to each gains\n",
    "def G_diff(gain_params_tot_):\n",
    "    G_dB = []\n",
    "    for i,_ in enumerate(result.x[3:]):\n",
    "        zeros= np.zeros((len(gain_params_tot_),len(gain_params_tot_)))\n",
    "        zeros[i] = 1\n",
    "        G_dB.append(zeros)\n",
    "    return np.array(G_dB)\n",
    "\n",
    "\n",
    "\n",
    "def zeros(M_dB_):\n",
    "    M_dB=[]\n",
    "    zero_column=np.zeros(22)\n",
    "    for i,_ in enumerate(result.x[:3]):\n",
    "        if i == 2: \n",
    "            M_dB_tot=np.vstack((zero_column,zero_column,M_dB_[i,:,0], zero_column, zero_column, zero_column, \n",
    "                                zero_column, zero_column, zero_column, zero_column, zero_column, zero_column, \n",
    "                                zero_column, zero_column, zero_column, zero_column, zero_column, zero_column, \n",
    "                                zero_column, zero_column, zero_column, zero_column, zero_column, zero_column))   \n",
    "        else:\n",
    "            M_dB_tot=np.vstack((zero_column,M_dB_[i,:,0], zero_column, zero_column, zero_column, zero_column, \n",
    "                                zero_column, zero_column, zero_column, zero_column, zero_column, zero_column, \n",
    "                                zero_column, zero_column, zero_column, zero_column, zero_column, zero_column, \n",
    "                                zero_column, zero_column, zero_column, zero_column, zero_column, zero_column))\n",
    "        M_dB.append(M_dB_tot)\n",
    "    return np.array(M_dB)\n",
    "\n",
    "\n",
    "#ATTENTION: I changed and put from the beginning the zeros that are missing because then it is simpler to calculate \n",
    "#the rest. I changed also other things because I realized they were wrong\n",
    "\n",
    "def A_diff_new(params_values):\n",
    "    spectral_params_values = params_values[:3]\n",
    "    # gain_params_values = params_values[3:]\n",
    "    \n",
    "\n",
    "    #first term\n",
    "    G_dB=G_diff(gain_params_tot)  #(gain_param,freq,freq)=(21,22,22)\n",
    "    zeros_matrix=np.zeros((3,22,22))\n",
    "    G_dB_tot= np.concatenate((zeros_matrix,G_dB), axis=0) #(param, freq, freq)=(24,22,22)\n",
    "  \n",
    "\n",
    "    M_ev_val = M_ev(spectral_params_values) #(freq,component)=(22,3)\n",
    "    # derivatives of G wrt. spectral parameters is zero\n",
    "    G_dB_M = np.einsum('gif, fc-> gci',  G_dB_tot, M_ev_val) #(param, component, freq)= (24, 3, 22)\n",
    "   \n",
    "    \n",
    "\n",
    "    #second term\n",
    "    M_dB_ev = M.diff_evaluator(instrument.frequency)\n",
    "    M_dB_val = np.array(M_dB_ev(spectral_params_values))#(spec_param,freq,component)=(3,22,1)\n",
    "    M_dB_tot=zeros(M_dB_val)#(component, param, freq)=(3,24,22)\n",
    "    M_dB_tot=np.array(M_dB_tot)\n",
    "   \n",
    "\n",
    "    G = np.diag(np.array(gain_params_tot)) #(freq,freq)=(22,22)\n",
    "    G_M_dB_val = np.einsum('abc, cd-> bad', M_dB_tot,G) #(param, component, freq)= (24,3,22)\n",
    "  \n",
    " \n",
    "    A_dB_new= G_dB_M+G_M_dB_val#(params,freq,component)=(24,22,3)\n",
    "    print(A_dB_new.shape)\n",
    "    return A_dB_new\n",
    "\n",
    "\n",
    "A_dB_maxL= A_diff_new(result.x)"
   ]
  },
  {
   "attachments": {},
   "cell_type": "markdown",
   "metadata": {},
   "source": [
    "## estimation of the statistical and systematics residuals"
   ]
  },
  {
   "cell_type": "code",
   "execution_count": 278,
   "metadata": {},
   "outputs": [
    {
     "name": "stdout",
     "output_type": "stream",
     "text": [
      "(24, 24, 3, 22)\n"
     ]
    }
   ],
   "source": [
    "#PROBLEM: Since the shape of M_dB_dB is (3,3) and if I consider M_dB_dB[0,0] it becomes (22,1) \n",
    "#my scope is in this function is try to pass all the first and second entrance i and j, so in\n",
    "# this way the dimension becomes (22,1) and add the zero_column that is (22,1) for 23 times to \n",
    "#have a matrix (22,24) in the \"centre\", and then the normal (3,3) outside so... (3,3,22,24) ... \n",
    "#then I will add a (21,2,22,24) of all zeros to have (24,24,22,3)\n",
    "\n",
    "\n",
    "# def zeros_new(M_dB_dB_):\n",
    "#     M_dB_dB=[]\n",
    "#     zero_column=np.zeros((22,1))\n",
    "#     for j,_ in enumerate (result.x[:3]):\n",
    "#         for i,_ in enumerate(result.x[:3]):\n",
    "#             if i == 2: \n",
    "#                 M_dB_tot=np.zeros((22,3))\n",
    "#                 # M_dB_tot=np.vstack((zero_column,zero_column,M_dB_dB_[j,i], zero_column, zero_column, zero_column, \n",
    "#                 # zero_column, zero_column, zero_column, zero_column, zero_column, zero_column, zero_column, \n",
    "#                 # zero_column, zero_column, zero_column, zero_column, zero_column, zero_column, zero_column, \n",
    "#                 # zero_column, zero_column, zero_column, zero_column))   \n",
    "#             else:\n",
    "#                 M_dB_tot=np.vstack((zero_column,M_dB_dB_[j,i], zero_column, zero_column, zero_column, zero_column, \n",
    "#                 zero_column, zero_column, zero_column, zero_column, zero_column, zero_column, zero_column, \n",
    "#                 zero_column, zero_column, zero_column, zero_column, zero_column, zero_column, zero_column, \n",
    "#                 zero_column, zero_column, zero_column, zero_column))\n",
    "#             M_dB_dB.append(M_dB_tot)\n",
    "#         return np.array(M_dB_dB)\n",
    "\n",
    "\n",
    "\n",
    "def A_diff_diff_new(params_values):\n",
    "    spectral_params_values = params_values[:3]\n",
    "    # gain_params_values = params_values[3:]\n",
    "    \n",
    "    #first term\n",
    "    G_dB=G_diff(gain_params_tot)  #(gain_param,freq,freq)=(21,22,22)\n",
    "    zeros_matrix=np.zeros((3,22,22))\n",
    "    G_dB_tot= np.concatenate((zeros_matrix,G_dB), axis=0) #(param, freq, freq)=(24,22,22)\n",
    "    \n",
    "    M_dB_ev = M.diff_evaluator(instrument.frequency)\n",
    "    M_dB_val = np.array(M_dB_ev(spectral_params_values))#(spec_param,freq,component)=(3,22,1)\n",
    "    M_dB_tot=zeros(M_dB_val)#(component, param, freq)=(3,24,22)\n",
    "    M_dB_tot=np.array(M_dB_tot)\n",
    "\n",
    "    G_dB_M_dB = np.einsum('abc,dec->aedb', G_dB_tot,M_dB_tot) #(24,24,3,22)\n",
    "    \n",
    "    \n",
    "    #FOR THE MOMENT I FIXED THIS TERM TO ZERO \n",
    "\n",
    "    # #second term\n",
    "    # M_dB_dB_ev = M.diff_diff_evaluator(instrument.frequency)\n",
    "    # M_dB_dB_val = np.array(M_dB_dB_ev(spectral_params_values))#(3,3)\n",
    "    \n",
    "    # M_dB_dB_zeros=zeros_new(M_dB_dB_val)\n",
    "    # zeros_matrix_new=np.zeros((21,3,22,3))\n",
    "    # M_dB_dB_tot=np.concatenate((M_dB_dB_zeros,zeros_matrix_new), axis=0)\n",
    "    # M_dB_dB_tot=np.array(M_dB_dB_tot)\n",
    "\n",
    "    \n",
    "\n",
    "    # M_dB_dB_prova= np.zeros((24,24,22,3))\n",
    "    \n",
    "    # G = np.diag(np.array(gain_params_tot)) #(freq,freq)=(22,22)\n",
    "    # M_dB_dB_G= np.einsum('abcd,ce->abed', M_dB_dB_prova,G)\n",
    "   \n",
    "    A_dB_dB_new=  G_dB_M_dB +  G_dB_M_dB \n",
    "    print(A_dB_dB_new.shape)\n",
    "\n",
    "  \n",
    "    return A_dB_dB_new\n",
    "\n",
    "A_dBdB_maxL= A_diff_diff_new(result.x)\n"
   ]
  },
  {
   "cell_type": "code",
   "execution_count": 279,
   "metadata": {},
   "outputs": [
    {
     "name": "stdout",
     "output_type": "stream",
     "text": [
      "(24, 3, 22)\n"
     ]
    }
   ],
   "source": [
    "#W_dB_maxL\n",
    "\n",
    "a = -np.linalg.inv(np.einsum('cf, fx, xs-> cs',A_maxL.T, invN, A_maxL)) #(3,3)\n",
    "b = np.einsum('fcg, fx, xs-> cgs',A_dB_maxL.T, invN, A_maxL)+ np.einsum('cf, fx, gsx-> cgs',A_maxL.T, invN, A_dB_maxL)\n",
    "#(3,24,3)\n",
    "c = np.linalg.inv(np.einsum('cf, fx, xs-> cs',A_maxL.T, invN, A_maxL))#(3,3)\n",
    "d = np.einsum('fcg, fx-> cgx',A_dB_maxL.T, invN)#(3,24,22)\n",
    "e = np.einsum( 'cf, fx-> cx', A_maxL.T, invN)#(3,22)\n",
    "f = np.einsum ( 'ab, bcd-> acd', a,b)\n",
    "g = np.einsum ( 'ab, bc-> ac', c,e)\n",
    "\n",
    "\n",
    "W_dB_maxL = np.einsum('abc, cd-> bad', f,g) + np.einsum('cx, xgf-> gcf', c, d)  #(params_tot,component,freq)=(24,3,22)\n",
    "print(W_dB_maxL.shape)\n",
    "W_dB_maxL = W_dB_maxL [:, i_cmb]\n",
    "\n"
   ]
  },
  {
   "cell_type": "code",
   "execution_count": 280,
   "metadata": {},
   "outputs": [
    {
     "name": "stdout",
     "output_type": "stream",
     "text": [
      "(24, 24, 3, 22)\n"
     ]
    }
   ],
   "source": [
    "#W_dB_dB_maxL\n",
    "\n",
    "h = np.einsum ( 'bacd,be,ef->cdaf', A_dBdB_maxL.T, invN, A_maxL )\n",
    "i = np.einsum ( 'bac,bd,efd->ceaf', A_dB_maxL.T, invN, A_dB_maxL )\n",
    "l = np.einsum ( 'ab,bc,defc->deaf', A_maxL.T,invN, A_dBdB_maxL)\n",
    "\n",
    "p = h+i+i+l\n",
    "o = np.einsum (  'ab,bc,cd->ad', a,c,e)\n",
    "\n",
    "\n",
    "H = np.einsum('ab,bcd,de,efg,gh,hi->cfai', a,b,c,b,c,e)\n",
    "#print(H.shape)\n",
    "B =  np.einsum ( 'ab,cdea->cdeb',o,p)\n",
    "#print(B.shape)\n",
    "C = np.einsum('ab,bcd,de,fg,ghi,if->chae', a,b,e,a,b,c)\n",
    "#print(C.shape)\n",
    "D = np.einsum('ab,bcd,de,efg->cfag', a,b,c,d)\n",
    "#print(D.shape)\n",
    "E = np.einsum ('ab,cbde,cf->deaf', c,A_dBdB_maxL.T,invN)\n",
    "#print (E.shape)\n",
    "\n",
    "\n",
    "W_dB_dB_maxL = - H + B + C + D + D + E\n",
    "print(W_dB_dB_maxL.shape)\n",
    "W_dB_dB_maxL =  W_dB_dB_maxL[:, :, i_cmb]"
   ]
  },
  {
   "cell_type": "code",
   "execution_count": 281,
   "metadata": {},
   "outputs": [],
   "source": [
    "# I put d_fgs =  get_observation(instrument, model, noise=True, nside=nside) with Q,U and I\n",
    "\n",
    "if n_stokes == 3:  \n",
    "    d_spectra = d_fgs\n",
    "else:  # Only P is provided, add T for map2alm\n",
    "    d_spectra = np.zeros((n_freqs, 3, d_fgs.shape[2]), dtype=d_fgs.dtype)\n",
    "    d_spectra[:, 1:] = d_fgs\n",
    "\n",
    "# Compute cross-spectra\n",
    "almBs = [hp.map2alm(freq_map, lmax=lmax, iter=10)[2] for freq_map in d_spectra]\n",
    "Cl_fgs = np.zeros((n_freqs, n_freqs, lmax+1), dtype=d_fgs.dtype)\n",
    "for f1 in range(n_freqs):\n",
    "    for f2 in range(n_freqs):\n",
    "        if f1 > f2:\n",
    "            Cl_fgs[f1, f2] = Cl_fgs[f2, f1]\n",
    "        else:\n",
    "            Cl_fgs[f1, f2] = hp.alm2cl(almBs[f1], almBs[f2], lmax=lmax)\n",
    "\n",
    "Cl_fgs = Cl_fgs[..., lmin:] / fsky"
   ]
  },
  {
   "cell_type": "code",
   "execution_count": 282,
   "metadata": {},
   "outputs": [
    {
     "name": "stdout",
     "output_type": "stream",
     "text": [
      "[-2.90220040e-01 -2.37212050e+00 -2.46040452e-01 -5.64551549e-01\n",
      " -1.89788300e-01 -2.76150138e-01 -1.28224831e-01 -1.11944403e-01\n",
      " -1.06121646e-01 -5.39222247e-02 -4.53092065e-02 -4.63317213e-02\n",
      " -4.86137681e-02 -2.61944402e-02 -3.18757272e-02 -2.17977028e-02\n",
      " -3.49848903e-02 -1.59036566e-02 -2.45084903e-02 -1.48137459e-02\n",
      " -1.58016442e-02 -1.61691521e-02 -1.22706774e-02 -1.75858882e-02\n",
      " -1.17794912e-02 -1.37231951e-02 -8.79003265e-03 -1.10104162e-02\n",
      " -8.33867607e-03 -9.76165856e-03 -7.97440257e-03 -7.67315727e-03\n",
      " -6.15541334e-03 -5.32793361e-03 -5.84380982e-03 -4.39724600e-03\n",
      " -3.92950270e-03 -5.71714135e-03 -3.93768892e-03 -5.60367397e-03\n",
      " -3.10398257e-03 -3.82963015e-03 -3.55584097e-03 -2.84152253e-03\n",
      " -2.66357888e-03 -2.65188868e-03 -3.00977917e-03 -2.09843877e-03\n",
      " -2.58839891e-03 -1.87808407e-03 -2.41118703e-03 -2.35732341e-03\n",
      " -2.54059354e-03 -1.60795872e-03 -1.86659708e-03 -1.25328667e-03\n",
      " -1.37599570e-03 -1.02292748e-03 -1.38673958e-03 -9.40050325e-04\n",
      " -1.28067564e-03 -1.07467322e-03 -1.16730688e-03 -9.18168491e-04\n",
      " -9.15148257e-04 -1.05468721e-03 -7.75741526e-04 -8.53744555e-04\n",
      " -7.80922493e-04 -6.57244141e-04 -7.22296814e-04 -6.59596697e-04\n",
      " -6.20339109e-04 -6.32791361e-04 -4.83734402e-04 -5.78987698e-04\n",
      " -4.43883845e-04 -5.13356444e-04 -3.99237125e-04 -5.46148815e-04\n",
      " -4.47298011e-04 -5.52974612e-04 -4.06833004e-04 -4.30633787e-04\n",
      " -4.35949414e-04 -4.32493050e-04 -3.91907421e-04 -3.42558371e-04\n",
      " -2.92983539e-04 -3.72145724e-04 -2.59034649e-04 -3.20063377e-04\n",
      " -2.40345598e-04 -2.70614122e-04 -2.46438999e-04 -2.80672145e-04\n",
      " -2.32891575e-04 -2.58998451e-04 -2.28454926e-04 -2.48026126e-04\n",
      " -1.92751207e-04 -2.33161587e-04 -1.79813802e-04 -2.51677515e-04\n",
      " -1.91902865e-04 -2.43093324e-04 -2.00546606e-04 -2.17224559e-04\n",
      " -1.90954597e-04 -1.72815637e-04 -2.03679119e-04 -1.46027361e-04\n",
      " -1.65401903e-04 -1.40180313e-04 -1.87942086e-04 -1.42919722e-04\n",
      " -1.74300634e-04 -1.41085800e-04 -1.48240504e-04 -1.35617213e-04\n",
      " -1.18239729e-04 -1.17559035e-04 -1.33686077e-04 -9.95126131e-05\n",
      " -1.30629207e-04 -1.12171572e-04 -1.29109061e-04 -1.24542086e-04\n",
      " -1.18563159e-04 -1.34725655e-04 -1.09682544e-04 -1.22203050e-04\n",
      " -1.02377000e-04 -1.00977861e-04 -9.74475293e-05 -9.53629350e-05\n",
      " -8.47086103e-05 -1.16916258e-04 -9.47952804e-05 -9.70319541e-05\n",
      " -7.56740231e-05 -7.11148812e-05 -7.96188983e-05 -7.57264777e-05\n",
      " -8.08890288e-05 -7.97364852e-05 -7.81047062e-05 -8.26706666e-05\n",
      " -9.01881905e-05 -8.70378342e-05 -9.45838102e-05 -8.28019265e-05\n",
      " -8.63297085e-05 -7.18305405e-05 -7.34052078e-05 -7.41008627e-05\n",
      " -8.15432908e-05 -7.34418535e-05 -7.87855798e-05 -6.71794766e-05\n",
      " -7.44309482e-05 -6.20634787e-05 -8.33130055e-05 -6.07342723e-05\n",
      " -7.17904399e-05 -6.74447578e-05 -5.35807686e-05 -5.38792300e-05\n",
      " -5.59638868e-05 -4.94772134e-05 -5.58688136e-05 -5.41106772e-05\n",
      " -4.80799779e-05 -5.67644349e-05 -4.96220122e-05 -4.91084316e-05\n",
      " -4.92625832e-05 -4.88804028e-05 -5.21660609e-05 -5.45621631e-05\n",
      " -4.50524826e-05 -5.33412538e-05 -5.27093682e-05 -5.04455202e-05\n",
      " -5.26565767e-05 -4.64618987e-05 -5.38784633e-05 -3.89913129e-05\n",
      " -4.31331818e-05 -5.02697209e-05 -5.91409465e-05]\n"
     ]
    }
   ],
   "source": [
    "\n",
    "V_maxL = np.einsum('ij,ij...->...', sigma_params_square, W_dB_dB_maxL)\n",
    "\n",
    "\n",
    "# elementary quantities defined in Stompor, Errard, Poletti (2016)\n",
    "Cl_xF = {}\n",
    "Cl_xF['yy'] = _utmv(W_maxL, Cl_fgs.T, W_maxL)  # (ell,)= (191)\n",
    "Cl_xF['YY'] = _mmm(W_dB_maxL, Cl_fgs.T, W_dB_maxL.T)  # (ell, param, param)=(191,24,24)\n",
    "Cl_xF['yz'] = _utmv(W_maxL, Cl_fgs.T, V_maxL )  # (ell,)\n",
    "Cl_xF['Yy'] = _mmv(W_dB_maxL, Cl_fgs.T, W_maxL)  # (ell, param)\n",
    "Cl_xF['Yz'] = _mmv(W_dB_maxL, Cl_fgs.T, V_maxL)  # (ell, param)\n",
    "\n",
    "\n",
    "Cl_noise = _get_Cl_noise(instrument, A_maxL, lmax)[ i_cmb,  i_cmb, lmin:]\n",
    "\n",
    "# bias and statistical foregrounds residuals\n",
    "noise = Cl_noise\n",
    "bias = Cl_xF['yy'] + 2 * Cl_xF['yz'] #should be 0 \n",
    "stat = np.einsum('ij, lij -> l', sigma_params_square, Cl_xF['YY'])  \n",
    "var = stat**2 + 2 * np.einsum('li, ij, lj -> l', Cl_xF['Yy'], sigma_params_square, Cl_xF['Yy'])\n",
    "noise_stat= noise + stat\n",
    "\n",
    "\n",
    "#control that Cl_BB_residual = noise + stat\n",
    "print(noise+stat)"
   ]
  },
  {
   "cell_type": "code",
   "execution_count": 283,
   "metadata": {},
   "outputs": [
    {
     "data": {
      "text/plain": [
       "<matplotlib.legend.Legend at 0x1810e4df0>"
      ]
     },
     "execution_count": 283,
     "metadata": {},
     "output_type": "execute_result"
    },
    {
     "data": {
      "image/png": "[encoded data removed]",
      "text/plain": [
       "<Figure size 640x480 with 1 Axes>"
      ]
     },
     "metadata": {},
     "output_type": "display_data"
    }
   ],
   "source": [
    "\n",
    "plt.loglog(ell, Cl_BB_r_001, label = \"Cl_BB_r0.001\") \n",
    "plt.loglog(ell, Cl_BB_residual, label = \"Cl_BB_residual\")\n",
    "\n",
    "\n",
    "\n",
    "lmin= 1\n",
    "lmax= 192\n",
    "ell = np.arange(lmin,lmax)\n",
    "\n",
    " \n",
    "plt.loglog(ell, noise , label = \"noise \")\n",
    "# plt.loglog(ell, bias , label = \"bias\")\n",
    "plt.loglog(ell, stat , label = \"stat\")\n",
    "plt.loglog(ell,var, label = \"var\")\n",
    "# plt.loglog(ell,noise_stat, label = \"noise+stat\")\n",
    "\n",
    "plt.xlabel(r'$\\ell$')\n",
    "plt.ylabel(r'Cl')\n",
    "plt.legend()"
   ]
  }
 ],
 "metadata": {
  "kernelspec": {
   "display_name": "gain_env",
   "language": "python",
   "name": "python3"
  },
  "language_info": {
   "codemirror_mode": {
    "name": "ipython",
    "version": 3
   },
   "file_extension": ".py",
   "mimetype": "text/x-python",
   "name": "python",
   "nbconvert_exporter": "python",
   "pygments_lexer": "ipython3",
   "version": "3.9.13"
  },
  "orig_nbformat": 4
 },
 "nbformat": 4,
 "nbformat_minor": 2
}
