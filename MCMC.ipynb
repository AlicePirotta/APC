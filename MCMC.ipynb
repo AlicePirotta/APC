{
 "cells": [
  {
   "cell_type": "code",
   "execution_count": 1,
   "metadata": {},
   "outputs": [],
   "source": [
    "import warnings\n",
    "warnings.filterwarnings(\"ignore\")\n",
    "\n",
    "\n",
    "import numpy as np\n",
    "import matplotlib.pyplot as plt\n",
    "from fgbuster import CMB, Dust, Synchrotron, MixingMatrix\n",
    "from fgbuster.observation_helpers import standardize_instrument, get_observation\n",
    "import matplotlib.pyplot as plt\n",
    "import emcee\n",
    "import random\n",
    "from getdist import MCSamples, plots"
   ]
  },
  {
   "cell_type": "code",
   "execution_count": 2,
   "metadata": {},
   "outputs": [
    {
     "name": "stdout",
     "output_type": "stream",
     "text": [
      "[ 40.  50.  60.  68.  68.  78.  78.  89.  89. 100. 119. 140. 100. 119.\n",
      " 140. 166. 195. 195. 235. 280. 337. 402.]\n"
     ]
    },
    {
     "name": "stderr",
     "output_type": "stream",
     "text": [
      "OMP: Info #276: omp_set_nested routine deprecated, please use omp_set_max_active_levels instead.\n"
     ]
    }
   ],
   "source": [
    "#INSTRUMENT\n",
    "instr = np.load('/Users/alicepirotta/Desktop/APC/MCMC/instrument_LB_IMOv1.npy', allow_pickle=True).item()\n",
    "instr_ = {}\n",
    "instr_['frequency'] = np.array([instr[f]['freq'] for f in instr.keys()])\n",
    "instr_['depth_p'] = np.array([instr[f]['P_sens'] for f in instr.keys()])\n",
    "instr_['fwhm'] = np.array([instr[f]['beam'] for f in instr.keys()])\n",
    "instr_['depth_i'] = instr_['depth_p']/np.sqrt(2)\n",
    "instrument = standardize_instrument(instr_)\n",
    "print(instr_['frequency'])\n",
    "\n",
    "\n",
    "#SKY MAP\n",
    "nside = 4\n",
    "freq_maps = get_observation(instrument, 'd0s0', noise=False, nside=nside)\n",
    "components= [CMB(),Dust(50.),Synchrotron(50.)]\n",
    "A = MixingMatrix(*components)\n",
    "A_ev = A.evaluator(instrument.frequency)\n",
    "\n",
    "\n",
    "#NOISE\n",
    "invN=np.linalg.inv(np.eye(len(instrument.frequency)))\n",
    "#invN = np.diag((hp.nside2resol(nside, arcmin=True) / instrument.depth_p)**2)\n",
    "\n",
    "\n",
    "#INITIAL PARAMETER\n",
    "x0 =np.array([1.54,20,-3,1,1,1,1,1,1,1,1,1,1,1,1,1,1,1,1,1,1,1,1,1])\n",
    "\n",
    "\n",
    "\n",
    "def lnprior(y):\n",
    "    Bd, Td, Bs, a, b, c, d, e, f, g, i, l, m , n, o, p, q, r, s, t, u, v, w, z = y\n",
    "    if ((Bd < 0.) or (Bd > 2.) or\n",
    "        (Td < 10.) or (Td > 30.) or\n",
    "        (Bs < -4.) or (Bs > -2.) or  \n",
    "        (a < 0.) or\n",
    "        (b < 0.) or\n",
    "        (c < 0.) or\n",
    "        (d < 0.) or\n",
    "        (e < 0.) or\n",
    "        (f < 0.) or\n",
    "        (g < 0.) or\n",
    "        (i < 0.) or\n",
    "        (l < 0.) or\n",
    "        (m < 0.) or\n",
    "        (n < 0.) or\n",
    "        (o < 0.) or\n",
    "        (p < 0.) or\n",
    "        (q < 0.) or\n",
    "        (r < 0.) or\n",
    "        (s < 0.) or\n",
    "        (t < 0.) or\n",
    "        (u < 0.) or\n",
    "        (v < 0.) or\n",
    "        (w < 0.) or\n",
    "        (z < 0.)):\n",
    "        return -np.inf\n",
    "    else:\n",
    "        return 0.0\n",
    "    \n",
    "\n",
    "\n",
    "def spec_likelihood(y):\n",
    "    Bd, T, Bs, a, b, c, d, e, f, g, i, l, m, n, o, p, q, r, s, t, u, v, w, z = y\n",
    "    h= 1\n",
    "    G = np.diag([a, b, c, d, e, f, g, h, i, l, m, n, o, p, q, r, s, t, u, v, w, z])\n",
    "    invNd = np.einsum('ij,jsp->isp', invN, freq_maps)\n",
    "    A_maxL =G.dot(A_ev(np.array([Bd,T,Bs]))) \n",
    "    logL = 0\n",
    "    AtNd= np.einsum('ji,jsp->isp', A_maxL, invNd)\n",
    "    AtNA = np.linalg.inv(A_maxL.T.dot(invN).dot(A_maxL))\n",
    "    logL = logL + np.einsum('isp,ij,jsp->', AtNd, AtNA, AtNd)\n",
    "    if logL != logL:\n",
    "        return 0.0\n",
    "    return logL\n",
    "\n",
    "def lnprob(x):\n",
    "    lp = lnprior(x)\n",
    "    return lp + spec_likelihood(x)\n"
   ]
  },
  {
   "cell_type": "code",
   "execution_count": 3,
   "metadata": {},
   "outputs": [],
   "source": [
    "\n",
    "\n",
    "random.seed(10)\n",
    "nwalkers, ndim = 50, 24\n",
    "pos = np.random.uniform(low=x0 * (1 - 1 / 4), high= x0 * (1 + 1 / 4), size=(nwalkers, ndim))"
   ]
  },
  {
   "cell_type": "code",
   "execution_count": 4,
   "metadata": {},
   "outputs": [
    {
     "name": "stderr",
     "output_type": "stream",
     "text": [
      " 48%|████▊     | 477910/1000000 [1:11:06<1:19:54, 108.90it/s]"
     ]
    }
   ],
   "source": [
    "\n",
    "#SAMPLE\n",
    "sampler = emcee.EnsembleSampler(nwalkers, ndim, lnprob)\n",
    "sampler.run_mcmc(pos,1000000, progress=True)"
   ]
  },
  {
   "cell_type": "code",
   "execution_count": null,
   "metadata": {},
   "outputs": [],
   "source": [
    "\n",
    "#AUTOCORRELATION TIME\n",
    "tau = sampler.get_autocorr_time(quiet=True)\n",
    "samples = sampler.get_chain(discard=3*int(max(tau)), thin=int(max(tau)), flat=True)\n",
    "np.save(\"1000000_thin.npy\",samples)\n"
   ]
  },
  {
   "cell_type": "code",
   "execution_count": null,
   "metadata": {},
   "outputs": [],
   "source": [
    "\n",
    "s1 = MCSamples(samples=samples, names=[\"Bd\", \"T\", \"Bs\",  \"g1\", \"g2\", \"g3\", \"g4\", \"g5\", \"g6\", \"g7\", \"g9\", \"g10\", \"g11\", \"g12\", \"g13\", \"g14\", \"g15\", \"g16\", \"g17\", \"g18\", \"g19\", \"g20\", \"g21\", \"g22\" ], labels=[\"Bd\", \"T\", \"Bs\",  \"g1\", \"g2\", \"g3\", \"g4\", \"g5\", \"g6\", \"g7\", \"g9\", \"g10\", \"g11\", \"g12\", \"g13\", \"g14\", \"g15\", \"g16\", \"g17\", \"g18\", \"g19\", \"g20\", \"g21\", \"g22\" ], label='21g')\n",
    "g = plots.get_subplot_plotter()\n",
    "g.triangle_plot([s1], filled=True, title_limit= True)\n",
    "plt.show()"
   ]
  }
 ],
 "metadata": {
  "kernelspec": {
   "display_name": "gain_env",
   "language": "python",
   "name": "python3"
  },
  "language_info": {
   "codemirror_mode": {
    "name": "ipython",
    "version": 3
   },
   "file_extension": ".py",
   "mimetype": "text/x-python",
   "name": "python",
   "nbconvert_exporter": "python",
   "pygments_lexer": "ipython3",
   "version": "3.9.13"
  },
  "orig_nbformat": 4
 },
 "nbformat": 4,
 "nbformat_minor": 2
}
