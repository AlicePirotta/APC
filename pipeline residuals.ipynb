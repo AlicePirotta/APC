{
 "cells": [
  {
   "attachments": {},
   "cell_type": "markdown",
   "metadata": {},
   "source": [
    "\n",
    "%load_ext autoreload\n",
    "%autoreload 2\n",
    "%matplotlib inline\n",
    "import warnings\n",
    "warnings.filterwarnings(\"ignore\")"
   ]
  },
  {
   "cell_type": "code",
   "execution_count": 192,
   "metadata": {},
   "outputs": [],
   "source": [
    "import autograd.numpy as np \n",
    "from autograd import jacobian, hessian\n",
    "import matplotlib.pyplot as plt\n",
    "from fgbuster import CMB, Dust, Synchrotron, MixingMatrix\n",
    "from fgbuster.observation_helpers import standardize_instrument, get_observation\n",
    "from fgbuster.cosmology import _get_Cl_cmb, _get_Cl_noise\n",
    "from scipy.optimize import minimize\n",
    "import matplotlib.pyplot as plt\n",
    "import healpy as hp\n",
    "import numdifftools.core as nd\n",
    "import math as m\n",
    "from fgbuster.algebra import  W_dBdB, W_dB, W, _mmm, _utmv, _mmv, comp_sep\n",
    "\n"
   ]
  },
  {
   "attachments": {},
   "cell_type": "markdown",
   "metadata": {},
   "source": [
    "## 1.general parameters"
   ]
  },
  {
   "cell_type": "code",
   "execution_count": 193,
   "metadata": {},
   "outputs": [],
   "source": [
    "nside = 64\n",
    "model = 'd0s0'"
   ]
  },
  {
   "attachments": {},
   "cell_type": "markdown",
   "metadata": {},
   "source": [
    "Load the instrument"
   ]
  },
  {
   "cell_type": "code",
   "execution_count": 194,
   "metadata": {},
   "outputs": [],
   "source": [
    "instr = np.load('/Users/alicepirotta/Desktop/APC/MCMC/instrument_LB_IMOv1.npy', allow_pickle=True).item()\n",
    "instr_ = {}\n",
    "instr_['frequency'] = np.array([instr[f]['freq'] for f in instr.keys()])\n",
    "instr_['depth_p'] = np.array([instr[f]['P_sens'] for f in instr.keys()])\n",
    "instr_['fwhm'] = np.array([instr[f]['beam'] for f in instr.keys()])\n",
    "instr_['depth_i'] = instr_['depth_p']/np.sqrt(2)\n",
    "instrument = standardize_instrument(instr_)\n",
    "\n",
    "n_freqs=len(instrument.frequency)\n",
    "n_stokes=3"
   ]
  },
  {
   "attachments": {},
   "cell_type": "markdown",
   "metadata": {},
   "source": [
    "Get the frequency maps "
   ]
  },
  {
   "cell_type": "code",
   "execution_count": 195,
   "metadata": {},
   "outputs": [],
   "source": [
    "freq_maps_N = get_observation(instrument, model, noise=True, nside=nside)\n",
    "freq_maps = get_observation(instrument, model, noise=False, nside=nside)\n",
    "\n",
    "#take only the Q and U, not I\n",
    "freq_maps_N= freq_maps_N[:,1:,:]\n",
    "freq_maps= freq_maps[:,1:,:]\n"
   ]
  },
  {
   "attachments": {},
   "cell_type": "markdown",
   "metadata": {},
   "source": [
    "Chose the components to fit for"
   ]
  },
  {
   "cell_type": "code",
   "execution_count": 196,
   "metadata": {},
   "outputs": [],
   "source": [
    "components= [CMB(), Dust(50.), Synchrotron(50.)]"
   ]
  },
  {
   "cell_type": "code",
   "execution_count": 197,
   "metadata": {},
   "outputs": [],
   "source": [
    "M = MixingMatrix(*components) \n",
    "M_ev = M.evaluator(instrument.frequency)\n"
   ]
  },
  {
   "attachments": {},
   "cell_type": "markdown",
   "metadata": {},
   "source": [
    "Define the noise covariance matrix"
   ]
  },
  {
   "cell_type": "code",
   "execution_count": 198,
   "metadata": {},
   "outputs": [],
   "source": [
    "N = np.diag((instrument.depth_p / hp.nside2resol(nside, arcmin=True))**2)\n",
    "invN = np.linalg.inv(N)\n"
   ]
  },
  {
   "attachments": {},
   "cell_type": "markdown",
   "metadata": {},
   "source": [
    "## 2.component separation"
   ]
  },
  {
   "attachments": {},
   "cell_type": "markdown",
   "metadata": {},
   "source": [
    "true and initial values for the parameters"
   ]
  },
  {
   "cell_type": "code",
   "execution_count": 199,
   "metadata": {},
   "outputs": [],
   "source": [
    "gains_true = np.ones(21)\n",
    "x_true = np.concatenate((M.defaults, gains_true))\n",
    "\n",
    "x_init = np.random.uniform(low=x_true * (1 - 1 / 40), high= x_true * (1 + 1 / 40))"
   ]
  },
  {
   "attachments": {},
   "cell_type": "markdown",
   "metadata": {},
   "source": [
    "#### average spectral likelihood"
   ]
  },
  {
   "cell_type": "code",
   "execution_count": 200,
   "metadata": {},
   "outputs": [
    {
     "name": "stdout",
     "output_type": "stream",
     "text": [
      "(22, 3)\n"
     ]
    }
   ],
   "source": [
    "dati = np.einsum('ijp,klp-> ijkl',freq_maps,freq_maps)\n",
    "print(M_ev(np.array([1.54,20,-3])).shape)\n"
   ]
  },
  {
   "cell_type": "code",
   "execution_count": 201,
   "metadata": {},
   "outputs": [],
   "source": [
    "\n",
    "def aver_likelihood(y):\n",
    "    Bd, T, Bs, a, b, c, d, e, f, g, h, i, l, m, n, o, p, q, s, t, u, v, w, z = y\n",
    "    r= 1\n",
    "    G = np.diag([a, b, c, d, e, f, g, h, i, l, m, n, o, p, q, r, s, t, u, v, w, z ])\n",
    "    A_maxL =G.dot(M_ev(np.array([Bd,T,Bs]))) \n",
    "    logL = 0\n",
    "    AtN = A_maxL.T.dot(invN)\n",
    "    NA= invN.dot(A_maxL)\n",
    "    AtNA = np.linalg.inv(A_maxL.T.dot(invN).dot(A_maxL))\n",
    "    P = NA.dot(AtNA).dot(AtN)\n",
    "    logL = logL -np.trace(np.einsum('fg, gikj->fk', P, dati)+np.einsum('fg, ij->gi', P, N))\n",
    "\n",
    "    if logL != logL:\n",
    "        return 0.0\n",
    "    return logL"
   ]
  },
  {
   "cell_type": "code",
   "execution_count": 202,
   "metadata": {},
   "outputs": [
    {
     "data": {
      "text/plain": [
       "-31300490262.321014"
      ]
     },
     "execution_count": 202,
     "metadata": {},
     "output_type": "execute_result"
    }
   ],
   "source": [
    "aver_likelihood(x_true)"
   ]
  },
  {
   "attachments": {},
   "cell_type": "markdown",
   "metadata": {},
   "source": [
    "#### step1: minimization of the average spectral likelihood"
   ]
  },
  {
   "cell_type": "code",
   "execution_count": 203,
   "metadata": {},
   "outputs": [
    {
     "name": "stdout",
     "output_type": "stream",
     "text": [
      " message: Converged (|f_n-f_(n-1)| ~= 0)\n",
      " success: True\n",
      "  status: 1\n",
      "     fun: -31300490262.321053\n",
      "       x: [ 1.540e+00  2.000e+01 ...  1.000e+00  1.000e+00]\n",
      "     nit: 3\n",
      "     jac: [ 0.000e+00  0.000e+00 ...  1.526e+03  7.629e+02]\n",
      "    nfev: 700\n",
      "[ 1.54       19.99999999 -3.          0.99999998  0.99999998  1.\n",
      "  0.99999998  0.99999998  1.00000001  0.99999999  0.99999998  1.\n",
      "  1.          1.          0.99999998  1.00000001  0.99999999  0.99999999\n",
      "  0.99999999  0.99999998  0.99999998  0.99999998  1.00000001  0.99999995]\n"
     ]
    }
   ],
   "source": [
    "bnds = ((1.4, 1.6), (10, 30), (-3.5,-2.5), (0.5,1.5), (0.5,1.5), (0.5,1.5), (0.5,1.5), (0.5,1.5), (0.5,1.5), (0.5,1.5), (0.5,1.5), (0.5,1.5), (0.5,1.5), (0.5,1.5), (0.5,1.5), (0.5,1.5), (0.5,1.5), (0.5,1.5), (0.5,1.5), (0.5,1.5), (0.5,1.5), (0.5,1.5), (0.5,1.5), (0.5,1.5))\n",
    "options={'maxfun':50000}\n",
    "result= minimize(aver_likelihood, x_true, method='TNC', tol = 1e-18, options=options, bounds=bnds )\n",
    "print(result)\n",
    "print(result.x)"
   ]
  },
  {
   "attachments": {},
   "cell_type": "markdown",
   "metadata": {},
   "source": [
    "Calculate the errors of the parameters"
   ]
  },
  {
   "cell_type": "code",
   "execution_count": 204,
   "metadata": {},
   "outputs": [],
   "source": [
    "H = nd.Hessian(aver_likelihood)\n",
    "h = H(result.x)\n",
    "\n",
    "sigma_params_square = np.linalg.inv(h)"
   ]
  },
  {
   "attachments": {},
   "cell_type": "markdown",
   "metadata": {},
   "source": [
    "definition of A=G*M"
   ]
  },
  {
   "cell_type": "code",
   "execution_count": 205,
   "metadata": {},
   "outputs": [],
   "source": [
    "def G_tot(gain_params):\n",
    "    a, b, c, d, e, f, g, h, i, l, m, n, o, p, q, s, t, u, v, w, z = gain_params\n",
    "    r= 1\n",
    "    G = np.diag([a, b, c, d, e, f, g, h, i, l, m, n, o, p, q, r, s, t, u, v, w, z ])\n",
    "    return G"
   ]
  },
  {
   "cell_type": "code",
   "execution_count": 206,
   "metadata": {},
   "outputs": [],
   "source": [
    "def A_ev_new(y):\n",
    "    Bd, T, Bs, a, b, c, d, e, f, g, h, i, l, m, n, o, p, q, s, t, u, v, w, z = y\n",
    "    r= 1\n",
    "    gain_params= [a, b, c, d, e, f, g, h, i, l, m, n, o, p, q, r, s, t, u, v, w, z ]\n",
    "    G = np.diag([a, b, c, d, e, f, g, h, i, l, m, n, o, p, q, r, s, t, u, v, w, z ])\n",
    "#   G = G(gain_params)\n",
    "    A_maxL =G.dot(M_ev(np.array([Bd,T,Bs])))\n",
    "    print(A_maxL.shape)\n",
    "    return A_maxL"
   ]
  },
  {
   "cell_type": "code",
   "execution_count": 207,
   "metadata": {},
   "outputs": [
    {
     "name": "stdout",
     "output_type": "stream",
     "text": [
      "(22, 3)\n"
     ]
    }
   ],
   "source": [
    "#evaluate the matrix A at maximum of the average likelihood\n",
    "\n",
    "A_maxL=A_ev_new(result.x) #(n_freq,n_component)\n",
    "\n",
    "\n",
    "\n"
   ]
  },
  {
   "attachments": {},
   "cell_type": "markdown",
   "metadata": {},
   "source": [
    "#### step2: take the component maps (residual, dust, synch)\n",
    "the first one should be CMB, but I have no CMB, so it is residual"
   ]
  },
  {
   "cell_type": "code",
   "execution_count": 208,
   "metadata": {},
   "outputs": [],
   "source": [
    "\n",
    "\n",
    "\n",
    "AtN=A_maxL.T.dot(invN)\n",
    "AtNA=np.linalg.inv(A_maxL.T.dot(invN).dot(A_maxL))\n",
    "comp_maps=np.einsum ('cg,gs,sij->cij', AtNA,AtN, freq_maps)\n",
    "\n",
    "\n",
    "W_maxL = np.einsum ('cg,gs->cs', AtNA,AtN)\n",
    "\n",
    "\n",
    "residual_maps_QU = comp_maps[0]\n",
    "zeros=np.zeros((1, 49152))\n",
    "residual_maps_IQU = np.vstack((zeros, residual_maps_QU))\n"
   ]
  },
  {
   "attachments": {},
   "cell_type": "markdown",
   "metadata": {},
   "source": [
    "## 3. total residual power spectrum"
   ]
  },
  {
   "cell_type": "code",
   "execution_count": 209,
   "metadata": {},
   "outputs": [
    {
     "data": {
      "text/plain": [
       "<matplotlib.legend.Legend at 0x175bd06d0>"
      ]
     },
     "execution_count": 209,
     "metadata": {},
     "output_type": "execute_result"
    },
    {
     "data": {
      "image/png": "[encoded data removed]",
      "text/plain": [
       "<Figure size 640x480 with 1 Axes>"
      ]
     },
     "metadata": {},
     "output_type": "display_data"
    }
   ],
   "source": [
    "#multipole range \n",
    "lmin= 2\n",
    "lmax= 192\n",
    "ell = np.arange(lmin,lmax)\n",
    "\n",
    "#power spectrum of the total residual \n",
    "Cl_BB_residual =hp.anafast(residual_maps_IQU)[2,lmin:] #with [2] I select the B mode\n",
    "Dl_BB_residual = (ell*(ell+1)*Cl_BB_residual)/(2*m.pi)\n",
    "\n",
    "\n",
    "#Cl theory \n",
    "Cl_BB_r1 = _get_Cl_cmb(Alens=0.0, r=1.)[2][lmin:lmax]\n",
    "Cl_BB_r_001 = _get_Cl_cmb(Alens=0.0, r=0.001)[2][lmin:lmax]\n",
    "#Dl theory\n",
    "Dl_BB_r001 = (ell*(ell+1)*Cl_BB_r_001)/(2*m.pi)\n",
    "\n",
    "\n",
    "#lensing\n",
    "Cl_lens = _get_Cl_cmb(Alens=1.0, r=0.)[2][lmin:lmax]\n",
    "Dl_lens = (ell*(ell+1)*Cl_lens)/(2*m.pi)\n",
    "\n",
    "#plot power spectra\n",
    "plt.loglog(ell, Dl_BB_residual, label = \"Dl_BB_residual\")\n",
    "plt.loglog(ell, Dl_lens, label = \"Dl_lensing\")\n",
    "plt.loglog(ell, Dl_BB_r001, label = \"Dl_BB_r0.001\")\n",
    "plt.xlabel(r'$\\ell$')\n",
    "plt.ylabel(r'$\\ell$* ($\\ell$+1)*C$\\ell$/2$\\pi$')\n",
    "plt.legend()\n",
    "\n"
   ]
  },
  {
   "attachments": {},
   "cell_type": "markdown",
   "metadata": {},
   "source": [
    "## 4.Calculate sigma Fisher"
   ]
  },
  {
   "cell_type": "code",
   "execution_count": 210,
   "metadata": {},
   "outputs": [],
   "source": [
    "Data = Cl_BB_residual + Cl_lens #it is needed by the cosmological likelihood\n",
    "fsky = 1\n",
    "F = np.sum((2*ell+1) * fsky / 2*Cl_BB_r1** 2 / Data ** 2) #it is a scalar because I am using comsological likelihood\n",
    "sigma_r_fisher = np.sqrt(1.0 / F)"
   ]
  },
  {
   "attachments": {},
   "cell_type": "markdown",
   "metadata": {},
   "source": [
    "## estimation of the statistical and systematics residuals"
   ]
  },
  {
   "cell_type": "code",
   "execution_count": 211,
   "metadata": {},
   "outputs": [],
   "source": [
    "i_cmb = M.components.index('CMB')\n",
    "\n",
    "#residual (n_component,n_freq)\n",
    "W_maxL = np.einsum ('cg,gs->cs', AtNA,AtN)#[i_cmb,:]\n",
    "\n",
    "\n",
    "\n",
    "#this function takes the gain parameters 21 from the minimization and add the one that is fixed at 1\n",
    "def G_values_tot(gain_params):\n",
    "    a, b, c, d, e, f, g, h, i, l, m, n, o, p, q, s, t, u, v, w, z = gain_params\n",
    "    r= 1\n",
    "    G = [a, b, c, d, e, f, g, h, i, l, m, n, o, p, q, r, s, t, u, v, w, z]\n",
    "    return G\n",
    "\n",
    "gain_params_tot= G_values_tot(result.x[3:])\n",
    "\n",
    "\n",
    "#it gives you the derivative of the gain respect to each gains\n",
    "def G_diff(gain_params_tot_):\n",
    "    G_dB = []\n",
    "    for i,_ in enumerate(result.x[3:]):\n",
    "        zeros= np.zeros((len(gain_params_tot_),len(gain_params_tot_)))\n",
    "        zeros[i] = 1\n",
    "        G_dB.append(zeros)\n",
    "    return np.array(G_dB)\n",
    "\n",
    "\n",
    "\n",
    "def zeros(M_dB_):\n",
    "    M_dB=[]\n",
    "    zero_column=np.zeros(22)\n",
    "    for i,_ in enumerate(result.x[:3]):\n",
    "        if i == 2: \n",
    "            M_dB_tot=np.vstack((zero_column,zero_column,M_dB_[i,:,0]))   \n",
    "        else:\n",
    "            M_dB_tot=np.vstack((zero_column,M_dB_[i,:,0], zero_column))\n",
    "        M_dB.append(M_dB_tot)\n",
    "    return np.array(M_dB)\n",
    "\n",
    "\n",
    "def A_diff_new(params_values):\n",
    "    spectral_params_values = params_values[:3]\n",
    "    # gain_params_values = params_values[3:]\n",
    "    \n",
    "\n",
    "    #first term\n",
    "    G_dB=G_diff(gain_params_tot)  #(gain,freq,freq)=(21,22,22)\n",
    "    M_ev_val = M_ev(spectral_params_values) #(freq,component)=(22,3)\n",
    "    G_dB_M = np.zeros((24,22,3))\n",
    "    # derivatives of G wrt. spectral parameters is zero\n",
    "    G_dB_M[3:,:] = np.einsum('gif, fc-> gic',  G_dB, M_ev_val) #(number of derivatives(gain), freq, component)= (21,22,3) \n",
    "    \n",
    "\n",
    "    #second term\n",
    "    M_dB_ev = M.diff_evaluator(instrument.frequency)\n",
    "    M_dB_val = np.array(M_dB_ev(spectral_params_values))#(spec_param,freq,component)=(3,22,1)\n",
    "    M_dB_tot=zeros(M_dB_val)#(spec_params,component,freq)=(3,3,22)\n",
    "    M_dB_tot=np.array(M_dB_tot)\n",
    "    \n",
    "   \n",
    "\n",
    "    G = np.diag(np.array(gain_params_tot)) #(freq,freq)=(22,22)\n",
    "    G_M_dB_val = np.zeros((24,22,3))\n",
    "    G_M_dB_val[:3,:] = np.einsum('scf, fg-> sgc', M_dB_tot,G) #(number of derivatives(spect), freq, component)= (3,22,3)\n",
    "\n",
    "    \n",
    "    \n",
    "    A_dB_new= np.add(G_dB_M,G_M_dB_val)#(params_tot,freq,component)=(24,22,3)\n",
    "    return A_dB_new\n",
    "\n",
    "\n",
    "\n",
    "A_dB_maxL= A_diff_new(result.x)\n"
   ]
  },
  {
   "cell_type": "code",
   "execution_count": 212,
   "metadata": {},
   "outputs": [
    {
     "name": "stdout",
     "output_type": "stream",
     "text": [
      "(3, 22)\n",
      "(22, 22)\n",
      "(22, 3)\n",
      "(3, 22, 24)\n",
      "(24, 22, 3)\n"
     ]
    }
   ],
   "source": [
    "#here all the shape that I need to control for the long formula below of W_dB_maxL\n",
    "\n",
    "print(A_maxL.T.shape)\n",
    "print(invN.shape)\n",
    "print(A_maxL.shape)\n",
    "\n",
    "print(A_dB_maxL.T.shape)\n",
    "print(A_dB_maxL.shape)"
   ]
  },
  {
   "cell_type": "code",
   "execution_count": 213,
   "metadata": {},
   "outputs": [
    {
     "ename": "ValueError",
     "evalue": "operands could not be broadcast together with shapes (3,24,3) (3,24,22) ",
     "output_type": "error",
     "traceback": [
      "\u001b[0;31m---------------------------------------------------------------------------\u001b[0m",
      "\u001b[0;31mValueError\u001b[0m                                Traceback (most recent call last)",
      "Cell \u001b[0;32mIn[213], line 9\u001b[0m\n\u001b[1;32m      5\u001b[0m c \u001b[39m=\u001b[39m np\u001b[39m.\u001b[39mlinalg\u001b[39m.\u001b[39minv(np\u001b[39m.\u001b[39meinsum(\u001b[39m'\u001b[39m\u001b[39mcf, fx, xs-> cs\u001b[39m\u001b[39m'\u001b[39m,A_maxL\u001b[39m.\u001b[39mT, invN, A_maxL))\n\u001b[1;32m      6\u001b[0m d \u001b[39m=\u001b[39m np\u001b[39m.\u001b[39meinsum(\u001b[39m'\u001b[39m\u001b[39mcfg, fx-> cgx\u001b[39m\u001b[39m'\u001b[39m,A_dB_maxL\u001b[39m.\u001b[39mT, invN)\n\u001b[0;32m----> 9\u001b[0m W_dB_maxL \u001b[39m=\u001b[39m np\u001b[39m.\u001b[39;49meinsum(\u001b[39m'\u001b[39;49m\u001b[39mcx, xgi, iy-> cgy\u001b[39;49m\u001b[39m'\u001b[39;49m, a , b, c) \u001b[39m+\u001b[39;49m np\u001b[39m.\u001b[39;49meinsum(\u001b[39m'\u001b[39;49m\u001b[39mcx, xgf-> cgf\u001b[39;49m\u001b[39m'\u001b[39;49m, c, d)\n\u001b[1;32m     13\u001b[0m \u001b[39m#W_dB_maxL=-np.linalg.inv(np.einsum('cf, fx, xs-> cs',A_maxL.T, invN, A_maxL)).dot(np.einsum('cfg, fx, xs-> cgs',A_dB_maxL.T, invN, A_maxL)+ np.einsum('cf, fx, gxs-> cgs',A_maxL.T, invN, A_dB_maxL)).dot(np.linalg.inv(np.einsum('cf, fx, xs-> cs',A_maxL.T, invN, A_maxL)))+ np.linalg.inv(np.einsum('cf, fx, xs-> cs',A_maxL.T, invN, A_maxL)).dot(np.einsum('cfg, fx-> cgx',A_dB_maxL.T, invN))\u001b[39;00m\n\u001b[1;32m     14\u001b[0m \u001b[39mprint\u001b[39m(W_dB_maxL\u001b[39m.\u001b[39mshape)\n",
      "\u001b[0;31mValueError\u001b[0m: operands could not be broadcast together with shapes (3,24,3) (3,24,22) "
     ]
    }
   ],
   "source": [
    "#with the dot method it doesn't work because as you see in the photo that I sent to you on Slack \n",
    "#the yellow calculation is a problem if I do not control the position of the components ... so I used the Einstein sum\n",
    "#W_dB_maxL= -np.linalg.inv(A_maxL.T.dot(invN).dot(A_maxL)).dot((A_dB_maxL.T.dot(invN).dot(A_maxL)+A_maxL.T.dot(invN).dot(A_dB_maxL))).dot(np.linalg.inv(A_maxL.T.dot(invN).dot(A_dB_maxL))) + np.linalg.inv(A_maxL.T.dot(invN).dot(A_maxL)).dot(A_dB_maxL.T).dot(invN)\n",
    "\n",
    "\n",
    "\n",
    "#legend in the Slack photo\n",
    "a = -np.linalg.inv(np.einsum('cf, fx, xs-> cs',A_maxL.T, invN, A_maxL))\n",
    "b = np.einsum('cfg, fx, xs-> cgs',A_dB_maxL.T, invN, A_maxL)+ np.einsum('cf, fx, gxs-> cgs',A_maxL.T, invN, A_dB_maxL)\n",
    "c = np.linalg.inv(np.einsum('cf, fx, xs-> cs',A_maxL.T, invN, A_maxL))\n",
    "d = np.einsum('cfg, fx-> cgx',A_dB_maxL.T, invN)\n",
    "\n",
    "\n",
    "W_dB_maxL = np.einsum('cx, xgi, iy-> cgy', a , b, c) + np.einsum('cx, xgf-> cgf', c, d)\n",
    "\n",
    "print(W_dB_maxL.shape)"
   ]
  },
  {
   "cell_type": "code",
   "execution_count": null,
   "metadata": {},
   "outputs": [],
   "source": [
    "\n",
    "\n",
    "\n",
    "\n",
    "# W_dB_maxL = W_dB(A_maxL, A_dB_maxL, M.comp_of_dB, invN=invN)[:, i_cmb]\n",
    "# W_dBdB_maxL = W_dBdB(A_maxL, A_dB_maxL, A_dBdB_maxL,M.comp_of_dB, invN=invN)[:, :, i_cmb]\n",
    "\n",
    "# print(W_maxL.shape)\n",
    "# print(W_dB_maxL.shape)\n",
    "# print(W_dBdB_maxL.shape)\n",
    "# V_maxL = np.einsum('ii,xyz->...', sigma_params_square, W_dBdB_maxL)\n",
    "\n",
    "\n",
    "# #Cl\n",
    "# if n_stokes == 3:  \n",
    "#     d_spectra = freq_maps_N\n",
    "# else:  # Only P is provided, add T for map2alm\n",
    "#     d_spectra = np.zeros((n_freqs, 3, freq_maps_N.shape[2]), dtype=freq_maps_N.dtype)\n",
    "#     d_spectra[:, 1:] = freq_maps_N\n",
    "\n",
    "\n",
    "# # almBs = [hp.map2alm(freq_maps_N, lmax=lmax, iter=10)[2] for freq_map in freq_maps_N]\n",
    "# Cl_fgs = np.zeros((n_freqs, n_freqs, lmax+1), dtype=freq_maps.dtype)\n",
    "# # for f1 in range(n_freqs):\n",
    "# #     for f2 in range(n_freqs):\n",
    "# #         if f1 > f2:\n",
    "# #             Cl_fgs[f1, f2] = Cl_fgs[f2, f1]\n",
    "# #         else:\n",
    "# #             Cl_fgs[f1, f2] = hp.alm2cl(almBs[f1], almBs[f2], lmax=lmax)\n",
    "\n",
    "# # Cl_fgs = Cl_fgs[..., lmin:] / fsky\n",
    "\n",
    "# Cl_noise = _get_Cl_noise(instrument, A_maxL, lmax)[ i_cmb,  i_cmb, lmin:]\n",
    "\n",
    "\n",
    "\n",
    "\n",
    "\n",
    "# Cl_noise = _get_Cl_noise(instrument, A_maxL, lmax)[ i_cmb,  i_cmb, lmin:]\n",
    "\n",
    "# # elementary quantities defined in Stompor, Errard, Poletti (2016)\n",
    "# Cl_xF = {}\n",
    "# Cl_xF['yy'] = _utmv(W_maxL, Cl_fgs.T, W_maxL)  # (ell,)\n",
    "# Cl_xF['YY'] = _mmm(W_dB_maxL, Cl_fgs.T, W_dB_maxL.T)  # (ell, param, param)\n",
    "# # Cl_xF['yz'] = _utmv(W_maxL, Cl_fgs.T, V_maxL )  # (ell,)\n",
    "# Cl_xF['Yy'] = _mmv(W_dB_maxL, Cl_fgs.T, W_maxL)  # (ell, param)\n",
    "# # Cl_xF['Yz'] = _mmv(W_dB_maxL, Cl_fgs.T, V_maxL)  # (ell, param)\n",
    "\n",
    "\n",
    "\n",
    "# # bias and statistical foregrounds residuals\n",
    "# noise = Cl_noise\n",
    "# bias = 0\n",
    "# stat = np.einsum('ij, lij -> l', sigma_params_square, Cl_xF['YY'])  # E11, Eq. 12\n",
    "# var = stat**2 + 2 * np.einsum('li, ij, lj -> l', # S16, Eq. 28\n",
    "#                                           Cl_xF['Yy'], sigma_params_square, Cl_xF['Yy'])\n",
    "\n",
    "# # control\n",
    "# BB_residual=noise+stat\n",
    "# print(BB_residual)\n",
    "# print(Cl_BB_residual)\n",
    "\n"
   ]
  },
  {
   "cell_type": "code",
   "execution_count": null,
   "metadata": {},
   "outputs": [],
   "source": [
    "\n",
    "# W_dB_maxL= -np.linalg.inv(A_maxL.T.dot(invN).dot(A_maxL)).dot((A_dB_maxL.dot(invN).dot(A_maxL)+A_maxL.T.dot(invN).dot(A_dB_maxL))).dot(np.linalg.inv(A_maxL.T.dot(invN).dot(A_dB_maxL))) + np.linalg.inv(A_maxL.T.dot(invN).dot(A_maxL)).dot(A_dB_maxL).dot(invN)\n",
    "# print(W_dB_maxL.shape)\n",
    "\n",
    "# #second derivative (3, 2, 3, 22)\n",
    "# W_dBdB_maxL = np.gradient(W_dB_maxL)# [:, :, i_cmb]\n",
    "# W_dBdB_maxL=np.array(W_dBdB_maxL)\n",
    "# # print(W_dBdB_maxL.shape)\n",
    "\n",
    "# V_maxL = np.einsum('ij,ij...->...', sigma_params_square, W_dBdB_maxL)\n",
    "# almBs = [hp.map2alm(freq_map, lmax=lmax, iter=10)[2] for freq_map in freq_maps]\n",
    "\n",
    "# #Cl\n",
    "# Cl_fgs = np.zeros((n_freqs, n_freqs, lmax+1), dtype=freq_maps.dtype)\n",
    "# for f1 in range(n_freqs):\n",
    "#     for f2 in range(n_freqs):\n",
    "#         if f1 > f2:\n",
    "#             Cl_fgs[f1, f2] = Cl_fgs[f2, f1]\n",
    "#         else:\n",
    "#             Cl_fgs[f1, f2] = hp.alm2cl(almBs[f1], almBs[f2], lmax=lmax)\n",
    "\n",
    "# Cl_fgs = Cl_fgs[..., lmin:] / fsky\n",
    "\n",
    "# Cl_noise = _get_Cl_noise(instrument, A_maxL, lmax)[ i_cmb,  i_cmb, lmin:]\n",
    "\n",
    "\n",
    "\n",
    "# # elementary quantities defined in Stompor, Errard, Poletti (2016)\n",
    "# Cl_xF = {}\n",
    "# Cl_xF['yy'] = _utmv(W_maxL, Cl_fgs.T, W_maxL)  # (ell,)\n",
    "# Cl_xF['YY'] = _mmm(W_dB_maxL, Cl_fgs.T, W_dB_maxL.T)  # (ell, param, param)\n",
    "# Cl_xF['yz'] = _utmv(W_maxL, Cl_fgs.T, V_maxL )  # (ell,)\n",
    "# Cl_xF['Yy'] = _mmv(W_dB_maxL, Cl_fgs.T, W_maxL)  # (ell, param)\n",
    "# Cl_xF['Yz'] = _mmv(W_dB_maxL, Cl_fgs.T, V_maxL)  # (ell, param)\n",
    "\n",
    "\n",
    "# #residual results\n",
    "# noise = Cl_noise\n",
    "# bias = Cl_xF['yy'] + 2 * Cl_xF['yz'] #0\n",
    "# stat = np.einsum('ij, lij -> l', sigma_params_square, Cl_xF['YY'])  \n",
    "# var = stat**2 + 2 * np.einsum('li, ij, lj -> l', Cl_xF['Yy'], sigma_params_square, Cl_xF['Yy'])\n",
    "\n",
    "# #control\n",
    "# BB_residual=noise+stat\n",
    "# print(BB_residual)\n",
    "# print(Cl_BB_residual)\n"
   ]
  }
 ],
 "metadata": {
  "kernelspec": {
   "display_name": "gain_env",
   "language": "python",
   "name": "python3"
  },
  "language_info": {
   "codemirror_mode": {
    "name": "ipython",
    "version": 3
   },
   "file_extension": ".py",
   "mimetype": "text/x-python",
   "name": "python",
   "nbconvert_exporter": "python",
   "pygments_lexer": "ipython3",
   "version": "3.9.13"
  },
  "orig_nbformat": 4
 },
 "nbformat": 4,
 "nbformat_minor": 2
}
